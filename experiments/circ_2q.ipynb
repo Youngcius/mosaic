{
 "cells": [
  {
   "cell_type": "code",
   "execution_count": 1,
   "metadata": {},
   "source": [
    "import sys\n",
    "sys.path.append('..')\n",
    "\n",
    "import numpy as np\n",
    "import cirq\n",
    "import mitiq\n",
    "from cirq.contrib.qasm_import import circuit_from_qasm\n",
    "import matplotlib.pyplot as plt\n",
    "from functools import partial\n",
    "from tqdm import tqdm\n",
    "import sympy as sp\n",
    "\n",
    "\n",
    "import mosaic\n",
    "\n"
   ],
   "outputs": []
  },
  {
   "cell_type": "markdown",
   "metadata": {},
   "source": [
    "**construct the ideal circuit**"
   ]
  },
  {
   "cell_type": "code",
   "execution_count": 2,
   "metadata": {},
   "source": [
    "qubits = cirq.LineQubit.range(2)\n",
    "circ = cirq.Circuit([\n",
    "    cirq.H(qubits[0]),\n",
    "    cirq.H(qubits[1]),\n",
    "    cirq.CNOT(qubits[0], qubits[1]),\n",
    "    cirq.X.on(qubits[0]),\n",
    "    cirq.T.on(qubits[1]),\n",
    "    cirq.CNOT(qubits[1], qubits[0]),\n",
    "    cirq.ZPowGate(exponent=0.1).on(qubits[0]),\n",
    "    cirq.S.on(qubits[1]),\n",
    "    cirq.CNOT(qubits[0], qubits[1]),\n",
    "    cirq.XPowGate(exponent=0.1).on(qubits[0]),\n",
    "    cirq.H.on(qubits[1]),\n",
    "    cirq.CNOT(qubits[1], qubits[0]),\n",
    "])\n",
    "# circ = cirq.Circuit([  # only involves 2-qubit gates\n",
    "#     cirq.XXPowGate(exponent=0.1).on(qubits[0], qubits[1]),\n",
    "#     cirq.Rz(rads=0.2).on(qubits[1]).controlled_by(qubits[0]),\n",
    "#     cirq.YYPowGate(exponent=0.1).on(qubits[0], qubits[1]),\n",
    "#     cirq.Rx(rads=0.1).on(qubits[0]).controlled_by(qubits[1]),\n",
    "#     cirq.ZZPowGate(exponent=0.1).on(qubits[0], qubits[1]),\n",
    "# ])\n",
    "circ"
   ],
   "outputs": []
  },
  {
   "cell_type": "code",
   "execution_count": 3,
   "metadata": {},
   "source": [
    "init_state = np.array([\n",
    "    [1, 0, 0, 0],\n",
    "    [0, 0, 0, 0],\n",
    "    [0, 0, 0, 0],\n",
    "    [0, 0, 0, 0],\n",
    "]).astype(complex)\n",
    "final_state = circ.unitary() @ init_state @ circ.unitary().conj().T\n",
    "prob_11 = final_state[1, 1].real\n",
    "prob_11"
   ],
   "outputs": []
  },
  {
   "cell_type": "code",
   "execution_count": 4,
   "metadata": {},
   "source": [
    "final_state.round(3)"
   ],
   "outputs": []
  },
  {
   "cell_type": "code",
   "execution_count": 5,
   "metadata": {},
   "source": [
    "n = len(qubits)\n",
    "p_cirq = 0.01\n",
    "p = 4**n / (4**n - 1) * p_cirq\n",
    "print(f'p_cirq = {p_cirq}, p = {p}')"
   ],
   "outputs": []
  },
  {
   "cell_type": "code",
   "execution_count": 6,
   "metadata": {},
   "source": [
    "circ_noise_interleaved = cirq.Circuit()\n",
    "for g in circ.all_operations():\n",
    "    circ_noise_interleaved.append(g)\n",
    "    circ_noise_interleaved.append(cirq.depolarize(p_cirq, 2).on(*qubits))\n",
    "circ_noise_interleaved"
   ],
   "outputs": []
  },
  {
   "cell_type": "code",
   "execution_count": 7,
   "metadata": {},
   "source": [
    "r = mosaic.circuits.num_gates(circ)\n",
    "p_r = 1 - (1 - p)**r\n",
    "p_r_cirq = p_r * (4**n - 1) / 4**n\n",
    "print(f'p_r_cirq = {p_r_cirq}, p = {p_r}')\n",
    "circ_noise = circ.copy()\n",
    "circ_noise.append(cirq.depolarize(p_r_cirq, 2).on(*qubits))\n",
    "circ_noise"
   ],
   "outputs": []
  },
  {
   "cell_type": "markdown",
   "metadata": {},
   "source": [
    "**noisy simulation comparison**"
   ]
  },
  {
   "cell_type": "code",
   "execution_count": 8,
   "metadata": {},
   "source": [
    "sim = cirq.DensityMatrixSimulator()\n",
    "\n",
    "rho1 = sim.simulate(circ_noise_interleaved).final_density_matrix\n",
    "rho2 = sim.simulate(circ_noise).final_density_matrix\n",
    "\n",
    "assert np.allclose(rho1, rho2, atol=1e-5), \"rho1 and rho2 should be equal!\""
   ],
   "outputs": []
  },
  {
   "cell_type": "markdown",
   "metadata": {},
   "source": [
    "**append inverse channel to `circ_noise`**"
   ]
  },
  {
   "cell_type": "code",
   "execution_count": 9,
   "metadata": {},
   "source": [
    "circ_noise"
   ],
   "outputs": []
  },
  {
   "cell_type": "code",
   "execution_count": 10,
   "metadata": {},
   "source": [
    "final_state_noise = cirq.DensityMatrixSimulator().simulate(circ_noise).final_density_matrix\n",
    "prob_11_noise = final_state_noise[1, 1].real\n",
    "print('disparity = ', prob_11_noise - prob_11)"
   ],
   "outputs": []
  },
  {
   "cell_type": "markdown",
   "metadata": {},
   "source": [
    "**Testing our error mitigation approach**:\n",
    "\n",
    "- baseline: conventional PEC method\n",
    "- baseline: linear combination of two noisy channels: $\\mathcal{E}^{-1} = \\eta_1\\mathcal{E}_1 - \\eta_2\\mathcal{E}_2$ in which both $\\mathcal{E}_1$ and $\\mathcal{E}_2$ are depolarizing channels (CPTP)\n",
    "- our end-to-end PEC method: ..."
   ]
  },
  {
   "cell_type": "code",
   "execution_count": 11,
   "metadata": {},
   "source": [
    "# baseline: conventional PEC\n",
    "\n",
    "# def execute(circ: cirq.Circuit):\n",
    "#     return cirq.DensityMatrixSimulator().simulate(circ).final_density_matrix[1,1].real\n",
    "\n",
    "def execute_noisy(circ: cirq.Circuit, p_cirq):\n",
    "    n = cirq.num_qubits(circ)\n",
    "    p = 4**n / (4**n - 1) * p_cirq\n",
    "    p_r = 1 - (1 - p)**r\n",
    "    p_r_cirq = p_r * (4**n - 1) / 4**n\n",
    "    qubits = list(circ.all_qubits())\n",
    "    circ_noise = circ.copy()\n",
    "    circ_noise.append(cirq.depolarize(p_r_cirq, 2).on(*qubits))\n",
    "    return cirq.DensityMatrixSimulator().simulate(circ_noise).final_density_matrix[1,1].real\n",
    "\n",
    "def execute_noise_interleaved(circ: cirq.Circuit, p_cirq):\n",
    "    circ_noise_interleaved = cirq.Circuit()\n",
    "    for moment in circ:\n",
    "        circ_noise_interleaved.append(moment)\n",
    "        circ_noise_interleaved.append(cirq.depolarize(p_cirq, 2).on(*qubits))\n",
    "    return cirq.DensityMatrixSimulator().simulate(circ_noise_interleaved).final_density_matrix[1,1].real\n"
   ],
   "outputs": []
  },
  {
   "cell_type": "code",
   "execution_count": 12,
   "metadata": {},
   "source": [
    "rates_cirq = np.linspace(0, 0.1, 11)\n",
    "noisy_vals = [execute_noisy(circ, p_cirq) for p_cirq in rates_cirq]"
   ],
   "outputs": []
  },
  {
   "cell_type": "code",
   "execution_count": 202,
   "metadata": {},
   "source": [
    "reps = mitiq.pec.represent_operations_in_circuit_with_global_depolarizing_noise(circ, p)\n",
    "mitiq.pec.execute_with_pec(circ, partial(execute_noisy, p_cirq=p_cirq), representations=reps, random_state=42)"
   ],
   "outputs": []
  },
  {
   "cell_type": "markdown",
   "metadata": {},
   "source": [
    "baseline: conventional PEC method"
   ]
  },
  {
   "cell_type": "code",
   "execution_count": 211,
   "metadata": {},
   "source": [
    "pec_vals = []\n",
    "\n",
    "for p_cirq in tqdm(rates_cirq):\n",
    "    reps = mitiq.pec.represent_operations_in_circuit_with_global_depolarizing_noise(circ, p_cirq)\n",
    "    pec_vals.append(mitiq.pec.execute_with_pec(circ, partial(execute_noisy, p_cirq=p_cirq), \n",
    "                                                  representations=reps, random_state=42))"
   ],
   "outputs": []
  },
  {
   "cell_type": "code",
   "execution_count": 214,
   "metadata": {},
   "source": [
    "plt.figure(figsize=(5, 3))\n",
    "plt.plot(rates_cirq, noisy_vals, 'o-', label='Noisy')\n",
    "plt.plot(rates_cirq, pec_vals, 'o-', label='PEC')\n",
    "plt.axhline(prob_11, color='k', linestyle='--', label='Ideal')\n",
    "plt.legend()\n",
    "plt.show()"
   ],
   "outputs": []
  },
  {
   "cell_type": "code",
   "execution_count": null,
   "metadata": {},
   "source": [],
   "outputs": []
  },
  {
   "cell_type": "code",
   "execution_count": 150,
   "metadata": {},
   "source": [
    "# def execute_local_depolarizing(circ: cirq.Circuit, p_cirq):\n",
    "#     circ_local_noise = circ.copy()\n",
    "#     circ_local_noise = circ_local_noise.with_noise(cirq.depolarize(p_cirq))\n",
    "#     return cirq.DensityMatrixSimulator().simulate(circ_local_noise).final_density_matrix[1,1].real\n",
    "\n",
    "# noisy_vals = [execute_local_depolarizing(circ, p_cirq) for p_cirq in rates_cirq[:6]]\n",
    "\n",
    "# pec_vals = []\n",
    "\n",
    "# for p_cirq in tqdm(rates_cirq):\n",
    "#     p = 4**n / (4**n - 1) * p_cirq\n",
    "#     reps = mitiq.pec.represent_operations_in_circuit_with_local_depolarizing_noise(circ, p)\n",
    "#     pec_vals.append(mitiq.pec.execute_with_pec(circ, \n",
    "#                                                partial(execute_local_depolarizing, p_cirq=p_cirq), \n",
    "#                                                representations=reps, random_state=42))\n"
   ],
   "outputs": []
  },
  {
   "cell_type": "markdown",
   "metadata": {},
   "source": [
    "baseline: linear combination of two noisy channels: $\\mathcal{E}^{-1} = \\eta_1\\mathcal{E}_1 - \\eta_2\\mathcal{E}_2$ in which both $\\mathcal{E}_1$ and $\\mathcal{E}_2$ are depolarizing channels (CPTP)"
   ]
  },
  {
   "cell_type": "code",
   "execution_count": 13,
   "metadata": {},
   "source": [
    "def inv_channel_rate(epsilon, n=1):\n",
    "    return (4**n-1) * epsilon / (4**n-1 - 4**n * epsilon)\n",
    "\n",
    "def decompose_inv_channel(eta_1, epsilon_inv):\n",
    "    \"\"\"\n",
    "    The result is a relationship between epsilon_1 and epsilon_2 for subsequent manual settings for their specific values.\n",
    "    \"\"\"\n",
    "    import sympy as sp\n",
    "    # 定义未知数\n",
    "    epsilon_1, epsilon_2 = sp.symbols('epsilon_1 epsilon_2')\n",
    "\n",
    "    # 已知常数\n",
    "    eta_2 = eta_1 - 1  # 例如\n",
    "\n",
    "    # 定义方程\n",
    "    eq1 = sp.Eq(eta_1 * (1 - epsilon_1) - eta_2 * (1 - epsilon_2), 1 + epsilon_inv)\n",
    "    eq2 = sp.Eq(eta_1 * epsilon_1 + epsilon_inv, eta_2 * epsilon_2)\n",
    "\n",
    "    # 求解方程组\n",
    "    solutions = sp.solve((eq1, eq2), (epsilon_1, epsilon_2))\n",
    "\n",
    "    return solutions"
   ],
   "outputs": []
  },
  {
   "cell_type": "code",
   "execution_count": 94,
   "metadata": {},
   "source": [
    "eta_1 = r // 2 # it is a heuristic super-parameter\n",
    "eta_2 = eta_1 - 1\n",
    "\n",
    "epsilon_1 = sp.symbols('epsilon_1')\n",
    "epsilon_2 = sp.symbols('epsilon_2')\n",
    "sol = decompose_inv_channel(eta_1, round(inv_channel_rate(p_r_cirq, 2), 10))\n",
    "sol"
   ],
   "outputs": []
  },
  {
   "cell_type": "code",
   "execution_count": 95,
   "metadata": {},
   "source": [
    "p2 = 0.05\n",
    "p1 = float(sol[epsilon_1].subs(epsilon_2, p2))\n",
    "print(f\"p1 = {p1}, p2 = {p2}\")"
   ],
   "outputs": []
  },
  {
   "cell_type": "code",
   "execution_count": 96,
   "metadata": {},
   "source": [
    "# verify the correctness of (eta_1, eta_2, p1, p2) -> K_inv\n",
    "assert np.allclose(eta_1 * (1 - p1) - eta_2 * (1 - p2), 1 + inv_channel_rate(p_r_cirq, 2))\n",
    "assert np.allclose(eta_1 * p1 - eta_2 * p2, - inv_channel_rate(p_r_cirq, 2))\n",
    "\n",
    "channel = cirq.depolarize(p_r_cirq, 2)\n",
    "super_opr = cirq.kraus_to_superoperator(cirq.protocols.kraus_protocol.kraus(channel))\n",
    "super_opr_inv = np.linalg.inv(super_opr)\n",
    "\n",
    "super_opr_1 = cirq.kraus_to_superoperator(cirq.protocols.kraus_protocol.kraus(cirq.depolarize(p1, 2)))\n",
    "super_opr_2 = cirq.kraus_to_superoperator(cirq.protocols.kraus_protocol.kraus(cirq.depolarize(p2, 2)))\n",
    "\n",
    "K_inv = (eta_1 * super_opr_1 - eta_2 * super_opr_2)\n",
    "\n",
    "assert np.allclose(super_opr_inv, K_inv)"
   ],
   "outputs": []
  },
  {
   "cell_type": "code",
   "execution_count": 97,
   "metadata": {},
   "source": [
    "# let's do linear combination of the effect of inverse channel\n",
    "circ_noise"
   ],
   "outputs": []
  },
  {
   "cell_type": "code",
   "execution_count": 98,
   "metadata": {},
   "source": [
    "circ_noise_1 = circ_noise.copy()\n",
    "circ_noise_2 = circ_noise.copy()\n",
    "circ_noise_1.append(cirq.depolarize(p1, 2).on(*qubits))\n",
    "circ_noise_2.append(cirq.depolarize(p2, 2).on(*qubits))"
   ],
   "outputs": []
  },
  {
   "cell_type": "code",
   "execution_count": 99,
   "metadata": {},
   "source": [
    "res1 = cirq.DensityMatrixSimulator().simulate(circ_noise_1).final_density_matrix[1,1].real\n",
    "res2 = cirq.DensityMatrixSimulator().simulate(circ_noise_2).final_density_matrix[1,1].real\n",
    "res1, res2"
   ],
   "outputs": []
  },
  {
   "cell_type": "code",
   "execution_count": 100,
   "metadata": {},
   "source": [
    "res = eta_1 * res1 - eta_2 * res2\n",
    "print(prob_11, prob_11_noise, res)\n",
    "print('disparity = ', res - prob_11)"
   ],
   "outputs": []
  },
  {
   "cell_type": "code",
   "execution_count": 102,
   "metadata": {},
   "source": [
    "rates_cirq_inv = np.vectorize(inv_channel_rate)(rates_cirq)\n",
    "print(rates_cirq)\n",
    "print(rates_cirq_inv.round(4))"
   ],
   "outputs": []
  },
  {
   "cell_type": "code",
   "execution_count": 134,
   "metadata": {},
   "source": [
    "def extract_slope(f: sp.Add):\n",
    "    return f.as_coefficients_dict()[sp.symbols('epsilon_1')]"
   ],
   "outputs": []
  },
  {
   "cell_type": "code",
   "execution_count": 142,
   "metadata": {},
   "source": [],
   "outputs": []
  },
  {
   "cell_type": "code",
   "execution_count": 155,
   "metadata": {},
   "source": [
    "er_vals = []\n",
    "for p_cirq in rates_cirq:\n",
    "    print('---')\n",
    "    n = cirq.num_qubits(circ)\n",
    "    p = 4**n / (4**n - 1) * p_cirq\n",
    "    p_r = 1 - (1 - p)**r\n",
    "    p_r_cirq = p_r * (4**n - 1) / 4**n\n",
    "    qubits = list(circ.all_qubits())\n",
    "    circ_er = circ.copy() # error-renormalizing circuit\n",
    "    circ_er.append(cirq.depolarize(p_r_cirq, 2).on(*qubits))\n",
    "    p_r_cirq_inv = inv_channel_rate(p_r_cirq, 2)\n",
    "    # print(p_r_cirq, p_r_cirq_inv)\n",
    "\n",
    "    eta_1 = r # it is a heuristic super-parameter\n",
    "    eta_2 = eta_1 - 1\n",
    "\n",
    "    epsilon_1 = sp.symbols('epsilon_1')\n",
    "    epsilon_2 = sp.symbols('epsilon_2')\n",
    "    sol = decompose_inv_channel(eta_1, round(inv_channel_rate(p_r_cirq, 2), 10))\n",
    "    # print(sol)\n",
    "    # extract \"k\" from \"kx + b\"\n",
    "    p2 = p_r_cirq / 2 * float(sol[epsilon_1].as_coefficients_dict()[epsilon_2])\n",
    "    p1 = float(sol[epsilon_1].subs(epsilon_2, p2))\n",
    "    print(f\"p1 = {p1}, p2 = {p2}\")\n",
    "\n",
    "    circ_noise_1 = circ_er.copy()\n",
    "    circ_noise_2 = circ_er.copy()\n",
    "    circ_noise_1.append(cirq.depolarize(p1, 2).on(*qubits))\n",
    "    circ_noise_2.append(cirq.depolarize(p2, 2).on(*qubits))\n",
    "    res1 = cirq.DensityMatrixSimulator().simulate(circ_noise_1).final_density_matrix[1,1].real\n",
    "    res2 = cirq.DensityMatrixSimulator().simulate(circ_noise_2).final_density_matrix[1,1].real\n",
    "    res = eta_1 * res1 - eta_2 * res2\n",
    "    er_vals.append(res)\n"
   ],
   "outputs": []
  },
  {
   "cell_type": "markdown",
   "metadata": {},
   "source": [
    "Tips:\n",
    "- 增加 $\\eta_1$, $eta_2$ 能够减小 $\\epsilon_1$ 和 $\\epsilon_2$\n",
    "- 给定 $\\eta_1$, $eta_2$ 的情况下，求解出的最终结果是 $\\epsilon_1 = k_{\\eta_1, \\eta_2}\\epsilon - b_{\\epsilon}$. 其中 $k_{\\eta_1, \\eta_2}$ only depends on $(\\eta_1,\\eta_2)$; $b_\\epsilon > 0$ 且与 $\\epsilon$ 正相关. 因此对于更大的noise level, 可以考虑增大 $\\eta_1$, $\\eta_2$ 以减小 $\\epsilon_1$ 和 $\\epsilon_2$"
   ]
  },
  {
   "cell_type": "code",
   "execution_count": 157,
   "metadata": {},
   "source": [
    "plt.figure(figsize=(5, 3))\n",
    "plt.plot(rates_cirq, noisy_vals, 'o-', label='Noisy')\n",
    "plt.plot(rates_cirq, er_vals, 'o-', label='Error renormalizing')\n",
    "plt.axhline(prob_11, color='k', linestyle='--', label='Ideal')\n",
    "plt.legend()\n",
    "plt.show()"
   ],
   "outputs": []
  },
  {
   "cell_type": "markdown",
   "metadata": {},
   "source": [
    "our end-to-end PEC method for general Pauli channel $\\mathcal{E}$: "
   ]
  },
  {
   "cell_type": "code",
   "execution_count": null,
   "metadata": {},
   "source": [],
   "outputs": []
  },
  {
   "cell_type": "code",
   "execution_count": null,
   "metadata": {},
   "source": [],
   "outputs": []
  },
  {
   "cell_type": "code",
   "execution_count": null,
   "metadata": {},
   "source": [],
   "outputs": []
  }
 ],
 "metadata": {
  "kernelspec": {
   "display_name": "base",
   "language": "python",
   "name": "python3"
  },
  "language_info": {
   "codemirror_mode": {
    "name": "ipython",
    "version": 3
   },
   "file_extension": ".py",
   "mimetype": "text/x-python",
   "name": "python",
   "nbconvert_exporter": "python",
   "pygments_lexer": "ipython3",
   "version": "3.8.18"
  }
 },
 "nbformat": 4,
 "nbformat_minor": 2
}
