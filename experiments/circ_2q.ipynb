{
 "cells": [
  {
   "cell_type": "code",
   "execution_count": 1,
   "metadata": {},
   "outputs": [],
   "source": [
    "import sys\n",
    "sys.path.append('..')\n",
    "\n",
    "import numpy as np\n",
    "import cirq\n",
    "import mitiq\n",
    "from cirq.contrib.qasm_import import circuit_from_qasm\n",
    "from cirq.contrib.svg import SVGCircuit\n",
    "import matplotlib.pyplot as plt\n",
    "from qiskit import QuantumCircuit\n",
    "from functools import partial\n",
    "from tqdm import tqdm\n",
    "import sympy as sp\n",
    "import json\n",
    "import pickle\n",
    "\n",
    "import mosaic"
   ]
  },
  {
   "cell_type": "markdown",
   "metadata": {},
   "source": [
    "**construct the ideal circuit**"
   ]
  },
  {
   "cell_type": "code",
   "execution_count": 2,
   "metadata": {},
   "outputs": [
    {
     "data": {
      "image/png": "[encoded data removed]",
      "text/plain": [
       "<Figure size 788.961x200.667 with 1 Axes>"
      ]
     },
     "execution_count": 2,
     "metadata": {},
     "output_type": "execute_result"
    }
   ],
   "source": [
    "qubits = cirq.LineQubit.range(2)\n",
    "circ = cirq.Circuit([\n",
    "    cirq.H(qubits[0]),\n",
    "    cirq.H(qubits[1]),\n",
    "    cirq.CNOT(qubits[0], qubits[1]),\n",
    "    cirq.X.on(qubits[0]),\n",
    "    cirq.T.on(qubits[1]),\n",
    "    cirq.CNOT(qubits[1], qubits[0]),\n",
    "    cirq.ZPowGate(exponent=0.1).on(qubits[0]),\n",
    "    cirq.S.on(qubits[1]),\n",
    "    cirq.CNOT(qubits[0], qubits[1]),\n",
    "    cirq.XPowGate(exponent=0.1).on(qubits[0]),\n",
    "    cirq.H.on(qubits[1]),\n",
    "    cirq.CNOT(qubits[1], qubits[0]),\n",
    "])\n",
    "# circ = cirq.Circuit([  # only involves 2-qubit gates\n",
    "#     cirq.XXPowGate(exponent=0.1).on(qubits[0], qubits[1]),\n",
    "#     cirq.Rz(rads=0.2).on(qubits[1]).controlled_by(qubits[0]),\n",
    "#     cirq.YYPowGate(exponent=0.1).on(qubits[0], qubits[1]),\n",
    "#     cirq.Rx(rads=0.1).on(qubits[0]).controlled_by(qubits[1]),\n",
    "#     cirq.ZZPowGate(exponent=0.1).on(qubits[0], qubits[1]),\n",
    "# ])\n",
    "QuantumCircuit.from_qasm_str(circ.to_qasm()).draw('mpl', filename='circ_2q.pdf')"
   ]
  },
  {
   "cell_type": "code",
   "execution_count": 3,
   "metadata": {},
   "outputs": [
    {
     "data": {
      "text/plain": [
       "0.46753024329587667"
      ]
     },
     "execution_count": 3,
     "metadata": {},
     "output_type": "execute_result"
    }
   ],
   "source": [
    "init_state = np.array([\n",
    "    [1, 0, 0, 0],\n",
    "    [0, 0, 0, 0],\n",
    "    [0, 0, 0, 0],\n",
    "    [0, 0, 0, 0],\n",
    "]).astype(complex)\n",
    "final_state = circ.unitary() @ init_state @ circ.unitary().conj().T\n",
    "prob_11 = final_state[1, 1].real\n",
    "prob_11"
   ]
  },
  {
   "cell_type": "code",
   "execution_count": 4,
   "metadata": {},
   "outputs": [
    {
     "data": {
      "text/plain": [
       "array([[ 0.08 +0.j   , -0.109-0.16j ,  0.07 -0.022j,  0.052+0.168j],\n",
       "       [-0.109+0.16j ,  0.468+0.j   , -0.052+0.168j, -0.406-0.125j],\n",
       "       [ 0.07 +0.022j, -0.052-0.168j,  0.066+0.j   ,  0.   +0.16j ],\n",
       "       [ 0.052-0.168j, -0.406+0.125j,  0.   -0.16j ,  0.386+0.j   ]])"
      ]
     },
     "execution_count": 4,
     "metadata": {},
     "output_type": "execute_result"
    }
   ],
   "source": [
    "final_state.round(3)"
   ]
  },
  {
   "cell_type": "code",
   "execution_count": 5,
   "metadata": {},
   "outputs": [
    {
     "name": "stdout",
     "output_type": "stream",
     "text": [
      "p_cirq = 0.01, p = 0.010666666666666666\n"
     ]
    }
   ],
   "source": [
    "n = len(qubits)\n",
    "p_cirq = 0.01\n",
    "p = 4**n / (4**n - 1) * p_cirq\n",
    "print(f'p_cirq = {p_cirq}, p = {p}')"
   ]
  },
  {
   "cell_type": "code",
   "execution_count": 6,
   "metadata": {},
   "outputs": [
    {
     "data": {
      "text/html": [
       "<pre style=\"overflow: auto; white-space: pre;\">0: ───H───D(0.01)───────D(0.01)───@───D(0.01)───X───D(0.01)───────D(0.01)───X───D(0.01)───Z^0.1───D(0.01)───────D(0.01)───@───D(0.01)───X^0.1───D(0.01)───────D(0.01)───X───D(0.01)───\n",
       "          │             │         │   │             │             │         │   │                 │             │         │   │                 │             │         │   │\n",
       "1: ───────#2────────H───#2────────X───#2────────────#2────────T───#2────────@───#2────────────────#2────────S───#2────────X───#2────────────────#2────────H───#2────────@───#2────────</pre>"
      ],
      "text/plain": [
       "0: ───H───D(0.01)───────D(0.01)───@───D(0.01)───X───D(0.01)───────D(0.01)───X───D(0.01)───Z^0.1───D(0.01)───────D(0.01)───@───D(0.01)───X^0.1───D(0.01)───────D(0.01)───X───D(0.01)───\n",
       "          │             │         │   │             │             │         │   │                 │             │         │   │                 │             │         │   │\n",
       "1: ───────#2────────H───#2────────X───#2────────────#2────────T───#2────────@───#2────────────────#2────────S───#2────────X───#2────────────────#2────────H───#2────────@───#2────────"
      ]
     },
     "execution_count": 6,
     "metadata": {},
     "output_type": "execute_result"
    }
   ],
   "source": [
    "circ_noise_interleaved = cirq.Circuit()\n",
    "for g in circ.all_operations():\n",
    "    circ_noise_interleaved.append(g)\n",
    "    circ_noise_interleaved.append(cirq.depolarize(p_cirq, 2).on(*qubits))\n",
    "circ_noise_interleaved"
   ]
  },
  {
   "cell_type": "code",
   "execution_count": 7,
   "metadata": {},
   "outputs": [
    {
     "name": "stdout",
     "output_type": "stream",
     "text": [
      "p_r_cirq = 0.11320440490756703, p = 0.12075136523473817\n"
     ]
    },
    {
     "data": {
      "text/html": [
       "<pre style=\"overflow: auto; white-space: pre;\">0: ───H───@───X───X───Z^0.1───@───X^0.1───X───D(0.113)───\n",
       "          │       │           │           │   │\n",
       "1: ───H───X───T───@───S───────X───H───────@───#2─────────</pre>"
      ],
      "text/plain": [
       "0: ───H───@───X───X───Z^0.1───@───X^0.1───X───D(0.113)───\n",
       "          │       │           │           │   │\n",
       "1: ───H───X───T───@───S───────X───H───────@───#2─────────"
      ]
     },
     "execution_count": 7,
     "metadata": {},
     "output_type": "execute_result"
    }
   ],
   "source": [
    "r = mosaic.circuits.num_gates(circ)\n",
    "p_r = 1 - (1 - p)**r\n",
    "p_r_cirq = p_r * (4**n - 1) / 4**n\n",
    "print(f'p_r_cirq = {p_r_cirq}, p_r = {p_r}')\n",
    "circ_noise = circ.copy()\n",
    "circ_noise.append(cirq.depolarize(p_r_cirq, 2).on(*qubits))\n",
    "circ_noise"
   ]
  },
  {
   "cell_type": "markdown",
   "metadata": {},
   "source": [
    "**noisy simulation comparison**"
   ]
  },
  {
   "cell_type": "code",
   "execution_count": 8,
   "metadata": {},
   "outputs": [],
   "source": [
    "sim = cirq.DensityMatrixSimulator()\n",
    "\n",
    "rho1 = sim.simulate(circ_noise_interleaved).final_density_matrix\n",
    "rho2 = sim.simulate(circ_noise).final_density_matrix\n",
    "\n",
    "assert np.allclose(rho1, rho2, atol=1e-5), \"rho1 and rho2 should be equal!\""
   ]
  },
  {
   "cell_type": "markdown",
   "metadata": {},
   "source": [
    "**append inverse channel to `circ_noise`**"
   ]
  },
  {
   "cell_type": "code",
   "execution_count": 9,
   "metadata": {},
   "outputs": [
    {
     "data": {
      "text/html": [
       "<pre style=\"overflow: auto; white-space: pre;\">0: ───H───@───X───X───Z^0.1───@───X^0.1───X───D(0.113)───\n",
       "          │       │           │           │   │\n",
       "1: ───H───X───T───@───S───────X───H───────@───#2─────────</pre>"
      ],
      "text/plain": [
       "0: ───H───@───X───X───Z^0.1───@───X^0.1───X───D(0.113)───\n",
       "          │       │           │           │   │\n",
       "1: ───H───X───T───@───S───────X───H───────@───#2─────────"
      ]
     },
     "execution_count": 9,
     "metadata": {},
     "output_type": "execute_result"
    }
   ],
   "source": [
    "circ_noise"
   ]
  },
  {
   "cell_type": "code",
   "execution_count": 10,
   "metadata": {},
   "outputs": [
    {
     "name": "stdout",
     "output_type": "stream",
     "text": [
      "disparity =  -0.02626713385030477\n"
     ]
    }
   ],
   "source": [
    "final_state_noise = cirq.DensityMatrixSimulator().simulate(circ_noise).final_density_matrix\n",
    "prob_11_noise = final_state_noise[1, 1].real\n",
    "print('disparity = ', prob_11_noise - prob_11)"
   ]
  },
  {
   "cell_type": "markdown",
   "metadata": {},
   "source": [
    "**Testing our error mitigation approach**:\n",
    "\n",
    "- baseline: conventional PEC method\n",
    "- baseline: linear combination of two noisy channels: $\\mathcal{E}^{-1} = \\eta_1\\mathcal{E}_1 - \\eta_2\\mathcal{E}_2$ in which both $\\mathcal{E}_1$ and $\\mathcal{E}_2$ are depolarizing channels (CPTP)\n",
    "- our end-to-end PEC method: get the expression of $\\mathcal{R}$ as linear combination of Paulis, then sampling noisy Paulis cause ideal Paulis is further linear combinations of noisy Paulis"
   ]
  },
  {
   "cell_type": "code",
   "execution_count": 11,
   "metadata": {},
   "outputs": [],
   "source": [
    "# baseline: conventional PEC\n",
    "\n",
    "# def execute(circ: cirq.Circuit):\n",
    "#     return cirq.DensityMatrixSimulator().simulate(circ).final_density_matrix[1,1].real\n",
    "\n",
    "def execute_noisy(circ: cirq.Circuit, p_cirq):\n",
    "    n = cirq.num_qubits(circ)\n",
    "    p = 4**n / (4**n - 1) * p_cirq\n",
    "    p_r = 1 - (1 - p)**r\n",
    "    p_r_cirq = p_r * (4**n - 1) / 4**n\n",
    "    qubits = list(circ.all_qubits())\n",
    "    circ_noise = circ.copy()\n",
    "    circ_noise.append(cirq.depolarize(p_r_cirq, 2).on(*qubits))\n",
    "    return cirq.DensityMatrixSimulator().simulate(circ_noise).final_density_matrix[1,1].real\n",
    "\n",
    "def execute_noise_interleaved(circ: cirq.Circuit, p_cirq):\n",
    "    circ_noise_interleaved = cirq.Circuit()\n",
    "    for moment in circ:\n",
    "        circ_noise_interleaved.append(moment)\n",
    "        circ_noise_interleaved.append(cirq.depolarize(p_cirq, 2).on(*qubits))\n",
    "    return cirq.DensityMatrixSimulator().simulate(circ_noise_interleaved).final_density_matrix[1,1].real\n"
   ]
  },
  {
   "cell_type": "code",
   "execution_count": 12,
   "metadata": {},
   "outputs": [],
   "source": [
    "rates_cirq = np.linspace(0, 0.1, 11)\n",
    "noisy_vals = [execute_noisy(circ, p_cirq) for p_cirq in rates_cirq]\n",
    "np.save('circ_2q-noisy_vals.npy', noisy_vals)"
   ]
  },
  {
   "cell_type": "code",
   "execution_count": null,
   "metadata": {},
   "outputs": [],
   "source": []
  },
  {
   "cell_type": "code",
   "execution_count": 13,
   "metadata": {},
   "outputs": [
    {
     "data": {
      "text/plain": [
       "0.46219406721862955"
      ]
     },
     "execution_count": 13,
     "metadata": {},
     "output_type": "execute_result"
    }
   ],
   "source": [
    "reps = mitiq.pec.represent_operations_in_circuit_with_global_depolarizing_noise(circ, p)\n",
    "mitiq.pec.execute_with_pec(circ, partial(execute_noisy, p_cirq=p_cirq), representations=reps, random_state=42)"
   ]
  },
  {
   "cell_type": "markdown",
   "metadata": {},
   "source": [
    "baseline: conventional PEC method"
   ]
  },
  {
   "cell_type": "code",
   "execution_count": 186,
   "metadata": {},
   "outputs": [
    {
     "name": "stderr",
     "output_type": "stream",
     "text": [
      " 91%|█████████ | 10/11 [17:43<03:45, 225.80s/it]/Users/jack/opt/miniconda3/lib/python3.8/site-packages/mitiq/pec/pec.py:123: LargeSampleWarning: The number of PEC samples is very large. It may take several minutes. It may be necessary to reduce 'precision' or 'num_samples'.\n",
      "  warnings.warn(_LARGE_SAMPLE_WARN, LargeSampleWarning)\n",
      "100%|██████████| 11/11 [30:05<00:00, 164.18s/it]\n"
     ]
    }
   ],
   "source": [
    "pec_vals = []\n",
    "pec_datas = []\n",
    "for p_cirq in tqdm(rates_cirq):\n",
    "    reps = mitiq.pec.represent_operations_in_circuit_with_global_depolarizing_noise(circ, p_cirq)\n",
    "    pec_val, pec_data = mitiq.pec.execute_with_pec(circ, partial(execute_noisy, p_cirq=p_cirq), representations=reps, random_state=42, full_output=True)\n",
    "    pec_vals.append(pec_val)\n",
    "    pec_datas.append(pec_data)"
   ]
  },
  {
   "cell_type": "code",
   "execution_count": 197,
   "metadata": {},
   "outputs": [
    {
     "name": "stdout",
     "output_type": "stream",
     "text": [
      "[1111, 1797, 2916, 4742, 7732, 12644, 20739, 34121, 56322, 93285, 155058]\n"
     ]
    }
   ],
   "source": [
    "sampling_complexities_pec = [data['num_samples'] for data in pec_datas]\n",
    "print(sampling_complexities_pec)"
   ]
  },
  {
   "cell_type": "code",
   "execution_count": 199,
   "metadata": {},
   "outputs": [],
   "source": [
    "\n",
    "with open('circ_2q-pec_datas.pkl', 'wb') as f:\n",
    "    pickle.dump(pec_datas, f)"
   ]
  },
  {
   "cell_type": "code",
   "execution_count": 200,
   "metadata": {},
   "outputs": [
    {
     "data": {
      "image/png": "[encoded data removed]",
      "text/plain": [
       "<Figure size 500x300 with 1 Axes>"
      ]
     },
     "metadata": {},
     "output_type": "display_data"
    }
   ],
   "source": [
    "plt.figure(figsize=(5, 3))\n",
    "plt.plot(rates_cirq, noisy_vals, 'o-', label='Noisy')\n",
    "plt.plot(rates_cirq, pec_vals, 'o-', label='PEC')\n",
    "plt.axhline(prob_11, color='k', linestyle='--', label='Ideal')\n",
    "plt.legend()\n",
    "plt.show()"
   ]
  },
  {
   "cell_type": "code",
   "execution_count": null,
   "metadata": {},
   "outputs": [],
   "source": []
  },
  {
   "cell_type": "code",
   "execution_count": 150,
   "metadata": {},
   "outputs": [],
   "source": [
    "# def execute_local_depolarizing(circ: cirq.Circuit, p_cirq):\n",
    "#     circ_local_noise = circ.copy()\n",
    "#     circ_local_noise = circ_local_noise.with_noise(cirq.depolarize(p_cirq))\n",
    "#     return cirq.DensityMatrixSimulator().simulate(circ_local_noise).final_density_matrix[1,1].real\n",
    "\n",
    "# noisy_vals = [execute_local_depolarizing(circ, p_cirq) for p_cirq in rates_cirq[:6]]\n",
    "\n",
    "# pec_vals = []\n",
    "\n",
    "# for p_cirq in tqdm(rates_cirq):\n",
    "#     p = 4**n / (4**n - 1) * p_cirq\n",
    "#     reps = mitiq.pec.represent_operations_in_circuit_with_local_depolarizing_noise(circ, p)\n",
    "#     pec_vals.append(mitiq.pec.execute_with_pec(circ, \n",
    "#                                                partial(execute_local_depolarizing, p_cirq=p_cirq), \n",
    "#                                                representations=reps, random_state=42))\n"
   ]
  },
  {
   "cell_type": "markdown",
   "metadata": {},
   "source": [
    "baseline: linear combination of two noisy channels: $\\mathcal{E}^{-1} = \\eta_1\\mathcal{E}_1 - \\eta_2\\mathcal{E}_2$ in which both $\\mathcal{E}_1$ and $\\mathcal{E}_2$ are depolarizing channels (CPTP)"
   ]
  },
  {
   "cell_type": "code",
   "execution_count": 14,
   "metadata": {},
   "outputs": [],
   "source": [
    "def inv_channel_rate(epsilon, n=1):\n",
    "    return (4**n-1) * epsilon / (4**n-1 - 4**n * epsilon)\n",
    "\n",
    "def decompose_inv_channel(eta_1, epsilon_inv):\n",
    "    \"\"\"\n",
    "    The result is a relationship between epsilon_1 and epsilon_2 for subsequent manual settings for their specific values.\n",
    "    \"\"\"\n",
    "    import sympy as sp\n",
    "    # 定义未知数\n",
    "    epsilon_1, epsilon_2 = sp.symbols('epsilon_1 epsilon_2')\n",
    "\n",
    "    # 已知常数\n",
    "    eta_2 = eta_1 - 1  # 例如\n",
    "\n",
    "    # 定义方程\n",
    "    eq1 = sp.Eq(eta_1 * (1 - epsilon_1) - eta_2 * (1 - epsilon_2), 1 + epsilon_inv)\n",
    "    eq2 = sp.Eq(eta_1 * epsilon_1 + epsilon_inv, eta_2 * epsilon_2)\n",
    "\n",
    "    # 求解方程组\n",
    "    solutions = sp.solve((eq1, eq2), (epsilon_1, epsilon_2))\n",
    "\n",
    "    return solutions"
   ]
  },
  {
   "cell_type": "code",
   "execution_count": 15,
   "metadata": {},
   "outputs": [
    {
     "data": {
      "text/plain": [
       "{epsilon_1: 0.833333333333333*epsilon_2 - 0.0214585500333333}"
      ]
     },
     "execution_count": 15,
     "metadata": {},
     "output_type": "execute_result"
    }
   ],
   "source": [
    "eta_1 = r // 2 # it is a heuristic super-parameter\n",
    "eta_2 = eta_1 - 1\n",
    "\n",
    "epsilon_1 = sp.symbols('epsilon_1')\n",
    "epsilon_2 = sp.symbols('epsilon_2')\n",
    "sol = decompose_inv_channel(eta_1, round(inv_channel_rate(p_r_cirq, 2), 10))\n",
    "sol"
   ]
  },
  {
   "cell_type": "code",
   "execution_count": 16,
   "metadata": {},
   "outputs": [
    {
     "name": "stdout",
     "output_type": "stream",
     "text": [
      "p1 = 0.02020811663333334, p2 = 0.05\n"
     ]
    }
   ],
   "source": [
    "p2 = 0.05\n",
    "p1 = float(sol[epsilon_1].subs(epsilon_2, p2))\n",
    "print(f\"p1 = {p1}, p2 = {p2}\")"
   ]
  },
  {
   "cell_type": "code",
   "execution_count": 17,
   "metadata": {},
   "outputs": [],
   "source": [
    "# verify the correctness of (eta_1, eta_2, p1, p2) -> K_inv\n",
    "assert np.allclose(eta_1 * (1 - p1) - eta_2 * (1 - p2), 1 + inv_channel_rate(p_r_cirq, 2))\n",
    "assert np.allclose(eta_1 * p1 - eta_2 * p2, - inv_channel_rate(p_r_cirq, 2))\n",
    "\n",
    "channel = cirq.depolarize(p_r_cirq, 2)\n",
    "super_opr = cirq.kraus_to_superoperator(cirq.protocols.kraus_protocol.kraus(channel))\n",
    "super_opr_inv = np.linalg.inv(super_opr)\n",
    "\n",
    "super_opr_1 = cirq.kraus_to_superoperator(cirq.protocols.kraus_protocol.kraus(cirq.depolarize(p1, 2)))\n",
    "super_opr_2 = cirq.kraus_to_superoperator(cirq.protocols.kraus_protocol.kraus(cirq.depolarize(p2, 2)))\n",
    "\n",
    "K_inv = (eta_1 * super_opr_1 - eta_2 * super_opr_2)\n",
    "\n",
    "assert np.allclose(super_opr_inv, K_inv)"
   ]
  },
  {
   "cell_type": "code",
   "execution_count": 18,
   "metadata": {},
   "outputs": [
    {
     "data": {
      "text/html": [
       "<pre style=\"overflow: auto; white-space: pre;\">0: ───H───@───X───X───Z^0.1───@───X^0.1───X───D(0.113)───\n",
       "          │       │           │           │   │\n",
       "1: ───H───X───T───@───S───────X───H───────@───#2─────────</pre>"
      ],
      "text/plain": [
       "0: ───H───@───X───X───Z^0.1───@───X^0.1───X───D(0.113)───\n",
       "          │       │           │           │   │\n",
       "1: ───H───X───T───@───S───────X───H───────@───#2─────────"
      ]
     },
     "execution_count": 18,
     "metadata": {},
     "output_type": "execute_result"
    }
   ],
   "source": [
    "# let's do linear combination of the effect of inverse channel\n",
    "circ_noise"
   ]
  },
  {
   "cell_type": "code",
   "execution_count": 19,
   "metadata": {},
   "outputs": [],
   "source": [
    "circ_noise_1 = circ_noise.copy()\n",
    "circ_noise_2 = circ_noise.copy()\n",
    "circ_noise_1.append(cirq.depolarize(p1, 2).on(*qubits))\n",
    "circ_noise_2.append(cirq.depolarize(p2, 2).on(*qubits))"
   ]
  },
  {
   "cell_type": "code",
   "execution_count": 20,
   "metadata": {},
   "outputs": [
    {
     "data": {
      "text/plain": [
       "(0.43714043, 0.4310624)"
      ]
     },
     "execution_count": 20,
     "metadata": {},
     "output_type": "execute_result"
    }
   ],
   "source": [
    "res1 = cirq.DensityMatrixSimulator().simulate(circ_noise_1).final_density_matrix[1,1].real\n",
    "res2 = cirq.DensityMatrixSimulator().simulate(circ_noise_2).final_density_matrix[1,1].real\n",
    "res1, res2"
   ]
  },
  {
   "cell_type": "code",
   "execution_count": 21,
   "metadata": {},
   "outputs": [
    {
     "name": "stdout",
     "output_type": "stream",
     "text": [
      "0.46753024329587667 0.4412631 0.46753060817718506\n",
      "disparity =  3.648813083900748e-07\n"
     ]
    }
   ],
   "source": [
    "res = eta_1 * res1 - eta_2 * res2\n",
    "print(prob_11, prob_11_noise, res)\n",
    "print('disparity = ', res - prob_11)"
   ]
  },
  {
   "cell_type": "code",
   "execution_count": 22,
   "metadata": {},
   "outputs": [
    {
     "name": "stdout",
     "output_type": "stream",
     "text": [
      "[0.   0.01 0.02 0.03 0.04 0.05 0.06 0.07 0.08 0.09 0.1 ]\n",
      "[0.     0.0101 0.0204 0.031  0.0418 0.0528 0.0641 0.0756 0.0875 0.0996\n",
      " 0.1119]\n"
     ]
    }
   ],
   "source": [
    "rates_cirq_inv = np.vectorize(inv_channel_rate)(rates_cirq, 2)\n",
    "print(rates_cirq)\n",
    "print(rates_cirq_inv.round(4))"
   ]
  },
  {
   "cell_type": "code",
   "execution_count": 23,
   "metadata": {},
   "outputs": [
    {
     "data": {
      "text/plain": [
       "defaultdict(int, {1: -0.0214585500333333, epsilon_2: 0.833333333333333})"
      ]
     },
     "execution_count": 23,
     "metadata": {},
     "output_type": "execute_result"
    }
   ],
   "source": [
    "sol[epsilon_1].as_coefficients_dict()"
   ]
  },
  {
   "cell_type": "code",
   "execution_count": 24,
   "metadata": {},
   "outputs": [
    {
     "name": "stdout",
     "output_type": "stream",
     "text": [
      "---\n",
      "p_cirq = 0.00, p_r_cirq = 0.000, p1 = 0.000, p2 = 0.000\n",
      "---\n",
      "p_cirq = 0.01, p_r_cirq = 0.113, p1 = 0.037, p2 = 0.052\n",
      "---\n",
      "p_cirq = 0.02, p_r_cirq = 0.214, p1 = 0.067, p2 = 0.098\n",
      "---\n",
      "p_cirq = 0.03, p_r_cirq = 0.303, p1 = 0.090, p2 = 0.139\n",
      "---\n",
      "p_cirq = 0.04, p_r_cirq = 0.382, p1 = 0.107, p2 = 0.175\n",
      "---\n",
      "p_cirq = 0.05, p_r_cirq = 0.452, p1 = 0.117, p2 = 0.207\n",
      "---\n",
      "p_cirq = 0.06, p_r_cirq = 0.514, p1 = 0.121, p2 = 0.235\n",
      "---\n",
      "p_cirq = 0.07, p_r_cirq = 0.568, p1 = 0.119, p2 = 0.260\n",
      "---\n",
      "p_cirq = 0.08, p_r_cirq = 0.616, p1 = 0.109, p2 = 0.282\n",
      "---\n",
      "p_cirq = 0.09, p_r_cirq = 0.658, p1 = 0.092, p2 = 0.302\n",
      "---\n",
      "p_cirq = 0.10, p_r_cirq = 0.695, p1 = 0.068, p2 = 0.319\n"
     ]
    }
   ],
   "source": [
    "er_vals = []\n",
    "\n",
    "# def extract_slope(f: sp.Add):\n",
    "#     return f.as_coefficients_dict()[sp.symbols('epsilon_1')]\n",
    "\n",
    "\n",
    "for p_cirq in rates_cirq:\n",
    "    print('---')\n",
    "    n = cirq.num_qubits(circ)\n",
    "    p = 4**n / (4**n - 1) * p_cirq\n",
    "    p_r = 1 - (1 - p)**r\n",
    "    p_r_cirq = p_r * (4**n - 1) / 4**n\n",
    "    qubits = list(circ.all_qubits())\n",
    "    circ_er = circ.copy() # error-renormalizing circuit\n",
    "    circ_er.append(cirq.depolarize(p_r_cirq, 2).on(*qubits))\n",
    "    p_r_cirq_inv = inv_channel_rate(p_r_cirq, 2)\n",
    "    # print(p_r_cirq, p_r_cirq_inv)\n",
    "\n",
    "    eta_1 = r # it is a heuristic super-parameter\n",
    "    eta_2 = eta_1 - 1\n",
    "\n",
    "    epsilon_1 = sp.symbols('epsilon_1')\n",
    "    epsilon_2 = sp.symbols('epsilon_2')\n",
    "    sol = decompose_inv_channel(eta_1, round(inv_channel_rate(p_r_cirq, 2), 10))\n",
    "    # print(sol)\n",
    "    # extract \"k\" from \"kx + b\"\n",
    "    # print(sol)\n",
    "    p2 = p_r_cirq / 2 * float(sol[epsilon_1].as_coefficients_dict()[epsilon_2])\n",
    "    p1 = float(sol[epsilon_1].subs(epsilon_2, p2))\n",
    "    print(\"p_cirq = {:.2f}, p_r_cirq = {:.3f}, p1 = {:.3f}, p2 = {:.3f}\".format(p_cirq, p_r_cirq, p1, p2))\n",
    "\n",
    "    circ_noise_1 = circ_er.copy()\n",
    "    circ_noise_2 = circ_er.copy()\n",
    "    circ_noise_1.append(cirq.depolarize(p1, 2).on(*qubits))\n",
    "    circ_noise_2.append(cirq.depolarize(p2, 2).on(*qubits))\n",
    "    res1 = cirq.DensityMatrixSimulator().simulate(circ_noise_1).final_density_matrix[1,1].real\n",
    "    res2 = cirq.DensityMatrixSimulator().simulate(circ_noise_2).final_density_matrix[1,1].real\n",
    "    res = eta_1 * res1 - eta_2 * res2\n",
    "    er_vals.append(res)\n"
   ]
  },
  {
   "cell_type": "markdown",
   "metadata": {},
   "source": [
    "Tips:\n",
    "- 增加 $\\eta_1$, $\\eta_2$ 能够减小 $\\epsilon_1$ 和 $\\epsilon_2$\n",
    "- 给定 $\\eta_1$, $\\eta_2$ 的情况下，求解出的最终结果是 $\\epsilon_1 = k_{\\eta_1, \\eta_2}\\epsilon_2 - b_{\\epsilon}$. 其中 $k_{\\eta_1, \\eta_2}$ only depends on $(\\eta_1,\\eta_2)$; $b_\\epsilon > 0$ 且与 $\\epsilon$ 正相关. 因此对于更大的noise level, 可以考虑增大 $\\eta_1$, $\\eta_2$ 以减小 $\\epsilon_1$ 和 $\\epsilon_2$"
   ]
  },
  {
   "cell_type": "code",
   "execution_count": 25,
   "metadata": {},
   "outputs": [
    {
     "data": {
      "image/png": "[encoded data removed]",
      "text/plain": [
       "<Figure size 400x400 with 1 Axes>"
      ]
     },
     "metadata": {},
     "output_type": "display_data"
    }
   ],
   "source": [
    "plt.figure(figsize=(4, 4))\n",
    "plt.plot(rates_cirq, noisy_vals, 'o-', label='Noisy')\n",
    "plt.plot(rates_cirq, er_vals, 'o-', label='Error renormalizing', color='lightgreen')\n",
    "plt.axhline(prob_11, color='k', linestyle='--', label='Ideal')\n",
    "plt.legend(fontsize=9)\n",
    "plt.title(r'$\\langle A \\rangle$ v.s. error rate')\n",
    "plt.tight_layout()\n",
    "plt.savefig('circ_2q-er.pdf')\n",
    "plt.show()"
   ]
  },
  {
   "cell_type": "markdown",
   "metadata": {},
   "source": [
    "our end-to-end PEC method for general Pauli channel $\\mathcal{E}$: \n",
    "\n",
    "$$\n",
    "\\mathcal{E}^{-1}(\\cdot) = (1 + p_{\\mathrm{inv}})(\\cdot) - \\frac{p_{\\mathrm{inv}}}{4^n-1} \\sum_i P_i(\\cdot)P_i,\\quad p_{\\mathrm{inv}} = \\frac{(4^n-1)p}{4^n - 1 - 4^n p} > 0 \\text{ when } p < \\frac{4^n - 1}{4^n}\n",
    "$$"
   ]
  },
  {
   "cell_type": "code",
   "execution_count": 26,
   "metadata": {},
   "outputs": [
    {
     "name": "stdout",
     "output_type": "stream",
     "text": [
      "[0.   0.01 0.02 0.03 0.04 0.05 0.06 0.07 0.08 0.09 0.1 ]\n",
      "[0.     0.0101 0.0204 0.031  0.0418 0.0528 0.0641 0.0756 0.0875 0.0996\n",
      " 0.1119]\n"
     ]
    }
   ],
   "source": [
    "print(rates_cirq)\n",
    "rates_cirq_inv = np.vectorize(inv_channel_rate)(rates_cirq, 2)\n",
    "print(rates_cirq_inv.round(4))"
   ]
  },
  {
   "cell_type": "code",
   "execution_count": 27,
   "metadata": {},
   "outputs": [
    {
     "data": {
      "text/plain": [
       "[cirq.H(cirq.LineQubit(0)),\n",
       " cirq.H(cirq.LineQubit(1)),\n",
       " cirq.CNOT(cirq.LineQubit(0), cirq.LineQubit(1)),\n",
       " cirq.X(cirq.LineQubit(0)),\n",
       " cirq.T(cirq.LineQubit(1)),\n",
       " cirq.CNOT(cirq.LineQubit(1), cirq.LineQubit(0)),\n",
       " (cirq.Z**0.1).on(cirq.LineQubit(0)),\n",
       " cirq.S(cirq.LineQubit(1)),\n",
       " cirq.CNOT(cirq.LineQubit(0), cirq.LineQubit(1)),\n",
       " (cirq.X**0.1).on(cirq.LineQubit(0)),\n",
       " cirq.H(cirq.LineQubit(1)),\n",
       " cirq.CNOT(cirq.LineQubit(1), cirq.LineQubit(0))]"
      ]
     },
     "execution_count": 27,
     "metadata": {},
     "output_type": "execute_result"
    }
   ],
   "source": [
    "all_gates = list(circ.all_operations())\n",
    "all_gates"
   ]
  },
  {
   "cell_type": "code",
   "execution_count": 29,
   "metadata": {},
   "outputs": [],
   "source": [
    "# get the quasi-probabilistic representation of all Pauli gates\n",
    "\n",
    "from mitiq import pec\n",
    "from itertools import product\n",
    "from functools import reduce\n"
   ]
  },
  {
   "cell_type": "code",
   "execution_count": 137,
   "metadata": {},
   "outputs": [],
   "source": [
    "rep = pec.represent_operation_with_local_depolarizing_noise(cirq.Circuit(cirq.X.on(qubits[0])), p_cirq)"
   ]
  },
  {
   "cell_type": "code",
   "execution_count": 139,
   "metadata": {},
   "outputs": [
    {
     "data": {
      "text/plain": [
       "[1.010135135135135,\n",
       " -0.003378378378378378,\n",
       " -0.003378378378378378,\n",
       " -0.003378378378378378]"
      ]
     },
     "execution_count": 139,
     "metadata": {},
     "output_type": "execute_result"
    }
   ],
   "source": [
    "rep.coeffs"
   ]
  },
  {
   "cell_type": "code",
   "execution_count": 140,
   "metadata": {},
   "outputs": [
    {
     "name": "stdout",
     "output_type": "stream",
     "text": [
      "0: ───X─── = 1.010*(0: ───X───)-0.003*(0: ───X───X───)-0.003*(0: ───X───Y───)-0.003*(0: ───X───Z───)\n"
     ]
    }
   ],
   "source": [
    "print(rep)"
   ]
  },
  {
   "cell_type": "code",
   "execution_count": 142,
   "metadata": {},
   "outputs": [
    {
     "data": {
      "text/plain": [
       "(1.010135135135135, <mitiq.pec.types.types.NoisyOperation at 0x7fdad6b22ee0>)"
      ]
     },
     "execution_count": 142,
     "metadata": {},
     "output_type": "execute_result"
    }
   ],
   "source": [
    "rep.basis_expansion[0]"
   ]
  },
  {
   "cell_type": "code",
   "execution_count": 144,
   "metadata": {},
   "outputs": [
    {
     "data": {
      "text/html": [
       "<pre style=\"overflow: auto; white-space: pre;\">0: ───X───</pre>"
      ],
      "text/plain": [
       "0: ───X───"
      ]
     },
     "execution_count": 144,
     "metadata": {},
     "output_type": "execute_result"
    }
   ],
   "source": [
    "rep.ideal"
   ]
  },
  {
   "cell_type": "code",
   "execution_count": 150,
   "metadata": {},
   "outputs": [
    {
     "data": {
      "text/html": [
       "<pre style=\"overflow: auto; white-space: pre;\">0: ───X───X───</pre>"
      ],
      "text/plain": [
       "0: ───X───X───"
      ]
     },
     "execution_count": 150,
     "metadata": {},
     "output_type": "execute_result"
    }
   ],
   "source": [
    "rep.noisy_operations[1].circuit"
   ]
  },
  {
   "cell_type": "code",
   "execution_count": 147,
   "metadata": {},
   "outputs": [
    {
     "data": {
      "text/plain": [
       "[1.010135135135135,\n",
       " -0.003378378378378378,\n",
       " -0.003378378378378378,\n",
       " -0.003378378378378378]"
      ]
     },
     "execution_count": 147,
     "metadata": {},
     "output_type": "execute_result"
    }
   ],
   "source": [
    "rep.coeffs"
   ]
  },
  {
   "cell_type": "code",
   "execution_count": 140,
   "metadata": {},
   "outputs": [
    {
     "name": "stdout",
     "output_type": "stream",
     "text": [
      "p_cirq = 0.01, p = 0.010666666666666666, p_r_cirq = 0.11320440490756703\n"
     ]
    }
   ],
   "source": [
    "# quasi-probabilistic representation of the inverse channel\n",
    "\n",
    "p_cirq = 0.01\n",
    "p = 4**2 / (4**2 - 1) * p_cirq\n",
    "p_r = 1 - (1 - p)**r\n",
    "p_r_cirq = p_r * (4**2 - 1) / 4**2\n",
    "print(f'p_cirq = {p_cirq}, p = {p}, p_r_cirq = {p_r_cirq}')\n"
   ]
  },
  {
   "cell_type": "code",
   "execution_count": 142,
   "metadata": {},
   "outputs": [],
   "source": [
    "\n",
    "paulis_1q = (cirq.I, cirq.X, cirq.Y, cirq.Z)\n",
    "paulis = list(product(paulis_1q, repeat=2))\n",
    "\n",
    "\n",
    "inv_channel_rep_ideal = [(1 + inv_channel_rate(p_r_cirq, 2), paulis[i]) if i == 0 else [- inv_channel_rate(p_r_cirq, 2) / 15, paulis[i]]  for i in range(16)]\n",
    "\n",
    "channel = cirq.depolarize(p_r_cirq, 2)\n",
    "super_opr = cirq.kraus_to_superoperator(cirq.protocols.kraus_protocol.kraus(channel))\n",
    "super_opr_inv = np.linalg.inv(super_opr)\n",
    "\n",
    "K_inv = np.zeros([4**2, 4**2]).astype(complex)\n",
    "for coeff, pauli in inv_channel_rep_ideal:\n",
    "    K_inv += coeff * cirq.kraus_to_superoperator([np.kron(cirq.unitary(pauli[0]), cirq.unitary(pauli[1]))])\n",
    "\n",
    "assert np.allclose(K_inv, super_opr_inv)\n",
    "\n",
    "inv_channel_rep = {pauli: 0 for pauli in paulis} # noisy quasi-probabilistic representation"
   ]
  },
  {
   "cell_type": "code",
   "execution_count": 143,
   "metadata": {},
   "outputs": [],
   "source": [
    "def is_equiv_unitary(U: np.ndarray, V: np.ndarray) -> bool:\n",
    "    \"\"\"Distinguish whether two unitary operators are equivalent, regardless of the global phase.\"\"\"\n",
    "    if U.shape != V.shape:\n",
    "        raise ValueError(f'U and V have different dimensions: {U.shape}, {V.shape}.')\n",
    "    d = U.shape[0]\n",
    "    if not np.allclose(U @ U.conj().T, np.identity(d)):\n",
    "        raise ValueError('U is not unitary')\n",
    "    if not np.allclose(V @ V.conj().T, np.identity(d)):\n",
    "        raise ValueError('V is not unitary')\n",
    "    Uf = U.ravel()\n",
    "    Vf = V.ravel()\n",
    "    idx_Uf = np.flatnonzero(Uf.round(6))  # considering some precision\n",
    "    idx_Vf = np.flatnonzero(Vf.round(6))\n",
    "    try:\n",
    "        if np.allclose(idx_Uf, idx_Vf):\n",
    "            coes = Uf[idx_Uf] / Vf[idx_Vf]\n",
    "            return np.allclose(coes / coes[0], np.ones(len(idx_Uf)))\n",
    "        else:\n",
    "            return False\n",
    "    except ValueError:\n",
    "        return False\n",
    "\n",
    "def pauli_converter(pauli1, pauli2):\n",
    "    assert len(pauli1) == len(pauli2) == 2\n",
    "    mat0 = cirq.unitary(pauli2[0]) @ cirq.unitary(pauli1[0])\n",
    "    mat1 = cirq.unitary(pauli2[1]) @ cirq.unitary(pauli1[1])\n",
    "    pauli_0, pauli_1 = cirq.I, cirq.I\n",
    "    for sigma in (cirq.I, cirq.X, cirq.Y, cirq.Z):\n",
    "        if is_equiv_unitary(mat0, cirq.unitary(sigma)):\n",
    "            pauli_0 = sigma\n",
    "        if is_equiv_unitary(mat1, cirq.unitary(sigma)):\n",
    "            pauli_1 = sigma\n",
    "\n",
    "    return pauli_0, pauli_1\n"
   ]
  },
  {
   "cell_type": "code",
   "execution_count": 144,
   "metadata": {},
   "outputs": [],
   "source": [
    "# pauli_rep_coeffs = pec.represent_operation_with_global_depolarizing_noise(cirq.Circuit(cirq.X.on(qubits[0])), p_cirq).coeffs\n",
    "pauli_rep_coeffs = pec.represent_operation_with_global_depolarizing_noise(\n",
    "    cirq.Circuit(cirq.X.on(qubits[0]), cirq.X.on(qubits[1])), p_cirq\n",
    ").coeffs\n",
    "for eta, pauli_ideal in inv_channel_rep_ideal:\n",
    "    for i, (coeff, pauli) in enumerate(zip(pauli_rep_coeffs, paulis)):\n",
    "        # {coeff, pauli_ideal + pauli} is the noisy representation of pauli_ideal\n",
    "        inv_channel_rep[pauli_converter(pauli_ideal, pauli)] += eta * coeff"
   ]
  },
  {
   "cell_type": "code",
   "execution_count": 145,
   "metadata": {},
   "outputs": [
    {
     "data": {
      "text/plain": [
       "{(cirq.I, cirq.I): 1.1402472710714842,\n",
       " (cirq.I, cirq.X): -0.009349818071432368,\n",
       " (cirq.I, cirq.Y): -0.009349818071432368,\n",
       " (cirq.I, cirq.Z): -0.009349818071432368,\n",
       " (cirq.X, cirq.I): -0.00934981807143237,\n",
       " (cirq.X, cirq.X): -0.00934981807143237,\n",
       " (cirq.X, cirq.Y): -0.00934981807143237,\n",
       " (cirq.X, cirq.Z): -0.00934981807143237,\n",
       " (cirq.Y, cirq.I): -0.009349818071432371,\n",
       " (cirq.Y, cirq.X): -0.009349818071432371,\n",
       " (cirq.Y, cirq.Y): -0.009349818071432371,\n",
       " (cirq.Y, cirq.Z): -0.009349818071432371,\n",
       " (cirq.Z, cirq.I): -0.009349818071432373,\n",
       " (cirq.Z, cirq.X): -0.009349818071432373,\n",
       " (cirq.Z, cirq.Y): -0.009349818071432373,\n",
       " (cirq.Z, cirq.Z): -0.009349818071432373}"
      ]
     },
     "execution_count": 145,
     "metadata": {},
     "output_type": "execute_result"
    }
   ],
   "source": [
    "inv_channel_rep"
   ]
  },
  {
   "cell_type": "code",
   "execution_count": null,
   "metadata": {},
   "outputs": [],
   "source": []
  },
  {
   "cell_type": "code",
   "execution_count": 150,
   "metadata": {},
   "outputs": [],
   "source": [
    "def coeffs_to_dist(coeffs):\n",
    "    assert np.allclose(np.sum(coeffs), 1)\n",
    "    gamma = np.abs(coeffs).sum()\n",
    "    probs = np.abs(coeffs) / gamma\n",
    "    signs = np.sign(coeffs)\n",
    "    return signs, probs, gamma\n",
    "\n",
    "\n",
    "def quasi_prob_sample(rep_in_pauli, precision=0.03):\n",
    "    \"\"\"rep_in_pauli is in dict of {pauli: coeff} format.\"\"\"\n",
    "    coeffs = list(rep_in_pauli.values())\n",
    "    paulis = list(rep_in_pauli.keys())\n",
    "    signs, probs, gamma = coeffs_to_dist(coeffs)\n",
    "    num_samples = int((gamma / precision) ** 2)\n",
    "    print(f'num_samples = {num_samples}, gamma = {gamma}')\n",
    "    indices_sampled = np.random.choice(np.arange(len(coeffs)), num_samples, p=probs)\n",
    "    return [(signs[idx], paulis[idx]) for idx in indices_sampled]"
   ]
  },
  {
   "cell_type": "code",
   "execution_count": 153,
   "metadata": {},
   "outputs": [
    {
     "data": {
      "text/plain": [
       "(array([ 1., -1., -1., -1., -1., -1., -1., -1., -1., -1., -1., -1., -1.,\n",
       "        -1., -1., -1.]),\n",
       " array([0.89047414, 0.00730172, 0.00730172, 0.00730172, 0.00730172,\n",
       "        0.00730172, 0.00730172, 0.00730172, 0.00730172, 0.00730172,\n",
       "        0.00730172, 0.00730172, 0.00730172, 0.00730172, 0.00730172,\n",
       "        0.00730172]),\n",
       " 1.2804945421429699)"
      ]
     },
     "execution_count": 153,
     "metadata": {},
     "output_type": "execute_result"
    }
   ],
   "source": [
    "signs, probs, gamma = coeffs_to_dist(list(inv_channel_rep.values()))\n",
    "signs, probs, gamma"
   ]
  },
  {
   "cell_type": "code",
   "execution_count": 154,
   "metadata": {},
   "outputs": [
    {
     "name": "stdout",
     "output_type": "stream",
     "text": [
      "num_samples = 1821, gamma = 1.2804945421429699\n"
     ]
    }
   ],
   "source": [
    "\n",
    "paulis_sampled = quasi_prob_sample(inv_channel_rep)\n"
   ]
  },
  {
   "cell_type": "code",
   "execution_count": 155,
   "metadata": {},
   "outputs": [
    {
     "name": "stderr",
     "output_type": "stream",
     "text": [
      "  0%|          | 0/1821 [00:00<?, ?it/s]"
     ]
    },
    {
     "name": "stderr",
     "output_type": "stream",
     "text": [
      "100%|██████████| 1821/1821 [00:12<00:00, 143.57it/s]\n"
     ]
    }
   ],
   "source": [
    "# vals_mosaic = []\n",
    "\n",
    "prob_11_mosaic = 0\n",
    "sampled_vals = []\n",
    "for sign, pauli in tqdm(paulis_sampled):\n",
    "    circ_mosaic = circ_noise.copy()\n",
    "    circ_mosaic.append(pauli[0].on(qubits[0]))\n",
    "    circ_mosaic.append(cirq.depolarize(p_cirq, 2).on(*qubits))\n",
    "    circ_mosaic.append(pauli[1].on(qubits[1]))\n",
    "    circ_mosaic.append(cirq.depolarize(p_cirq, 2).on(*qubits))\n",
    "    sampled_vals.append(sign * cirq.DensityMatrixSimulator().simulate(circ_mosaic).final_density_matrix[1,1].real)"
   ]
  },
  {
   "cell_type": "code",
   "execution_count": 163,
   "metadata": {},
   "outputs": [
    {
     "name": "stdout",
     "output_type": "stream",
     "text": [
      "0.46753024329587667 0.4412631 0.4673970476931794 0.00013319560269725583\n"
     ]
    }
   ],
   "source": [
    "\n",
    "prob_11_mosaic = np.mean(sampled_vals) * gamma\n",
    "disparity = abs(prob_11_mosaic - prob_11)\n",
    "\n",
    "print(prob_11, prob_11_noise, prob_11_mosaic, disparity)\n"
   ]
  },
  {
   "cell_type": "code",
   "execution_count": 164,
   "metadata": {},
   "outputs": [
    {
     "data": {
      "text/html": [
       "<pre style=\"overflow: auto; white-space: pre;\">0: ───H───@───X───X───Z^0.1───@───X^0.1───X───D(0.113)───I───D(0.01)───────D(0.01)───\n",
       "          │       │           │           │   │              │             │\n",
       "1: ───H───X───T───@───S───────X───H───────@───#2─────────────#2────────I───#2────────</pre>"
      ],
      "text/plain": [
       "0: ───H───@───X───X───Z^0.1───@───X^0.1───X───D(0.113)───I───D(0.01)───────D(0.01)───\n",
       "          │       │           │           │   │              │             │\n",
       "1: ───H───X───T───@───S───────X───H───────@───#2─────────────#2────────I───#2────────"
      ]
     },
     "execution_count": 164,
     "metadata": {},
     "output_type": "execute_result"
    }
   ],
   "source": [
    "circ_mosaic"
   ]
  },
  {
   "cell_type": "code",
   "execution_count": 167,
   "metadata": {},
   "outputs": [
    {
     "name": "stdout",
     "output_type": "stream",
     "text": [
      "qubits: [cirq.LineQubit(0), cirq.LineQubit(1)]\n",
      "noise rates: [0.   0.01 0.02 0.03 0.04 0.05 0.06 0.07 0.08 0.09 0.1 ]\n",
      "---\n",
      "p_cirq = 0.0000, p = 0.0000, p_r_cirq = 0.0000\n",
      "num_samples = 1111, gamma = 1.0\n"
     ]
    },
    {
     "name": "stderr",
     "output_type": "stream",
     "text": [
      "100%|██████████| 1111/1111 [00:07<00:00, 142.45it/s]\n"
     ]
    },
    {
     "name": "stdout",
     "output_type": "stream",
     "text": [
      "---\n",
      "p_cirq = 0.0100, p = 0.0107, p_r_cirq = 0.1132\n",
      "num_samples = 1821, gamma = 1.2804945421429699\n"
     ]
    },
    {
     "name": "stderr",
     "output_type": "stream",
     "text": [
      "100%|██████████| 1821/1821 [00:13<00:00, 138.32it/s]\n"
     ]
    },
    {
     "name": "stdout",
     "output_type": "stream",
     "text": [
      "---\n",
      "p_cirq = 0.0200, p = 0.0213, p_r_cirq = 0.2137\n",
      "num_samples = 2868, gamma = 1.6066979231088223\n"
     ]
    },
    {
     "name": "stderr",
     "output_type": "stream",
     "text": [
      "100%|██████████| 2868/2868 [00:20<00:00, 138.04it/s]\n"
     ]
    },
    {
     "name": "stdout",
     "output_type": "stream",
     "text": [
      "---\n",
      "p_cirq = 0.0300, p = 0.0320, p_r_cirq = 0.3029\n",
      "num_samples = 4385, gamma = 1.9866836819392202\n"
     ]
    },
    {
     "name": "stderr",
     "output_type": "stream",
     "text": [
      "100%|██████████| 4385/4385 [00:31<00:00, 137.46it/s]\n"
     ]
    },
    {
     "name": "stdout",
     "output_type": "stream",
     "text": [
      "---\n",
      "p_cirq = 0.0400, p = 0.0427, p_r_cirq = 0.3819\n",
      "num_samples = 6561, gamma = 2.430064360168835\n"
     ]
    },
    {
     "name": "stderr",
     "output_type": "stream",
     "text": [
      "100%|██████████| 6561/6561 [00:47<00:00, 138.17it/s]\n"
     ]
    },
    {
     "name": "stdout",
     "output_type": "stream",
     "text": [
      "---\n",
      "p_cirq = 0.0500, p = 0.0533, p_r_cirq = 0.4518\n",
      "num_samples = 9658, gamma = 2.94830691948327\n"
     ]
    },
    {
     "name": "stderr",
     "output_type": "stream",
     "text": [
      "100%|██████████| 9658/9658 [01:06<00:00, 144.40it/s]\n"
     ]
    },
    {
     "name": "stdout",
     "output_type": "stream",
     "text": [
      "---\n",
      "p_cirq = 0.0600, p = 0.0640, p_r_cirq = 0.5136\n",
      "num_samples = 14043, gamma = 3.555117431661584\n"
     ]
    },
    {
     "name": "stderr",
     "output_type": "stream",
     "text": [
      "100%|██████████| 14043/14043 [01:39<00:00, 141.79it/s]\n"
     ]
    },
    {
     "name": "stdout",
     "output_type": "stream",
     "text": [
      "---\n",
      "p_cirq = 0.0700, p = 0.0747, p_r_cirq = 0.5681\n",
      "num_samples = 20229, gamma = 4.266911295531015\n"
     ]
    },
    {
     "name": "stderr",
     "output_type": "stream",
     "text": [
      "100%|██████████| 20229/20229 [02:23<00:00, 140.77it/s]\n"
     ]
    },
    {
     "name": "stdout",
     "output_type": "stream",
     "text": [
      "---\n",
      "p_cirq = 0.0800, p = 0.0853, p_r_cirq = 0.6160\n",
      "num_samples = 28938, gamma = 5.103389300147571\n"
     ]
    },
    {
     "name": "stderr",
     "output_type": "stream",
     "text": [
      "100%|██████████| 28938/28938 [03:23<00:00, 141.97it/s]\n"
     ]
    },
    {
     "name": "stdout",
     "output_type": "stream",
     "text": [
      "---\n",
      "p_cirq = 0.0900, p = 0.0960, p_r_cirq = 0.6583\n",
      "num_samples = 41185, gamma = 6.0882449983804205\n"
     ]
    },
    {
     "name": "stderr",
     "output_type": "stream",
     "text": [
      "100%|██████████| 41185/41185 [04:51<00:00, 141.48it/s]\n"
     ]
    },
    {
     "name": "stdout",
     "output_type": "stream",
     "text": [
      "---\n",
      "p_cirq = 0.1000, p = 0.1067, p_r_cirq = 0.6953\n",
      "num_samples = 58403, gamma = 7.2500353852324615\n"
     ]
    },
    {
     "name": "stderr",
     "output_type": "stream",
     "text": [
      "100%|██████████| 58403/58403 [07:02<00:00, 138.15it/s]\n"
     ]
    }
   ],
   "source": [
    "# end-to-end experiment with variational noisy rates\n",
    "print('qubits:', qubits)\n",
    "print('noise rates:', rates_cirq)\n",
    "precision = 0.03\n",
    "\n",
    "\n",
    "mosaic_vals = []\n",
    "sampling_complexities = []\n",
    "for p_cirq in rates_cirq:\n",
    "    print('---')\n",
    "    n = cirq.num_qubits(circ)\n",
    "    p = 4**n / (4**n - 1) * p_cirq\n",
    "    p_r = 1 - (1 - p)**r\n",
    "    p_r_cirq = p_r * (4**n - 1) / 4**n\n",
    "    print(f'p_cirq = {p_cirq:.4f}, p = {p:.4f}, p_r_cirq = {p_r_cirq:.4f}')\n",
    "\n",
    "    circ_noise = circ.copy()\n",
    "    circ_noise.append(cirq.depolarize(p_r_cirq, 2).on(*qubits))\n",
    "\n",
    "    inv_channel_rep_ideal = [(1 + inv_channel_rate(p_r_cirq, 2), paulis[i]) if i == 0 else [- inv_channel_rate(p_r_cirq, 2) / 15, paulis[i]]  for i in range(16)]\n",
    "    inv_channel_rep = {pauli: 0 for pauli in paulis} # noisy quasi-probabilistic representation\n",
    "    pauli_rep_coeffs = pec.represent_operation_with_global_depolarizing_noise(\n",
    "        cirq.Circuit(cirq.X.on(qubits[0]), cirq.X.on(qubits[1])), p_cirq\n",
    "    ).coeffs\n",
    "    for eta, pauli_ideal in inv_channel_rep_ideal:\n",
    "        for i, (coeff, pauli) in enumerate(zip(pauli_rep_coeffs, paulis)):\n",
    "            # {coeff, pauli_ideal + pauli} is the noisy representation of pauli_ideal\n",
    "            inv_channel_rep[pauli_converter(pauli_ideal, pauli)] += eta * coeff\n",
    "\n",
    "    signs, probs, gamma = coeffs_to_dist(list(inv_channel_rep.values()))    \n",
    "    num_samples = int((gamma / precision) ** 2)\n",
    "    sampling_complexities.append(num_samples)\n",
    "    paulis_sampled = quasi_prob_sample(inv_channel_rep, precision=precision)\n",
    "\n",
    "    sampled_vals = []\n",
    "    for sign, pauli in tqdm(paulis_sampled):\n",
    "        circ_mosaic = circ_noise.copy()\n",
    "        circ_mosaic.append(pauli[0].on(qubits[0]))\n",
    "        circ_mosaic.append(cirq.depolarize(p_cirq, 2).on(*qubits))\n",
    "        circ_mosaic.append(pauli[1].on(qubits[1]))\n",
    "        circ_mosaic.append(cirq.depolarize(p_cirq, 2).on(*qubits))\n",
    "        sampled_vals.append(sign * cirq.DensityMatrixSimulator().simulate(circ_mosaic).final_density_matrix[1,1].real)\n",
    "\n",
    "    mosaic_vals.append(np.mean(sampled_vals) * gamma)\n",
    "\n",
    "np.save('circ_2q-mosaic_vals.npy', mosaic_vals)"
   ]
  },
  {
   "cell_type": "code",
   "execution_count": 172,
   "metadata": {},
   "outputs": [],
   "source": []
  },
  {
   "cell_type": "code",
   "execution_count": null,
   "metadata": {},
   "outputs": [],
   "source": []
  },
  {
   "cell_type": "code",
   "execution_count": null,
   "metadata": {},
   "outputs": [],
   "source": []
  },
  {
   "cell_type": "code",
   "execution_count": 223,
   "metadata": {},
   "outputs": [
    {
     "data": {
      "image/png": "[encoded data removed]",
      "text/plain": [
       "<Figure size 500x300 with 1 Axes>"
      ]
     },
     "metadata": {},
     "output_type": "display_data"
    }
   ],
   "source": [
    "noisy_vals = np.load('circ_2q-noisy_vals.npy')\n",
    "pec_vals = np.load('circ_2q-pec_vals.npy')\n",
    "mosaic_vals = np.load('circ_2q-mosaic_vals.npy')\n",
    "plt.figure(figsize=(5, 3))\n",
    "plt.plot(rates_cirq, noisy_vals, 'o-', label='Noisy')\n",
    "plt.plot(rates_cirq, pec_vals, 'o-', label='Conventional PEC')\n",
    "plt.plot(rates_cirq, mosaic_vals, 'o-', label='Mosaic PEC', color='lightgreen')\n",
    "plt.axhline(prob_11, color='k', linestyle='--', label='Ideal')\n",
    "plt.legend()\n",
    "plt.title(r'$\\langle A \\rangle$ v.s. error rate')\n",
    "plt.tight_layout()\n",
    "plt.savefig('circ_2q_res.pdf')\n",
    "plt.show()"
   ]
  },
  {
   "cell_type": "code",
   "execution_count": 220,
   "metadata": {},
   "outputs": [
    {
     "data": {
      "image/png": "[encoded data removed]",
      "text/plain": [
       "<Figure size 400x300 with 1 Axes>"
      ]
     },
     "metadata": {},
     "output_type": "display_data"
    }
   ],
   "source": [
    "# sampling_complexities_pec = ...\n",
    "sampling_complexities_mosaic = [1111, 1821, 2868, 4385, 6561, 9658, 14043, 20229, 28938, 41185, 58403]\n",
    "\n",
    "# compare sampling overhead with the same precision=0.03\n",
    "plt.figure(figsize=(4, 3))\n",
    "x = np.arange(len(rates_cirq))\n",
    "width = 0.35\n",
    "plt.bar(x - width/2, np.array(sampling_complexities_pec) / 1000, width, label='Conventional PEC', color='C1')\n",
    "plt.bar(x + width/2, np.array(sampling_complexities_mosaic) / 1000, width, label='Mosaic PEC', color='lightgreen')\n",
    "\n",
    "plt.xticks(x, [f'{r:.2f}' for r in rates_cirq], fontsize=8)\n",
    "plt.title('Sampling overhead (unit: $k$) ($\\epsilon=0.03$)')\n",
    "plt.yticks(fontsize=8)\n",
    "plt.legend()\n",
    "plt.tight_layout()\n",
    "plt.savefig('circ_2q_sampling.pdf')\n",
    "plt.show()"
   ]
  },
  {
   "cell_type": "code",
   "execution_count": null,
   "metadata": {},
   "outputs": [],
   "source": []
  },
  {
   "cell_type": "code",
   "execution_count": null,
   "metadata": {},
   "outputs": [],
   "source": []
  },
  {
   "cell_type": "code",
   "execution_count": null,
   "metadata": {},
   "outputs": [],
   "source": []
  }
 ],
 "metadata": {
  "kernelspec": {
   "display_name": "base",
   "language": "python",
   "name": "python3"
  },
  "language_info": {
   "codemirror_mode": {
    "name": "ipython",
    "version": 3
   },
   "file_extension": ".py",
   "mimetype": "text/x-python",
   "name": "python",
   "nbconvert_exporter": "python",
   "pygments_lexer": "ipython3",
   "version": "3.8.18"
  }
 },
 "nbformat": 4,
 "nbformat_minor": 2
}
