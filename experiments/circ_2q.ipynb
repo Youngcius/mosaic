{
 "cells": [
  {
   "cell_type": "code",
   "execution_count": 291,
   "metadata": {},
   "outputs": [],
   "source": [
    "import sys\n",
    "sys.path.append('..')\n",
    "\n",
    "import numpy as np\n",
    "import cirq\n",
    "import mitiq\n",
    "from cirq.contrib.qasm_import import circuit_from_qasm\n",
    "import matplotlib.pyplot as plt\n",
    "from functools import partial\n",
    "from tqdm import tqdm\n",
    "import sympy as sp\n",
    "\n",
    "\n",
    "import daqec\n",
    "\n"
   ]
  },
  {
   "cell_type": "markdown",
   "metadata": {},
   "source": [
    "**construct the ideal circuit**"
   ]
  },
  {
   "cell_type": "code",
   "execution_count": 184,
   "metadata": {},
   "outputs": [
    {
     "data": {
      "text/html": [
       "<pre style=\"overflow: auto; white-space: pre;\">0: ───H───@───X───X───Z^0.1───@───X^0.1───X───\n",
       "          │       │           │           │\n",
       "1: ───H───X───T───@───S───────X───H───────@───</pre>"
      ],
      "text/plain": [
       "0: ───H───@───X───X───Z^0.1───@───X^0.1───X───\n",
       "          │       │           │           │\n",
       "1: ───H───X───T───@───S───────X───H───────@───"
      ]
     },
     "execution_count": 184,
     "metadata": {},
     "output_type": "execute_result"
    }
   ],
   "source": [
    "qubits = cirq.LineQubit.range(2)\n",
    "circ = cirq.Circuit([\n",
    "    cirq.H(qubits[0]),\n",
    "    cirq.H(qubits[1]),\n",
    "    cirq.CNOT(qubits[0], qubits[1]),\n",
    "    cirq.X.on(qubits[0]),\n",
    "    cirq.T.on(qubits[1]),\n",
    "    cirq.CNOT(qubits[1], qubits[0]),\n",
    "    cirq.ZPowGate(exponent=0.1).on(qubits[0]),\n",
    "    cirq.S.on(qubits[1]),\n",
    "    cirq.CNOT(qubits[0], qubits[1]),\n",
    "    cirq.XPowGate(exponent=0.1).on(qubits[0]),\n",
    "    cirq.H.on(qubits[1]),\n",
    "    cirq.CNOT(qubits[1], qubits[0]),\n",
    "])\n",
    "# circ = cirq.Circuit([  # only involves 2-qubit gates\n",
    "#     cirq.XXPowGate(exponent=0.1).on(qubits[0], qubits[1]),\n",
    "#     cirq.Rz(rads=0.2).on(qubits[1]).controlled_by(qubits[0]),\n",
    "#     cirq.YYPowGate(exponent=0.1).on(qubits[0], qubits[1]),\n",
    "#     cirq.Rx(rads=0.1).on(qubits[0]).controlled_by(qubits[1]),\n",
    "#     cirq.ZZPowGate(exponent=0.1).on(qubits[0], qubits[1]),\n",
    "# ])\n",
    "circ"
   ]
  },
  {
   "cell_type": "code",
   "execution_count": 185,
   "metadata": {},
   "outputs": [
    {
     "data": {
      "text/plain": [
       "0.46753024329587667"
      ]
     },
     "execution_count": 185,
     "metadata": {},
     "output_type": "execute_result"
    }
   ],
   "source": [
    "init_state = np.array([\n",
    "    [1, 0, 0, 0],\n",
    "    [0, 0, 0, 0],\n",
    "    [0, 0, 0, 0],\n",
    "    [0, 0, 0, 0],\n",
    "]).astype(complex)\n",
    "final_state = circ.unitary() @ init_state @ circ.unitary().conj().T\n",
    "prob_11 = final_state[1, 1].real\n",
    "prob_11"
   ]
  },
  {
   "cell_type": "code",
   "execution_count": 186,
   "metadata": {},
   "outputs": [
    {
     "data": {
      "text/plain": [
       "array([[ 0.08 +0.j   , -0.109-0.16j ,  0.07 -0.022j,  0.052+0.168j],\n",
       "       [-0.109+0.16j ,  0.468+0.j   , -0.052+0.168j, -0.406-0.125j],\n",
       "       [ 0.07 +0.022j, -0.052-0.168j,  0.066+0.j   ,  0.   +0.16j ],\n",
       "       [ 0.052-0.168j, -0.406+0.125j,  0.   -0.16j ,  0.386+0.j   ]])"
      ]
     },
     "execution_count": 186,
     "metadata": {},
     "output_type": "execute_result"
    }
   ],
   "source": [
    "final_state.round(3)"
   ]
  },
  {
   "cell_type": "code",
   "execution_count": 187,
   "metadata": {},
   "outputs": [
    {
     "name": "stdout",
     "output_type": "stream",
     "text": [
      "p_cirq = 0.01, p = 0.010666666666666666\n"
     ]
    }
   ],
   "source": [
    "n = len(qubits)\n",
    "p_cirq = 0.01\n",
    "p = 4**n / (4**n - 1) * p_cirq\n",
    "print(f'p_cirq = {p_cirq}, p = {p}')"
   ]
  },
  {
   "cell_type": "code",
   "execution_count": 190,
   "metadata": {},
   "outputs": [
    {
     "data": {
      "text/html": [
       "<pre style=\"overflow: auto; white-space: pre;\">0: ───H───D(0.01)───────D(0.01)───@───D(0.01)───X───D(0.01)───────D(0.01)───X───D(0.01)───Z^0.1───D(0.01)───────D(0.01)───@───D(0.01)───X^0.1───D(0.01)───────D(0.01)───X───D(0.01)───\n",
       "          │             │         │   │             │             │         │   │                 │             │         │   │                 │             │         │   │\n",
       "1: ───────#2────────H───#2────────X───#2────────────#2────────T───#2────────@───#2────────────────#2────────S───#2────────X───#2────────────────#2────────H───#2────────@───#2────────</pre>"
      ],
      "text/plain": [
       "0: ───H───D(0.01)───────D(0.01)───@───D(0.01)───X───D(0.01)───────D(0.01)───X───D(0.01)───Z^0.1───D(0.01)───────D(0.01)───@───D(0.01)───X^0.1───D(0.01)───────D(0.01)───X───D(0.01)───\n",
       "          │             │         │   │             │             │         │   │                 │             │         │   │                 │             │         │   │\n",
       "1: ───────#2────────H───#2────────X───#2────────────#2────────T───#2────────@───#2────────────────#2────────S───#2────────X───#2────────────────#2────────H───#2────────@───#2────────"
      ]
     },
     "execution_count": 190,
     "metadata": {},
     "output_type": "execute_result"
    }
   ],
   "source": [
    "circ_noise_interleaved = cirq.Circuit()\n",
    "for g in circ.all_operations():\n",
    "    circ_noise_interleaved.append(g)\n",
    "    circ_noise_interleaved.append(cirq.depolarize(p_cirq, 2).on(*qubits))\n",
    "circ_noise_interleaved"
   ]
  },
  {
   "cell_type": "code",
   "execution_count": 192,
   "metadata": {},
   "outputs": [
    {
     "name": "stdout",
     "output_type": "stream",
     "text": [
      "p_r_cirq = 0.11320440490756703, p = 0.12075136523473817\n"
     ]
    },
    {
     "data": {
      "text/html": [
       "<pre style=\"overflow: auto; white-space: pre;\">0: ───H───@───X───X───Z^0.1───@───X^0.1───X───D(0.113)───\n",
       "          │       │           │           │   │\n",
       "1: ───H───X───T───@───S───────X───H───────@───#2─────────</pre>"
      ],
      "text/plain": [
       "0: ───H───@───X───X───Z^0.1───@───X^0.1───X───D(0.113)───\n",
       "          │       │           │           │   │\n",
       "1: ───H───X───T───@───S───────X───H───────@───#2─────────"
      ]
     },
     "execution_count": 192,
     "metadata": {},
     "output_type": "execute_result"
    }
   ],
   "source": [
    "r = daqec.circuits.num_gates(circ)\n",
    "p_r = 1 - (1 - p)**r\n",
    "p_r_cirq = p_r * (4**n - 1) / 4**n\n",
    "print(f'p_r_cirq = {p_r_cirq}, p = {p_r}')\n",
    "circ_noise = circ.copy()\n",
    "circ_noise.append(cirq.depolarize(p_r_cirq, 2).on(*qubits))\n",
    "circ_noise"
   ]
  },
  {
   "cell_type": "markdown",
   "metadata": {},
   "source": [
    "**noisy simulation comparison**"
   ]
  },
  {
   "cell_type": "code",
   "execution_count": 193,
   "metadata": {},
   "outputs": [],
   "source": [
    "sim = cirq.DensityMatrixSimulator()\n",
    "\n",
    "rho1 = sim.simulate(circ_noise_interleaved).final_density_matrix\n",
    "rho2 = sim.simulate(circ_noise).final_density_matrix\n",
    "\n",
    "assert np.allclose(rho1, rho2, atol=1e-5), \"rho1 and rho2 should be equal!\""
   ]
  },
  {
   "cell_type": "markdown",
   "metadata": {},
   "source": [
    "**append inverse channel to `circ_noise`**"
   ]
  },
  {
   "cell_type": "code",
   "execution_count": 194,
   "metadata": {},
   "outputs": [
    {
     "data": {
      "text/html": [
       "<pre style=\"overflow: auto; white-space: pre;\">0: ───H───@───X───X───Z^0.1───@───X^0.1───X───D(0.113)───\n",
       "          │       │           │           │   │\n",
       "1: ───H───X───T───@───S───────X───H───────@───#2─────────</pre>"
      ],
      "text/plain": [
       "0: ───H───@───X───X───Z^0.1───@───X^0.1───X───D(0.113)───\n",
       "          │       │           │           │   │\n",
       "1: ───H───X───T───@───S───────X───H───────@───#2─────────"
      ]
     },
     "execution_count": 194,
     "metadata": {},
     "output_type": "execute_result"
    }
   ],
   "source": [
    "circ_noise"
   ]
  },
  {
   "cell_type": "code",
   "execution_count": 195,
   "metadata": {},
   "outputs": [
    {
     "name": "stdout",
     "output_type": "stream",
     "text": [
      "disparity =  -0.02626713385030477\n"
     ]
    }
   ],
   "source": [
    "final_state_noise = cirq.DensityMatrixSimulator().simulate(circ_noise).final_density_matrix\n",
    "prob_11_noise = final_state_noise[1, 1].real\n",
    "print('disparity = ', prob_11_noise - prob_11)"
   ]
  },
  {
   "cell_type": "markdown",
   "metadata": {},
   "source": [
    "**Testing our error mitigation approach**:\n",
    "\n",
    "- baseline: conventional PEC method\n",
    "- baseline: linear combination of two noisy channels: $\\mathcal{E}^{-1} = \\eta_1\\mathcal{E}_1 - \\eta_2\\mathcal{E}_2$ in which both $\\mathcal{E}_1$ and $\\mathcal{E}_2$ are depolarizing channels (CPTP)\n",
    "- our end-to-end PEC method: ..."
   ]
  },
  {
   "cell_type": "code",
   "execution_count": 196,
   "metadata": {},
   "outputs": [],
   "source": [
    "# baseline: conventional PEC\n",
    "\n",
    "# def execute(circ: cirq.Circuit):\n",
    "#     return cirq.DensityMatrixSimulator().simulate(circ).final_density_matrix[1,1].real\n",
    "\n",
    "def execute_noisy(circ: cirq.Circuit, p_cirq):\n",
    "    n = cirq.num_qubits(circ)\n",
    "    p = 4**n / (4**n - 1) * p_cirq\n",
    "    p_r = 1 - (1 - p)**r\n",
    "    p_r_cirq = p_r * (4**n - 1) / 4**n\n",
    "    qubits = list(circ.all_qubits())\n",
    "    circ_noise = circ.copy()\n",
    "    circ_noise.append(cirq.depolarize(p_r_cirq, 2).on(*qubits))\n",
    "    return cirq.DensityMatrixSimulator().simulate(circ_noise).final_density_matrix[1,1].real\n",
    "\n",
    "def execute_noise_interleaved(circ: cirq.Circuit, p_cirq):\n",
    "    circ_noise_interleaved = cirq.Circuit()\n",
    "    for moment in circ:\n",
    "        circ_noise_interleaved.append(moment)\n",
    "        circ_noise_interleaved.append(cirq.depolarize(p_cirq, 2).on(*qubits))\n",
    "    return cirq.DensityMatrixSimulator().simulate(circ_noise_interleaved).final_density_matrix[1,1].real\n"
   ]
  },
  {
   "cell_type": "code",
   "execution_count": 215,
   "metadata": {},
   "outputs": [],
   "source": [
    "rates_cirq = np.linspace(0, 0.1, 11)\n",
    "noisy_vals = [execute_noisy(circ, p_cirq) for p_cirq in rates_cirq]"
   ]
  },
  {
   "cell_type": "code",
   "execution_count": 202,
   "metadata": {},
   "outputs": [],
   "source": [
    "reps = mitiq.pec.represent_operations_in_circuit_with_global_depolarizing_noise(circ, p)\n",
    "mitiq.pec.execute_with_pec(circ, partial(execute_noisy, p_cirq=p_cirq), representations=reps, random_state=42)"
   ]
  },
  {
   "cell_type": "markdown",
   "metadata": {},
   "source": [
    "baseline: conventional PEC method"
   ]
  },
  {
   "cell_type": "code",
   "execution_count": 211,
   "metadata": {},
   "outputs": [
    {
     "name": "stderr",
     "output_type": "stream",
     "text": [
      " 91%|█████████ | 10/11 [16:25<03:28, 208.40s/it]/Users/jack/opt/miniconda3/lib/python3.8/site-packages/mitiq/pec/pec.py:123: LargeSampleWarning: The number of PEC samples is very large. It may take several minutes. It may be necessary to reduce 'precision' or 'num_samples'.\n",
      "  warnings.warn(_LARGE_SAMPLE_WARN, LargeSampleWarning)\n",
      "100%|██████████| 11/11 [27:07<00:00, 147.91s/it]\n"
     ]
    }
   ],
   "source": [
    "pec_vals = []\n",
    "\n",
    "for p_cirq in tqdm(rates_cirq):\n",
    "    reps = mitiq.pec.represent_operations_in_circuit_with_global_depolarizing_noise(circ, p_cirq)\n",
    "    pec_vals.append(mitiq.pec.execute_with_pec(circ, partial(execute_noisy, p_cirq=p_cirq), \n",
    "                                                  representations=reps, random_state=42))"
   ]
  },
  {
   "cell_type": "code",
   "execution_count": 214,
   "metadata": {},
   "outputs": [
    {
     "data": {
      "image/png": "[encoded data removed]",
      "text/plain": [
       "<Figure size 500x300 with 1 Axes>"
      ]
     },
     "metadata": {},
     "output_type": "display_data"
    }
   ],
   "source": [
    "plt.figure(figsize=(5, 3))\n",
    "plt.plot(rates_cirq, noisy_vals, 'o-', label='Noisy')\n",
    "plt.plot(rates_cirq, pec_vals, 'o-', label='PEC')\n",
    "plt.axhline(prob_11, color='k', linestyle='--', label='Ideal')\n",
    "plt.legend()\n",
    "plt.show()"
   ]
  },
  {
   "cell_type": "code",
   "execution_count": null,
   "metadata": {},
   "outputs": [],
   "source": []
  },
  {
   "cell_type": "code",
   "execution_count": 150,
   "metadata": {},
   "outputs": [],
   "source": [
    "# def execute_local_depolarizing(circ: cirq.Circuit, p_cirq):\n",
    "#     circ_local_noise = circ.copy()\n",
    "#     circ_local_noise = circ_local_noise.with_noise(cirq.depolarize(p_cirq))\n",
    "#     return cirq.DensityMatrixSimulator().simulate(circ_local_noise).final_density_matrix[1,1].real\n",
    "\n",
    "# noisy_vals = [execute_local_depolarizing(circ, p_cirq) for p_cirq in rates_cirq[:6]]\n",
    "\n",
    "# pec_vals = []\n",
    "\n",
    "# for p_cirq in tqdm(rates_cirq):\n",
    "#     p = 4**n / (4**n - 1) * p_cirq\n",
    "#     reps = mitiq.pec.represent_operations_in_circuit_with_local_depolarizing_noise(circ, p)\n",
    "#     pec_vals.append(mitiq.pec.execute_with_pec(circ, \n",
    "#                                                partial(execute_local_depolarizing, p_cirq=p_cirq), \n",
    "#                                                representations=reps, random_state=42))\n"
   ]
  },
  {
   "cell_type": "markdown",
   "metadata": {},
   "source": [
    "baseline: linear combination of two noisy channels: $\\mathcal{E}^{-1} = \\eta_1\\mathcal{E}_1 - \\eta_2\\mathcal{E}_2$ in which both $\\mathcal{E}_1$ and $\\mathcal{E}_2$ are depolarizing channels (CPTP)"
   ]
  },
  {
   "cell_type": "code",
   "execution_count": 230,
   "metadata": {},
   "outputs": [],
   "source": [
    "def inv_channel_rate(epsilon, n=1):\n",
    "    return (4**n-1) * epsilon / (4**n-1 - 4**n * epsilon)\n",
    "\n",
    "def decompose_inv_channel(eta_1, epsilon_inv):\n",
    "    \"\"\"\n",
    "    The result is a relationship between epsilon_1 and epsilon_2 for subsequent manual settings for their specific values.\n",
    "    \"\"\"\n",
    "    import sympy as sp\n",
    "    # 定义未知数\n",
    "    epsilon_1, epsilon_2 = sp.symbols('epsilon_1 epsilon_2')\n",
    "\n",
    "    # 已知常数\n",
    "    eta_2 = eta_1 - 1  # 例如\n",
    "\n",
    "    # 定义方程\n",
    "    eq1 = sp.Eq(eta_1 * (1 - epsilon_1) - eta_2 * (1 - epsilon_2), 1 + epsilon_inv)\n",
    "    eq2 = sp.Eq(eta_1 * epsilon_1 + epsilon_inv, eta_2 * epsilon_2)\n",
    "\n",
    "    # 求解方程组\n",
    "    solutions = sp.solve((eq1, eq2), (epsilon_1, epsilon_2))\n",
    "\n",
    "    return solutions"
   ]
  },
  {
   "cell_type": "code",
   "execution_count": 264,
   "metadata": {},
   "outputs": [
    {
     "data": {
      "text/plain": [
       "{epsilon_1: 0.5*epsilon_2 - 0.06437565}"
      ]
     },
     "execution_count": 264,
     "metadata": {},
     "output_type": "execute_result"
    }
   ],
   "source": [
    "decompose_inv_channel(2, round(inv_channel_rate(p_r_cirq, 2), 7))"
   ]
  },
  {
   "cell_type": "code",
   "execution_count": 275,
   "metadata": {},
   "outputs": [
    {
     "data": {
      "text/plain": [
       "{epsilon_1: 0.5*epsilon_2 - 0.06437565}"
      ]
     },
     "execution_count": 275,
     "metadata": {},
     "output_type": "execute_result"
    }
   ],
   "source": [
    "eta_1 = 2\n",
    "eta_2 = eta_1 - 1\n",
    "\n",
    "epsilon_1 = sp.symbols('epsilon_1')\n",
    "epsilon_2 = sp.symbols('epsilon_2')\n",
    "sol = decompose_inv_channel(eta_1, round(inv_channel_rate(p_r_cirq, 2), 7))\n",
    "sol"
   ]
  },
  {
   "cell_type": "code",
   "execution_count": 276,
   "metadata": {},
   "outputs": [
    {
     "data": {
      "text/plain": [
       "(0.46753024329587667, 0.4412631)"
      ]
     },
     "execution_count": 276,
     "metadata": {},
     "output_type": "execute_result"
    }
   ],
   "source": [
    "prob_11, prob_11_noise"
   ]
  },
  {
   "cell_type": "code",
   "execution_count": 277,
   "metadata": {},
   "outputs": [
    {
     "name": "stdout",
     "output_type": "stream",
     "text": [
      "p1 = 0.13562435, p2 = 0.4\n"
     ]
    }
   ],
   "source": [
    "p2 = 0.4\n",
    "p1 = float(sol[epsilon_1].subs(epsilon_2, p2))\n",
    "print(f\"p1 = {p1}, p2 = {p2}\")"
   ]
  },
  {
   "cell_type": "code",
   "execution_count": 290,
   "metadata": {},
   "outputs": [],
   "source": [
    "# verify the correctness of (eta_1, eta_2, p1, p2) -> K_inv\n",
    "channel = cirq.depolarize(p_r_cirq, 2)\n",
    "super_opr = cirq.kraus_to_superoperator(cirq.protocols.kraus_protocol.kraus(channel))\n",
    "super_opr_inv = np.linalg.inv(super_opr)\n",
    "\n",
    "super_opr_1 = cirq.kraus_to_superoperator(cirq.protocols.kraus_protocol.kraus(cirq.depolarize(p1, 2)))\n",
    "super_opr_2 = cirq.kraus_to_superoperator(cirq.protocols.kraus_protocol.kraus(cirq.depolarize(p2, 2)))\n",
    "\n",
    "K_inv = (eta_1 * super_opr_1 - eta_2 * super_opr_2)\n",
    "\n",
    "assert np.allclose(super_opr_inv, K_inv)"
   ]
  },
  {
   "cell_type": "code",
   "execution_count": 293,
   "metadata": {},
   "outputs": [
    {
     "data": {
      "text/html": [
       "<pre style=\"overflow: auto; white-space: pre;\">0: ───H───@───X───X───Z^0.1───@───X^0.1───X───D(0.113)───\n",
       "          │       │           │           │   │\n",
       "1: ───H───X───T───@───S───────X───H───────@───#2─────────</pre>"
      ],
      "text/plain": [
       "0: ───H───@───X───X───Z^0.1───@───X^0.1───X───D(0.113)───\n",
       "          │       │           │           │   │\n",
       "1: ───H───X───T───@───S───────X───H───────@───#2─────────"
      ]
     },
     "execution_count": 293,
     "metadata": {},
     "output_type": "execute_result"
    }
   ],
   "source": [
    "# let's do linear combination of the effect of inverse channel\n",
    "circ_noise"
   ]
  },
  {
   "cell_type": "code",
   "execution_count": 298,
   "metadata": {},
   "outputs": [],
   "source": [
    "circ_noise_1 = circ_noise.copy()\n",
    "circ_noise_2 = circ_noise.copy()\n",
    "circ_noise_1.append(cirq.depolarize(p1, 2).on(*qubits))\n",
    "circ_noise_2.append(cirq.depolarize(p2, 2).on(*qubits))"
   ]
  },
  {
   "cell_type": "code",
   "execution_count": 299,
   "metadata": {},
   "outputs": [
    {
     "data": {
      "text/plain": [
       "(0.4135938, 0.35965756)"
      ]
     },
     "execution_count": 299,
     "metadata": {},
     "output_type": "execute_result"
    }
   ],
   "source": [
    "res1 = cirq.DensityMatrixSimulator().simulate(circ_noise_1).final_density_matrix[1,1].real\n",
    "res2 = cirq.DensityMatrixSimulator().simulate(circ_noise_2).final_density_matrix[1,1].real\n",
    "res1, res2"
   ]
  },
  {
   "cell_type": "code",
   "execution_count": 301,
   "metadata": {},
   "outputs": [
    {
     "name": "stdout",
     "output_type": "stream",
     "text": [
      "0.46753024329587667 0.4412631 0.4675300419330597\n",
      "disparity =  -2.0136281697613612e-07\n"
     ]
    }
   ],
   "source": [
    "res = eta_1 * res1 - eta_2 * res2\n",
    "print(prob_11, prob_11_noise, res)\n",
    "print('disparity = ', res - prob_11)"
   ]
  },
  {
   "cell_type": "markdown",
   "metadata": {},
   "source": [
    "our end-to-end PEC method: "
   ]
  },
  {
   "cell_type": "code",
   "execution_count": null,
   "metadata": {},
   "outputs": [],
   "source": []
  },
  {
   "cell_type": "code",
   "execution_count": null,
   "metadata": {},
   "outputs": [],
   "source": []
  },
  {
   "cell_type": "code",
   "execution_count": null,
   "metadata": {},
   "outputs": [],
   "source": []
  }
 ],
 "metadata": {
  "kernelspec": {
   "display_name": "base",
   "language": "python",
   "name": "python3"
  },
  "language_info": {
   "codemirror_mode": {
    "name": "ipython",
    "version": 3
   },
   "file_extension": ".py",
   "mimetype": "text/x-python",
   "name": "python",
   "nbconvert_exporter": "python",
   "pygments_lexer": "ipython3",
   "version": "3.8.18"
  }
 },
 "nbformat": 4,
 "nbformat_minor": 2
}
