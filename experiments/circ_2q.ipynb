{
 "cells": [
  {
   "cell_type": "code",
   "execution_count": 25,
   "metadata": {},
   "outputs": [],
   "source": [
    "import sys\n",
    "sys.path.append('..')\n",
    "\n",
    "import numpy as np\n",
    "import cirq\n",
    "from cirq.contrib.qasm_import import circuit_from_qasm\n",
    "\n",
    "import daqec"
   ]
  },
  {
   "cell_type": "markdown",
   "metadata": {},
   "source": [
    "**construct the ideal circuit**"
   ]
  },
  {
   "cell_type": "code",
   "execution_count": 26,
   "metadata": {},
   "outputs": [
    {
     "data": {
      "text/html": [
       "<pre style=\"overflow: auto; white-space: pre;\">0: ───H───@───X───X───Z^0.1───@───X^0.1───X───\n",
       "          │       │           │           │\n",
       "1: ───H───X───T───@───S───────X───H───────@───</pre>"
      ],
      "text/plain": [
       "0: ───H───@───X───X───Z^0.1───@───X^0.1───X───\n",
       "          │       │           │           │\n",
       "1: ───H───X───T───@───S───────X───H───────@───"
      ]
     },
     "execution_count": 26,
     "metadata": {},
     "output_type": "execute_result"
    }
   ],
   "source": [
    "qubits = cirq.LineQubit.range(2)\n",
    "circ = cirq.Circuit([\n",
    "    cirq.H(qubits[0]),\n",
    "    cirq.H(qubits[1]),\n",
    "    cirq.CNOT(qubits[0], qubits[1]),\n",
    "    cirq.X.on(qubits[0]),\n",
    "    cirq.T.on(qubits[1]),\n",
    "    cirq.CNOT(qubits[1], qubits[0]),\n",
    "    cirq.ZPowGate(exponent=0.1).on(qubits[0]),\n",
    "    cirq.S.on(qubits[1]),\n",
    "    cirq.CNOT(qubits[0], qubits[1]),\n",
    "    cirq.XPowGate(exponent=0.1).on(qubits[0]),\n",
    "    cirq.H.on(qubits[1]),\n",
    "    cirq.CNOT(qubits[1], qubits[0]),\n",
    "])\n",
    "circ"
   ]
  },
  {
   "cell_type": "code",
   "execution_count": 27,
   "metadata": {},
   "outputs": [
    {
     "data": {
      "text/plain": [
       "0.46753024329587667"
      ]
     },
     "execution_count": 27,
     "metadata": {},
     "output_type": "execute_result"
    }
   ],
   "source": [
    "init_state = np.array([\n",
    "    [1, 0, 0, 0],\n",
    "    [0, 0, 0, 0],\n",
    "    [0, 0, 0, 0],\n",
    "    [0, 0, 0, 0],\n",
    "]).astype(complex)\n",
    "final_state = circ.unitary() @ init_state @ circ.unitary().conj().T\n",
    "prob_11 = final_state[1, 1].real\n",
    "prob_11"
   ]
  },
  {
   "cell_type": "code",
   "execution_count": 28,
   "metadata": {},
   "outputs": [
    {
     "name": "stdout",
     "output_type": "stream",
     "text": [
      "p_cirq = 0.01, p = 0.010666666666666666\n"
     ]
    }
   ],
   "source": [
    "n = len(qubits)\n",
    "p_cirq = 0.01\n",
    "p = 4**n / (4**n - 1) * p_cirq\n",
    "print(f'p_cirq = {p_cirq}, p = {p}')"
   ]
  },
  {
   "cell_type": "code",
   "execution_count": 29,
   "metadata": {},
   "outputs": [
    {
     "data": {
      "text/html": [
       "<pre style=\"overflow: auto; white-space: pre;\">0: ───H───D(0.01)───@───D(0.01)───X───D(0.01)───X───D(0.01)───Z^0.1───D(0.01)───@───D(0.01)───X^0.1───D(0.01)───X───D(0.01)───\n",
       "          │         │   │             │         │   │                 │         │   │                 │         │   │\n",
       "1: ───H───#2────────X───#2────────T───#2────────@───#2────────S───────#2────────X───#2────────H───────#2────────@───#2────────</pre>"
      ],
      "text/plain": [
       "0: ───H───D(0.01)───@───D(0.01)───X───D(0.01)───X───D(0.01)───Z^0.1───D(0.01)───@───D(0.01)───X^0.1───D(0.01)───X───D(0.01)───\n",
       "          │         │   │             │         │   │                 │         │   │                 │         │   │\n",
       "1: ───H───#2────────X───#2────────T───#2────────@───#2────────S───────#2────────X───#2────────H───────#2────────@───#2────────"
      ]
     },
     "execution_count": 29,
     "metadata": {},
     "output_type": "execute_result"
    }
   ],
   "source": [
    "circ_noise_interleaved = cirq.Circuit()\n",
    "for moment in circ:\n",
    "    circ_noise_interleaved.append(moment)\n",
    "    circ_noise_interleaved.append(cirq.depolarize(p_cirq, 2).on(*qubits))\n",
    "circ_noise_interleaved"
   ]
  },
  {
   "cell_type": "code",
   "execution_count": 30,
   "metadata": {},
   "outputs": [
    {
     "name": "stdout",
     "output_type": "stream",
     "text": [
      "p_r_cirq = 0.0770762065590169, p = 0.08221462032961802\n"
     ]
    },
    {
     "data": {
      "text/html": [
       "<pre style=\"overflow: auto; white-space: pre;\">0: ───H───@───X───X───Z^0.1───@───X^0.1───X───D(0.0771)───\n",
       "          │       │           │           │   │\n",
       "1: ───H───X───T───@───S───────X───H───────@───#2──────────</pre>"
      ],
      "text/plain": [
       "0: ───H───@───X───X───Z^0.1───@───X^0.1───X───D(0.0771)───\n",
       "          │       │           │           │   │\n",
       "1: ───H───X───T───@───S───────X───H───────@───#2──────────"
      ]
     },
     "execution_count": 30,
     "metadata": {},
     "output_type": "execute_result"
    }
   ],
   "source": [
    "r = len(circ)\n",
    "p_r = 1 - (1 - p)**r\n",
    "p_r_cirq = p_r * (4**n - 1) / 4**n\n",
    "print(f'p_r_cirq = {p_r_cirq}, p = {p_r}')\n",
    "circ_noise = circ.copy()\n",
    "circ_noise.append(cirq.depolarize(p_r_cirq, 2).on(*qubits))\n",
    "circ_noise"
   ]
  },
  {
   "cell_type": "markdown",
   "metadata": {},
   "source": [
    "**noisy simulation comparison**"
   ]
  },
  {
   "cell_type": "code",
   "execution_count": 31,
   "metadata": {},
   "outputs": [],
   "source": [
    "sim = cirq.DensityMatrixSimulator()\n",
    "\n",
    "rho1 = sim.simulate(circ_noise_interleaved).final_density_matrix\n",
    "rho2 = sim.simulate(circ_noise).final_density_matrix\n",
    "\n",
    "assert np.allclose(rho1, rho2, atol=1e-5), \"rho1 and rho2 should be equal!\""
   ]
  },
  {
   "cell_type": "markdown",
   "metadata": {},
   "source": [
    "**append inverse channel to `circ_noise`**"
   ]
  },
  {
   "cell_type": "code",
   "execution_count": 32,
   "metadata": {},
   "outputs": [
    {
     "data": {
      "text/html": [
       "<pre style=\"overflow: auto; white-space: pre;\">0: ───H───@───X───X───Z^0.1───@───X^0.1───X───D(0.0771)───\n",
       "          │       │           │           │   │\n",
       "1: ───H───X───T───@───S───────X───H───────@───#2──────────</pre>"
      ],
      "text/plain": [
       "0: ───H───@───X───X───Z^0.1───@───X^0.1───X───D(0.0771)───\n",
       "          │       │           │           │   │\n",
       "1: ───H───X───T───@───S───────X───H───────@───#2──────────"
      ]
     },
     "execution_count": 32,
     "metadata": {},
     "output_type": "execute_result"
    }
   ],
   "source": [
    "circ_noise"
   ]
  },
  {
   "cell_type": "code",
   "execution_count": 33,
   "metadata": {},
   "outputs": [
    {
     "name": "stdout",
     "output_type": "stream",
     "text": [
      "disparity =  -0.017884277004449056\n"
     ]
    }
   ],
   "source": [
    "final_state_noise = cirq.DensityMatrixSimulator().simulate(circ_noise).final_density_matrix\n",
    "prob_11_noise = final_state_noise[1, 1].real\n",
    "print('disparity = ', prob_11_noise - prob_11)"
   ]
  },
  {
   "cell_type": "code",
   "execution_count": null,
   "metadata": {},
   "outputs": [],
   "source": []
  },
  {
   "cell_type": "code",
   "execution_count": null,
   "metadata": {},
   "outputs": [],
   "source": []
  },
  {
   "cell_type": "code",
   "execution_count": null,
   "metadata": {},
   "outputs": [],
   "source": []
  },
  {
   "cell_type": "code",
   "execution_count": null,
   "metadata": {},
   "outputs": [],
   "source": []
  }
 ],
 "metadata": {
  "kernelspec": {
   "display_name": "base",
   "language": "python",
   "name": "python3"
  },
  "language_info": {
   "codemirror_mode": {
    "name": "ipython",
    "version": 3
   },
   "file_extension": ".py",
   "mimetype": "text/x-python",
   "name": "python",
   "nbconvert_exporter": "python",
   "pygments_lexer": "ipython3",
   "version": "3.8.18"
  }
 },
 "nbformat": 4,
 "nbformat_minor": 2
}
