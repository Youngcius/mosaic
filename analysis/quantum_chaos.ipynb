{
 "cells": [
  {
   "cell_type": "code",
   "execution_count": 1,
   "metadata": {},
   "outputs": [],
   "source": [
    "import cirq\n",
    "import numpy as np"
   ]
  },
  {
   "cell_type": "code",
   "execution_count": 22,
   "metadata": {},
   "outputs": [],
   "source": [
    "\n",
    "def append_entangled_pair(circuit: cirq.Circuit):\n",
    "    qubits = list(circuit.all_qubits())\n",
    "    qubits.sort(key=lambda q: q.x)\n",
    "    for q in qubits:\n",
    "        circuit.append(cirq.Rz(rads=np.random.rand()).on(q))\n",
    "        circuit.append(cirq.Ry(rads=np.random.rand()).on(q))\n",
    "        circuit.append(cirq.Rz(rads=np.random.rand()).on(q))\n",
    "\n",
    "    for i in range(len(qubits) - 1):\n",
    "        circuit.append(cirq.CNOT(qubits[i], qubits[i + 1]))\n",
    "\n",
    "    for q in qubits:\n",
    "        circuit.append(cirq.Rz(rads=np.random.rand()).on(q))\n",
    "        circuit.append(cirq.Ry(rads=np.random.rand()).on(q))\n",
    "        circuit.append(cirq.Rz(rads=np.random.rand()).on(q))\n",
    "\n",
    "def infidelity(u: np.ndarray, v: np.ndarray) -> float:\n",
    "    \"\"\"Infidelity between two matrices\"\"\"\n",
    "    if u.shape != v.shape:\n",
    "        raise ValueError('u and v must have the same shape.')\n",
    "    d = u.shape[0]\n",
    "    return 1 - np.abs(np.trace(u.conj().T @ v)) / d"
   ]
  },
  {
   "cell_type": "code",
   "execution_count": 23,
   "metadata": {},
   "outputs": [],
   "source": [
    "n = 5\n",
    "qubits = cirq.LineQubit.range(n)\n",
    "\n",
    "circ = cirq.Circuit()\n",
    "\n",
    "for i in range(n):\n",
    "    circ.append(cirq.H(qubits[i]))\n"
   ]
  },
  {
   "cell_type": "code",
   "execution_count": 24,
   "metadata": {},
   "outputs": [],
   "source": [
    "# circ0_.append(cirq.Rx(rads=1e-4).on(qubits[1]))\n"
   ]
  },
  {
   "cell_type": "code",
   "execution_count": 30,
   "metadata": {},
   "outputs": [],
   "source": [
    "state_init = np.zeros(2**n)\n",
    "state_init[0] = 1\n",
    "\n",
    "circ0 = circ.copy()\n",
    "circ0_ = circ0.copy()\n",
    "circ0_.append(cirq.X.on(qubits[1]))\n",
    "state0 = cirq.unitary(circ0) @ state_init\n",
    "state0_ = cirq.unitary(circ0_) @ state_init\n",
    "\n",
    "circ1 = circ0.copy()\n",
    "append_entangled_pair(circ1)\n",
    "circ1_ = circ1.copy()\n",
    "circ1_.append(cirq.X.on(qubits[1]))\n",
    "state1 = cirq.unitary(circ1) @ state_init\n",
    "state1_ = cirq.unitary(circ1_) @ state_init\n",
    "\n",
    "circ2 = circ1.copy()\n",
    "append_entangled_pair(circ2)\n",
    "circ2_ = circ2.copy()\n",
    "circ2_.append(cirq.X.on(qubits[1]))\n",
    "state2 = cirq.unitary(circ2) @ state_init\n",
    "state2_ = cirq.unitary(circ2_) @ state_init\n",
    "\n",
    "circ3 = circ2.copy()\n",
    "append_entangled_pair(circ3)\n",
    "circ3_ = circ3.copy()\n",
    "circ3_.append(cirq.X.on(qubits[1]))\n",
    "state3 = cirq.unitary(circ3) @ state_init\n",
    "state3_ = cirq.unitary(circ3_) @ state_init\n",
    "\n",
    "circ4 = circ3.copy()\n",
    "append_entangled_pair(circ4)\n",
    "circ4_ = circ4.copy()\n",
    "circ4_.append(cirq.X.on(qubits[1]))\n",
    "state4 = cirq.unitary(circ4) @ state_init\n",
    "state4_ = cirq.unitary(circ4_) @ state_init\n",
    "\n",
    "circ5 = circ4.copy()\n",
    "append_entangled_pair(circ5)\n",
    "circ5_ = circ5.copy()\n",
    "circ5_.append(cirq.X.on(qubits[1]))\n",
    "state5 = cirq.unitary(circ5) @ state_init\n",
    "state5_ = cirq.unitary(circ5_) @ state_init\n",
    "\n",
    "circ6 = circ5.copy()\n",
    "append_entangled_pair(circ6)\n",
    "circ6_ = circ6.copy()\n",
    "circ6_.append(cirq.X.on(qubits[1]))\n",
    "state6 = cirq.unitary(circ6) @ state_init\n",
    "state6_ = cirq.unitary(circ6_) @ state_init\n"
   ]
  },
  {
   "cell_type": "code",
   "execution_count": 31,
   "metadata": {},
   "outputs": [
    {
     "name": "stdout",
     "output_type": "stream",
     "text": [
      "1.0000000000000007 0.37927271610301344 0.3607372066641162 0.3375292670774546 0.015265462762269588 0.2494721370347581 0.06362166115246916\n"
     ]
    }
   ],
   "source": [
    "print(\n",
    "    abs(state0 @ state0_),\n",
    "    abs(state1 @ state1_),\n",
    "    abs(state2 @ state2_),\n",
    "    abs(state3 @ state3_),\n",
    "    abs(state4 @ state4_),\n",
    "    abs(state5 @ state5_),\n",
    "    abs(state6 @ state6_),\n",
    ")"
   ]
  },
  {
   "cell_type": "code",
   "execution_count": 27,
   "metadata": {},
   "outputs": [
    {
     "data": {
      "text/html": [
       "<pre style=\"overflow: auto; white-space: pre;\">0: ───H───Rz(0.01π)────Ry(0.112π)───Rz(0.115π)───@───Rz(0.194π)───Ry(0.182π)───Rz(0.3π)────────────────────────────────────────────\n",
       "                                                 │\n",
       "1: ───H───Rz(0.067π)───Ry(0.179π)───Rz(0.233π)───X───@────────────Rz(0.115π)───Ry(0.263π)───Rz(0.097π)─────────────────────────────\n",
       "                                                     │\n",
       "2: ───H───Rz(0.125π)───Ry(0.061π)───Rz(0.237π)───────X────────────@────────────Rz(0.253π)───Ry(0.121π)───Rz(0.022π)────────────────\n",
       "                                                                  │\n",
       "3: ───H───Rz(0.177π)───Ry(0.134π)───Rz(0.107π)────────────────────X────────────@────────────Rz(0.183π)───Ry(0.271π)───Rz(0.311π)───\n",
       "                                                                               │\n",
       "4: ───H───Rz(0.204π)───Ry(0.112π)───Rz(0.304π)─────────────────────────────────X────────────Rz(0.038π)───Ry(0.026π)───Rz(0.215π)───</pre>"
      ],
      "text/plain": [
       "0: ───H───Rz(0.01π)────Ry(0.112π)───Rz(0.115π)───@───Rz(0.194π)───Ry(0.182π)───Rz(0.3π)────────────────────────────────────────────\n",
       "                                                 │\n",
       "1: ───H───Rz(0.067π)───Ry(0.179π)───Rz(0.233π)───X───@────────────Rz(0.115π)───Ry(0.263π)───Rz(0.097π)─────────────────────────────\n",
       "                                                     │\n",
       "2: ───H───Rz(0.125π)───Ry(0.061π)───Rz(0.237π)───────X────────────@────────────Rz(0.253π)───Ry(0.121π)───Rz(0.022π)────────────────\n",
       "                                                                  │\n",
       "3: ───H───Rz(0.177π)───Ry(0.134π)───Rz(0.107π)────────────────────X────────────@────────────Rz(0.183π)───Ry(0.271π)───Rz(0.311π)───\n",
       "                                                                               │\n",
       "4: ───H───Rz(0.204π)───Ry(0.112π)───Rz(0.304π)─────────────────────────────────X────────────Rz(0.038π)───Ry(0.026π)───Rz(0.215π)───"
      ]
     },
     "execution_count": 27,
     "metadata": {},
     "output_type": "execute_result"
    }
   ],
   "source": [
    "circ1_"
   ]
  }
 ],
 "metadata": {
  "kernelspec": {
   "display_name": "base",
   "language": "python",
   "name": "python3"
  },
  "language_info": {
   "codemirror_mode": {
    "name": "ipython",
    "version": 3
   },
   "file_extension": ".py",
   "mimetype": "text/x-python",
   "name": "python",
   "nbconvert_exporter": "python",
   "pygments_lexer": "ipython3",
   "version": "3.9.18"
  }
 },
 "nbformat": 4,
 "nbformat_minor": 2
}
