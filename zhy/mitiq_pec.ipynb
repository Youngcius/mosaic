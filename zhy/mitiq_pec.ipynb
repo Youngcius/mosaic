{
 "cells": [
  {
   "cell_type": "code",
   "execution_count": 24,
   "metadata": {},
   "outputs": [],
   "source": [
    "import numpy as np\n",
    "import cirq\n",
    "import mitiq\n",
    "import mitiq.pec\n",
    "import mitiq.benchmarks\n",
    "import matplotlib.pyplot as plt"
   ]
  },
  {
   "cell_type": "markdown",
   "metadata": {},
   "source": [
    "**Probabilistic Error Cancelation**\n",
    "\n",
    "Probabilistic error cancellation (PEC) is an error mitigation technique in which ideal operations are represented as linear combinations of noisy operations. In PEC, unbiased estimates of expectation values are obtained by Monte Carlo averaging over different noisy circuits (see [What is the theory behind PEC?](https://mitiq.readthedocs.io/en/stable/guide/pec-5-theory.html) for more information on the theory)."
   ]
  },
  {
   "cell_type": "markdown",
   "metadata": {},
   "source": [
    "#### Demo circuit -- single-qubit RB circuit"
   ]
  },
  {
   "cell_type": "code",
   "execution_count": 170,
   "metadata": {},
   "outputs": [
    {
     "data": {
      "text/html": [
       "<pre style=\"overflow: auto; white-space: pre;\">0: ───Y^-0.5───X^0───X^-0.5───Y^0.5───Y^-0.5───X^0.5───Y^0.5───</pre>"
      ],
      "text/plain": [
       "0: ───Y^-0.5───X^0───X^-0.5───Y^0.5───Y^-0.5───X^0.5───Y^0.5───"
      ]
     },
     "execution_count": 170,
     "metadata": {},
     "output_type": "execute_result"
    }
   ],
   "source": [
    "# single-qubit randomized benchmarking circuit\n",
    "\n",
    "circ = mitiq.benchmarks.generate_rb_circuits(\n",
    "    1, num_cliffords=2\n",
    ")[0]\n",
    "circ"
   ]
  },
  {
   "cell_type": "code",
   "execution_count": 171,
   "metadata": {},
   "outputs": [
    {
     "data": {
      "text/plain": [
       "frozenset({cirq.LineQubit(0)})"
      ]
     },
     "execution_count": 171,
     "metadata": {},
     "output_type": "execute_result"
    }
   ],
   "source": [
    "circ.all_qubits()"
   ]
  },
  {
   "cell_type": "code",
   "execution_count": 172,
   "metadata": {},
   "outputs": [],
   "source": [
    "def execute(circ: cirq.Circuit, noise_level=0.01):\n",
    "    circ = mitiq.interface.convert_to_mitiq(circ)[0]\n",
    "    circ_noisy = circ.with_noise(cirq.depolarize(noise_level))\n",
    "    rho = cirq.DensityMatrixSimulator().simulate(circ_noisy).final_density_matrix\n",
    "    return rho[0,0].real"
   ]
  },
  {
   "cell_type": "code",
   "execution_count": 173,
   "metadata": {},
   "outputs": [
    {
     "data": {
      "image/png": "[encoded data removed]",
      "text/plain": [
       "<Figure size 500x300 with 1 Axes>"
      ]
     },
     "metadata": {},
     "output_type": "display_data"
    }
   ],
   "source": [
    "rates = np.linspace(0, 0.1, 11)\n",
    "vals = [execute(circ, rate) for rate in rates]\n",
    "\n",
    "plt.figure(figsize=(5,3))\n",
    "plt.plot(rates, vals, 'o-')\n",
    "plt.xlabel('Noise rate')\n",
    "plt.ylabel('Expectation value')\n",
    "plt.show()"
   ]
  },
  {
   "cell_type": "code",
   "execution_count": 174,
   "metadata": {},
   "outputs": [
    {
     "data": {
      "text/plain": [
       "(mitiq.pec.types.types.OperationRepresentation, 5)"
      ]
     },
     "execution_count": 174,
     "metadata": {},
     "output_type": "execute_result"
    }
   ],
   "source": [
    "# represent \"idea gates\" as linear combinations of \"noisy gates\"\n",
    "\n",
    "reps = mitiq.pec.represent_operations_in_circuit_with_local_depolarizing_noise(circ, noise_level=0.01)\n",
    "type(reps[0]), len(reps)"
   ]
  },
  {
   "cell_type": "code",
   "execution_count": 175,
   "metadata": {},
   "outputs": [
    {
     "name": "stdout",
     "output_type": "stream",
     "text": [
      "0: ───Y^0.5─── = 1.010*(0: ───Y^0.5───)-0.003*(0: ───Y^0.5───X───)-0.003*(0: ───Y^0.5───Y───)-0.003*(0: ───Y^0.5───Z───)\n",
      "0: ───X^0─── = 1.010*(0: ───X^0───)-0.003*(0: ───X^0───X───)-0.003*(0: ───X^0───Y───)-0.003*(0: ───X^0───Z───)\n",
      "0: ───Y^-0.5─── = 1.010*(0: ───Y^-0.5───)-0.003*(0: ───Y^-0.5───X───)-0.003*(0: ───Y^-0.5───Y───)-0.003*(0: ───Y^-0.5───Z───)\n",
      "0: ───X^-0.5─── = 1.010*(0: ───X^-0.5───)-0.003*(0: ───X^-0.5───X───)-0.003*(0: ───X^-0.5───Y───)-0.003*(0: ───X^-0.5───Z───)\n"
     ]
    }
   ],
   "source": [
    "print(reps[0])\n",
    "print(reps[1])\n",
    "print(reps[2])\n",
    "print(reps[3])"
   ]
  },
  {
   "cell_type": "code",
   "execution_count": 176,
   "metadata": {},
   "outputs": [
    {
     "data": {
      "text/plain": [
       "[1.010135135135135,\n",
       " -0.003378378378378378,\n",
       " -0.003378378378378378,\n",
       " -0.003378378378378378]"
      ]
     },
     "execution_count": 176,
     "metadata": {},
     "output_type": "execute_result"
    }
   ],
   "source": [
    "reps[0].coeffs"
   ]
  },
  {
   "cell_type": "code",
   "execution_count": 177,
   "metadata": {},
   "outputs": [
    {
     "data": {
      "text/plain": [
       "array([ 0.99006623, -0.00331126, -0.00331126, -0.00331126])"
      ]
     },
     "execution_count": 177,
     "metadata": {},
     "output_type": "execute_result"
    }
   ],
   "source": [
    "np.array(reps[0].coeffs) / np.abs(reps[0].coeffs).sum()"
   ]
  },
  {
   "cell_type": "code",
   "execution_count": 178,
   "metadata": {},
   "outputs": [],
   "source": [
    "val_noisy = execute(circ, noise_level=0.01)\n",
    "val_pec = mitiq.pec.execute_with_pec(circ, execute, representations=reps)"
   ]
  },
  {
   "cell_type": "code",
   "execution_count": 179,
   "metadata": {},
   "outputs": [
    {
     "data": {
      "text/plain": [
       "(1.0030800582863606, 0.9551591)"
      ]
     },
     "execution_count": 179,
     "metadata": {},
     "output_type": "execute_result"
    }
   ],
   "source": [
    "val_pec, val_noisy"
   ]
  },
  {
   "cell_type": "code",
   "execution_count": 103,
   "metadata": {},
   "outputs": [],
   "source": [
    "def cal_coeffs(noise_level):\n",
    "    eta1 = 1 + 3/4 * noise_level / (1 - noise_level)\n",
    "    eta2 = (1 - eta1) / 3\n",
    "    return eta1, eta2, eta2, eta2"
   ]
  },
  {
   "cell_type": "code",
   "execution_count": 107,
   "metadata": {},
   "outputs": [
    {
     "data": {
      "text/plain": [
       "(1.0075757575757576,\n",
       " -0.002525252525252523,\n",
       " -0.002525252525252523,\n",
       " -0.002525252525252523)"
      ]
     },
     "execution_count": 107,
     "metadata": {},
     "output_type": "execute_result"
    }
   ],
   "source": [
    "cal_coeffs(0.01)"
   ]
  },
  {
   "cell_type": "code",
   "execution_count": null,
   "metadata": {},
   "outputs": [],
   "source": []
  },
  {
   "cell_type": "markdown",
   "metadata": {},
   "source": [
    "#### Practical circuit -- 8-qubit random circuit"
   ]
  },
  {
   "cell_type": "code",
   "execution_count": 185,
   "metadata": {},
   "outputs": [],
   "source": [
    "from cirq.contrib.qasm_import import circuit_from_qasm"
   ]
  },
  {
   "cell_type": "code",
   "execution_count": 224,
   "metadata": {},
   "outputs": [],
   "source": [
    "with open('../benchmarks/random/rand_8.qasm') as f:\n",
    "    qasm = f.read()\n",
    "circ = circuit_from_qasm(qasm)\n",
    "circ = circ[:10]"
   ]
  },
  {
   "cell_type": "code",
   "execution_count": 225,
   "metadata": {},
   "outputs": [
    {
     "data": {
      "text/html": [
       "<pre style=\"overflow: auto; white-space: pre;\">        ┌──────┐   ┌─────┐          ┌─────┐   ┌──────┐   ┌─────┐   ┌─────────┐   ┌──┐\n",
       "q_0: ─────────X─────T────────T───────S─────────@──────────S─────────S─────────────T─────S───T^-1───\n",
       "              │                                │\n",
       "q_1: ────S────┼─────────@────T^-1────T─────────┼────@─────T─────────────X──────────X────T───T^-1───\n",
       "              │         │                      │    │                   │          │\n",
       "q_2: ────T^-1─┼─────S^-1┼────H───────────@─────┼S^-1┼─────T^-1──────T^-1┼─────────X┼────H───H──────\n",
       "              │         │                │     │    │                   │         ││\n",
       "q_3: ────────@┼─────S───┼────S^-1────X───┼─────┼H───┼─────────X─────T───┼─────────@┼────@───T──────\n",
       "             ││         │            │   │     │    │         │         │          │    │\n",
       "q_4: ────H───┼┼─────S───┼────X───────┼───X─────X────┼─────S───┼─────X───┼──────────@────X───@──────\n",
       "             ││         │            │              │         │     │   │                   │\n",
       "q_5: ────S───┼┼─────X───┼────S───────@─────────X────┼─────S^-1┼─────┼───┼S^-1─────S─────S───X──────\n",
       "             ││     │   │                      │    │         │     │   │\n",
       "q_6: ────────┼@─────┼───X────S───────T^-1──────@────┼─────H───┼─────┼───@─────────@─────X───T^-1───\n",
       "             │      │                               │         │     │             │     │\n",
       "q_7: ────────X──────@────────H───────T^-1───────────X─────────@─────@─────────────X─────@───H──────\n",
       "        └──────┘   └─────┘          └─────┘   └──────┘   └─────┘   └─────────┘   └──┘</pre>"
      ],
      "text/plain": [
       "        ┌──────┐   ┌─────┐          ┌─────┐   ┌──────┐   ┌─────┐   ┌─────────┐   ┌──┐\n",
       "q_0: ─────────X─────T────────T───────S─────────@──────────S─────────S─────────────T─────S───T^-1───\n",
       "              │                                │\n",
       "q_1: ────S────┼─────────@────T^-1────T─────────┼────@─────T─────────────X──────────X────T───T^-1───\n",
       "              │         │                      │    │                   │          │\n",
       "q_2: ────T^-1─┼─────S^-1┼────H───────────@─────┼S^-1┼─────T^-1──────T^-1┼─────────X┼────H───H──────\n",
       "              │         │                │     │    │                   │         ││\n",
       "q_3: ────────@┼─────S───┼────S^-1────X───┼─────┼H───┼─────────X─────T───┼─────────@┼────@───T──────\n",
       "             ││         │            │   │     │    │         │         │          │    │\n",
       "q_4: ────H───┼┼─────S───┼────X───────┼───X─────X────┼─────S───┼─────X───┼──────────@────X───@──────\n",
       "             ││         │            │              │         │     │   │                   │\n",
       "q_5: ────S───┼┼─────X───┼────S───────@─────────X────┼─────S^-1┼─────┼───┼S^-1─────S─────S───X──────\n",
       "             ││     │   │                      │    │         │     │   │\n",
       "q_6: ────────┼@─────┼───X────S───────T^-1──────@────┼─────H───┼─────┼───@─────────@─────X───T^-1───\n",
       "             │      │                               │         │     │             │     │\n",
       "q_7: ────────X──────@────────H───────T^-1───────────X─────────@─────@─────────────X─────@───H──────\n",
       "        └──────┘   └─────┘          └─────┘   └──────┘   └─────┘   └─────────┘   └──┘"
      ]
     },
     "execution_count": 225,
     "metadata": {},
     "output_type": "execute_result"
    }
   ],
   "source": [
    "circ"
   ]
  },
  {
   "cell_type": "code",
   "execution_count": 226,
   "metadata": {},
   "outputs": [],
   "source": [
    "reps = mitiq.pec.represent_operations_in_circuit_with_local_depolarizing_noise(circ, noise_level=0.01)"
   ]
  },
  {
   "cell_type": "code",
   "execution_count": 227,
   "metadata": {},
   "outputs": [
    {
     "data": {
      "text/plain": [
       "41"
      ]
     },
     "execution_count": 227,
     "metadata": {},
     "output_type": "execute_result"
    }
   ],
   "source": [
    "len(reps)"
   ]
  },
  {
   "cell_type": "code",
   "execution_count": 228,
   "metadata": {},
   "outputs": [
    {
     "name": "stdout",
     "output_type": "stream",
     "text": [
      "4\n",
      "q_0: ───S─── = 1.010*(q_0: ───S───)-0.003*(q_0: ───S───X───)-0.003*(q_0: ───S───Y───)-0.003*(q_0: ───S───Z───)\n"
     ]
    }
   ],
   "source": [
    "print(len(reps[0].coeffs))\n",
    "print(reps[0])"
   ]
  },
  {
   "cell_type": "code",
   "execution_count": 229,
   "metadata": {},
   "outputs": [
    {
     "data": {
      "text/plain": [
       "(q_6: ───X───\n",
       "        │\n",
       "q_7: ───@───,\n",
       " [1.0203729912344777,\n",
       "  -0.003412618699780862,\n",
       "  -0.003412618699780862,\n",
       "  -0.003412618699780862,\n",
       "  -0.003412618699780862,\n",
       "  -0.003412618699780862,\n",
       "  -0.003412618699780862,\n",
       "  1.1413440467494523e-05,\n",
       "  1.1413440467494523e-05,\n",
       "  1.1413440467494523e-05,\n",
       "  1.1413440467494523e-05,\n",
       "  1.1413440467494523e-05,\n",
       "  1.1413440467494523e-05,\n",
       "  1.1413440467494523e-05,\n",
       "  1.1413440467494523e-05,\n",
       "  1.1413440467494523e-05])"
      ]
     },
     "execution_count": 229,
     "metadata": {},
     "output_type": "execute_result"
    }
   ],
   "source": [
    "reps[-1].ideal, reps[-1].coeffs"
   ]
  },
  {
   "cell_type": "code",
   "execution_count": 230,
   "metadata": {},
   "outputs": [
    {
     "data": {
      "text/plain": [
       "mitiq.pec.types.types.OperationRepresentation"
      ]
     },
     "execution_count": 230,
     "metadata": {},
     "output_type": "execute_result"
    }
   ],
   "source": [
    "type(reps[0])"
   ]
  },
  {
   "cell_type": "code",
   "execution_count": 231,
   "metadata": {},
   "outputs": [
    {
     "data": {
      "text/plain": [
       "62"
      ]
     },
     "execution_count": 231,
     "metadata": {},
     "output_type": "execute_result"
    }
   ],
   "source": [
    "len(list(circ.all_operations()))"
   ]
  },
  {
   "cell_type": "code",
   "execution_count": 232,
   "metadata": {},
   "outputs": [
    {
     "data": {
      "text/plain": [
       "cirq.ops.gate_operation.GateOperation"
      ]
     },
     "execution_count": 232,
     "metadata": {},
     "output_type": "execute_result"
    }
   ],
   "source": [
    "type(list(circ.all_operations())[0])"
   ]
  },
  {
   "cell_type": "code",
   "execution_count": 233,
   "metadata": {},
   "outputs": [
    {
     "data": {
      "text/plain": [
       "(<mitiq.pec.types.types.NoisyOperation at 0x7fb613c618e0>,\n",
       " 1,\n",
       " 1.010135135135135)"
      ]
     },
     "execution_count": 233,
     "metadata": {},
     "output_type": "execute_result"
    }
   ],
   "source": [
    "reps[0].sample()"
   ]
  },
  {
   "cell_type": "code",
   "execution_count": 234,
   "metadata": {},
   "outputs": [
    {
     "data": {
      "text/html": [
       "<pre style=\"overflow: auto; white-space: pre;\">q_6: ───X───\n",
       "        │\n",
       "q_7: ───@───</pre>"
      ],
      "text/plain": [
       "q_6: ───X───\n",
       "        │\n",
       "q_7: ───@───"
      ]
     },
     "execution_count": 234,
     "metadata": {},
     "output_type": "execute_result"
    }
   ],
   "source": [
    "reps[-1].ideal"
   ]
  },
  {
   "cell_type": "code",
   "execution_count": 238,
   "metadata": {},
   "outputs": [],
   "source": [
    "val_ideal = execute(circ, noise_level=0)\n",
    "val_noisy = execute(circ, noise_level=0.005)"
   ]
  },
  {
   "cell_type": "code",
   "execution_count": 239,
   "metadata": {},
   "outputs": [
    {
     "data": {
      "text/plain": [
       "(0.015624997, 0.0143068945)"
      ]
     },
     "execution_count": 239,
     "metadata": {},
     "output_type": "execute_result"
    }
   ],
   "source": [
    "val_ideal, val_noisy"
   ]
  },
  {
   "cell_type": "code",
   "execution_count": null,
   "metadata": {},
   "outputs": [],
   "source": []
  },
  {
   "cell_type": "code",
   "execution_count": null,
   "metadata": {},
   "outputs": [],
   "source": []
  },
  {
   "cell_type": "code",
   "execution_count": null,
   "metadata": {},
   "outputs": [],
   "source": []
  },
  {
   "cell_type": "markdown",
   "metadata": {},
   "source": [
    "#### Construct `NoisyOperation` manually"
   ]
  },
  {
   "cell_type": "code",
   "execution_count": 181,
   "metadata": {},
   "outputs": [
    {
     "name": "stdout",
     "output_type": "stream",
     "text": [
      "   ┌───┐\n",
      "q: ┤ H ├\n",
      "   └───┘\n",
      "   ┌───┐┌───┐\n",
      "q: ┤ H ├┤ X ├\n",
      "   └───┘└───┘\n",
      "   ┌───┐┌───┐\n",
      "q: ┤ H ├┤ Y ├\n",
      "   └───┘└───┘\n",
      "   ┌───┐┌───┐\n",
      "q: ┤ H ├┤ Z ├\n",
      "   └───┘└───┘\n",
      "4 NoisyOperation objects defined.\n"
     ]
    }
   ],
   "source": [
    "import qiskit\n",
    "\n",
    "basis_circuit_h = qiskit.QuantumCircuit(1)\n",
    "basis_circuit_h.h(0)\n",
    "\n",
    "basis_circuit_hx = qiskit.QuantumCircuit(1)\n",
    "basis_circuit_hx.h(0)\n",
    "basis_circuit_hx.x(0)\n",
    "\n",
    "basis_circuit_hy = qiskit.QuantumCircuit(1)\n",
    "basis_circuit_hy.h(0)\n",
    "basis_circuit_hy.y(0)\n",
    "\n",
    "basis_circuit_hz = qiskit.QuantumCircuit(1)\n",
    "basis_circuit_hz.h(0)\n",
    "basis_circuit_hz.z(0)\n",
    "\n",
    "basis_circuits = [basis_circuit_h, basis_circuit_hx, basis_circuit_hy, basis_circuit_hz] \n",
    "\n",
    "for c in basis_circuits:\n",
    "    print(c)\n",
    "    \n",
    "from mitiq.pec.representations import local_depolarizing_kraus\n",
    "from mitiq.pec.channels import kraus_to_super\n",
    "\n",
    "# Compute depolarizing superoperator\n",
    "BASE_NOISE = 0.01\n",
    "depo_super = kraus_to_super(local_depolarizing_kraus(BASE_NOISE, num_qubits=1))\n",
    "\n",
    "# Define the superoperator matrix of each noisy operation\n",
    "super_matrices = [\n",
    "    depo_super @ kraus_to_super([qiskit.quantum_info.Operator(c).data]) \n",
    "    for c in basis_circuits\n",
    "]\n",
    "\n",
    "# Define NoisyOperation objects combining circuits with channel matrices\n",
    "noisy_operations = [\n",
    "    mitiq.pec.NoisyOperation(circuit=c, channel_matrix=m)\n",
    "    for c, m in zip(basis_circuits, super_matrices)\n",
    "]\n",
    "\n",
    "print(f\"{len(noisy_operations)} NoisyOperation objects defined.\")"
   ]
  },
  {
   "cell_type": "code",
   "execution_count": 184,
   "metadata": {},
   "outputs": [
    {
     "data": {
      "text/plain": [
       "[1.0101351149324356,\n",
       " -0.00337837831080956,\n",
       " -0.003378378310809782,\n",
       " -0.003378378310809116]"
      ]
     },
     "execution_count": 184,
     "metadata": {},
     "output_type": "execute_result"
    }
   ],
   "source": [
    "reps = mitiq.pec.representations.find_optimal_representation(basis_circuit_h, noisy_operations)\n",
    "reps.coeffs"
   ]
  },
  {
   "cell_type": "code",
   "execution_count": 182,
   "metadata": {},
   "outputs": [
    {
     "data": {
      "text/plain": [
       "<qiskit.circuit.quantumcircuit.QuantumCircuit at 0x7fb622946a00>"
      ]
     },
     "execution_count": 182,
     "metadata": {},
     "output_type": "execute_result"
    }
   ],
   "source": [
    "basis_circuit_h"
   ]
  },
  {
   "cell_type": "code",
   "execution_count": 159,
   "metadata": {},
   "outputs": [
    {
     "data": {
      "text/plain": [
       "<function cirq.qis.channels.kraus_to_superoperator(kraus_operators: Sequence[numpy.ndarray]) -> numpy.ndarray>"
      ]
     },
     "execution_count": 159,
     "metadata": {},
     "output_type": "execute_result"
    }
   ],
   "source": []
  },
  {
   "cell_type": "code",
   "execution_count": null,
   "metadata": {},
   "outputs": [],
   "source": []
  },
  {
   "cell_type": "code",
   "execution_count": 161,
   "metadata": {},
   "outputs": [],
   "source": [
    "\n",
    "\n"
   ]
  },
  {
   "cell_type": "code",
   "execution_count": null,
   "metadata": {},
   "outputs": [],
   "source": []
  },
  {
   "cell_type": "code",
   "execution_count": null,
   "metadata": {},
   "outputs": [],
   "source": []
  }
 ],
 "metadata": {
  "kernelspec": {
   "display_name": "base",
   "language": "python",
   "name": "python3"
  },
  "language_info": {
   "codemirror_mode": {
    "name": "ipython",
    "version": 3
   },
   "file_extension": ".py",
   "mimetype": "text/x-python",
   "name": "python",
   "nbconvert_exporter": "python",
   "pygments_lexer": "ipython3",
   "version": "3.8.18"
  }
 },
 "nbformat": 4,
 "nbformat_minor": 2
}
