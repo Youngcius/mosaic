{
 "cells": [
  {
   "cell_type": "code",
   "execution_count": 1,
   "metadata": {},
   "outputs": [],
   "source": [
    "from sympy import *\n",
    "import numpy as np\n",
    "import cirq\n",
    "from sympy.physics import quantum\n",
    "from sympy import abc"
   ]
  },
  {
   "cell_type": "code",
   "execution_count": 2,
   "metadata": {},
   "outputs": [],
   "source": [
    "sigma_i = Matrix([[1, 0], [0, 1]])\n",
    "sigma_x = Matrix([[0, 1], [1, 0]])\n",
    "sigma_y = Matrix([[0, -I], [I, 0]])\n",
    "sigma_z = Matrix([[1, 0], [0, -1]])\n",
    "\n",
    "zero_ket = Matrix([[1], [0]])\n",
    "one_ket = Matrix([[0], [1]])\n",
    "zero_zero = zero_ket * quantum.Dagger(zero_ket)\n",
    "one_one = one_ket * quantum.Dagger(one_ket)\n",
    "zero_one = zero_ket * quantum.Dagger(one_ket)\n",
    "one_zero = one_ket * quantum.Dagger(zero_ket)\n"
   ]
  },
  {
   "cell_type": "code",
   "execution_count": 3,
   "metadata": {},
   "outputs": [],
   "source": [
    "def flatten_by_row(mat):\n",
    "    d1, d2 = mat.shape\n",
    "    return mat.reshape(d1 * d2, 1)\n",
    "\n",
    "def flatten_by_col(mat):\n",
    "    d2 = mat.shape[1]\n",
    "    vec = mat[:,0]\n",
    "    for i in range(1, d2):\n",
    "        vec = vec.col_join(mat[:,i])\n",
    "    return vec\n",
    "    "
   ]
  },
  {
   "cell_type": "markdown",
   "metadata": {},
   "source": [
    "### Example: Amplitude damping channel\n"
   ]
  },
  {
   "cell_type": "code",
   "execution_count": 49,
   "metadata": {},
   "outputs": [],
   "source": [
    "E0 = zero_zero + sqrt(1 - abc.epsilon) * one_one\n",
    "E1 = sqrt(abc.epsilon) * zero_one\n",
    "d = E0.shape[0]\n",
    "E0_vec = flatten_by_row(E0)\n",
    "E1_vec = flatten_by_row(E1)"
   ]
  },
  {
   "cell_type": "code",
   "execution_count": 50,
   "metadata": {},
   "outputs": [
    {
     "data": {
      "text/latex": [
       "$\\displaystyle \\left[\\begin{matrix}1 & 0 & 0 & 0\\\\0 & \\sqrt{1 - \\epsilon} & 0 & 0\\\\0 & 0 & \\sqrt{1 - \\epsilon} & 0\\\\0 & 0 & 0 & 1 - \\epsilon\\end{matrix}\\right]$"
      ],
      "text/plain": [
       "Matrix([\n",
       "[1,                 0,                 0,           0],\n",
       "[0, sqrt(1 - epsilon),                 0,           0],\n",
       "[0,                 0, sqrt(1 - epsilon),           0],\n",
       "[0,                 0,                 0, 1 - epsilon]])"
      ]
     },
     "execution_count": 50,
     "metadata": {},
     "output_type": "execute_result"
    }
   ],
   "source": [
    "kronecker_product(E0, E0)"
   ]
  },
  {
   "cell_type": "code",
   "execution_count": 51,
   "metadata": {},
   "outputs": [
    {
     "data": {
      "text/latex": [
       "$\\displaystyle \\left[\\begin{matrix}0 & 0 & 0 & \\epsilon\\\\0 & 0 & 0 & 0\\\\0 & 0 & 0 & 0\\\\0 & 0 & 0 & 0\\end{matrix}\\right]$"
      ],
      "text/plain": [
       "Matrix([\n",
       "[0, 0, 0, epsilon],\n",
       "[0, 0, 0,       0],\n",
       "[0, 0, 0,       0],\n",
       "[0, 0, 0,       0]])"
      ]
     },
     "execution_count": 51,
     "metadata": {},
     "output_type": "execute_result"
    }
   ],
   "source": [
    "kronecker_product(E1, E1)"
   ]
  },
  {
   "cell_type": "code",
   "execution_count": 5,
   "metadata": {},
   "outputs": [
    {
     "data": {
      "text/latex": [
       "$\\displaystyle \\left[\\begin{matrix}1 & 0 & 0 & \\epsilon\\\\0 & \\sqrt{1 - \\epsilon} & 0 & 0\\\\0 & 0 & \\sqrt{1 - \\epsilon} & 0\\\\0 & 0 & 0 & 1 - \\epsilon\\end{matrix}\\right]$"
      ],
      "text/plain": [
       "Matrix([\n",
       "[1,                 0,                 0,     epsilon],\n",
       "[0, sqrt(1 - epsilon),                 0,           0],\n",
       "[0,                 0, sqrt(1 - epsilon),           0],\n",
       "[0,                 0,                 0, 1 - epsilon]])"
      ]
     },
     "execution_count": 5,
     "metadata": {},
     "output_type": "execute_result"
    }
   ],
   "source": [
    "K = kronecker_product(E0, E0) + kronecker_product(E1, E1)  # superoperator\n",
    "K"
   ]
  },
  {
   "cell_type": "code",
   "execution_count": 6,
   "metadata": {},
   "outputs": [
    {
     "data": {
      "text/latex": [
       "$\\displaystyle \\left[\\begin{matrix}1 & 0 & 0 & - \\frac{\\epsilon}{1 - \\epsilon}\\\\0 & \\frac{1}{\\sqrt{1 - \\epsilon}} & 0 & 0\\\\0 & 0 & \\frac{1}{\\sqrt{1 - \\epsilon}} & 0\\\\0 & 0 & 0 & \\frac{1}{1 - \\epsilon}\\end{matrix}\\right]$"
      ],
      "text/plain": [
       "Matrix([\n",
       "[1,                   0,                   0, -epsilon/(1 - epsilon)],\n",
       "[0, 1/sqrt(1 - epsilon),                   0,                      0],\n",
       "[0,                   0, 1/sqrt(1 - epsilon),                      0],\n",
       "[0,                   0,                   0,        1/(1 - epsilon)]])"
      ]
     },
     "execution_count": 6,
     "metadata": {},
     "output_type": "execute_result"
    }
   ],
   "source": [
    "K.inv()"
   ]
  },
  {
   "cell_type": "markdown",
   "metadata": {},
   "source": [
    "by observation, the inverse components of $K$ is\n",
    "$$\n",
    "F_0 = \\begin{bmatrix} 1 & 0 \\\\ 0 & \\frac{1}{\\sqrt{1-\\epsilon}} \\end{bmatrix}, \\quad F_1 = \\begin{bmatrix} 0 & \\sqrt{\\frac{\\epsilon}{1 - \\epsilon}} \\\\ 0 & 0 \\end{bmatrix}\n",
    "$$\n",
    "\n",
    "and $\\mathcal{E}^{-1}(\\cdot) = F_0(\\cdot)F_0^\\dagger - F_1(\\cdot)F_1^\\dagger$"
   ]
  },
  {
   "cell_type": "code",
   "execution_count": 7,
   "metadata": {},
   "outputs": [],
   "source": [
    "F0 = zero_zero + 1 / sqrt(1 - abc.epsilon) * one_one\n",
    "F1 = sqrt(abc.epsilon / (1 - abc.epsilon)) * zero_one"
   ]
  },
  {
   "cell_type": "code",
   "execution_count": 8,
   "metadata": {},
   "outputs": [
    {
     "data": {
      "text/latex": [
       "$\\displaystyle \\left[\\begin{matrix}1 & 0 & 0 & - \\frac{\\epsilon}{1 - \\epsilon}\\\\0 & \\frac{1}{\\sqrt{1 - \\epsilon}} & 0 & 0\\\\0 & 0 & \\frac{1}{\\sqrt{1 - \\epsilon}} & 0\\\\0 & 0 & 0 & \\frac{1}{1 - \\epsilon}\\end{matrix}\\right]$"
      ],
      "text/plain": [
       "Matrix([\n",
       "[1,                   0,                   0, -epsilon/(1 - epsilon)],\n",
       "[0, 1/sqrt(1 - epsilon),                   0,                      0],\n",
       "[0,                   0, 1/sqrt(1 - epsilon),                      0],\n",
       "[0,                   0,                   0,        1/(1 - epsilon)]])"
      ]
     },
     "execution_count": 8,
     "metadata": {},
     "output_type": "execute_result"
    }
   ],
   "source": [
    "kronecker_product(F0, F0) - kronecker_product(F1, F1)"
   ]
  },
  {
   "cell_type": "markdown",
   "metadata": {},
   "source": [
    "Then let us see the Choi matrix representation and its inverse's Choi matrix"
   ]
  },
  {
   "cell_type": "code",
   "execution_count": 9,
   "metadata": {},
   "outputs": [],
   "source": [
    "E0_vec = flatten_by_row(E0)\n",
    "E1_vec = flatten_by_row(E1)\n",
    "F0_vec = flatten_by_row(F0)\n",
    "F1_vec = flatten_by_row(F1)"
   ]
  },
  {
   "cell_type": "code",
   "execution_count": 10,
   "metadata": {},
   "outputs": [
    {
     "data": {
      "text/latex": [
       "$\\displaystyle \\left[\\begin{matrix}1 & 0 & 0 & \\sqrt{1 - \\epsilon}\\\\0 & \\epsilon & 0 & 0\\\\0 & 0 & 0 & 0\\\\\\sqrt{1 - \\epsilon} & 0 & 0 & 1 - \\epsilon\\end{matrix}\\right]$"
      ],
      "text/plain": [
       "Matrix([\n",
       "[                1,       0, 0, sqrt(1 - epsilon)],\n",
       "[                0, epsilon, 0,                 0],\n",
       "[                0,       0, 0,                 0],\n",
       "[sqrt(1 - epsilon),       0, 0,       1 - epsilon]])"
      ]
     },
     "execution_count": 10,
     "metadata": {},
     "output_type": "execute_result"
    }
   ],
   "source": [
    "J = E0_vec * E0_vec.T + E1_vec * E1_vec.T  # Choi matrix\n",
    "J"
   ]
  },
  {
   "cell_type": "code",
   "execution_count": 11,
   "metadata": {},
   "outputs": [
    {
     "data": {
      "text/latex": [
       "$\\displaystyle \\left[\\begin{matrix}1 & 0 & 0 & \\frac{1}{\\sqrt{1 - \\epsilon}}\\\\0 & - \\frac{\\epsilon}{1 - \\epsilon} & 0 & 0\\\\0 & 0 & 0 & 0\\\\\\frac{1}{\\sqrt{1 - \\epsilon}} & 0 & 0 & \\frac{1}{1 - \\epsilon}\\end{matrix}\\right]$"
      ],
      "text/plain": [
       "Matrix([\n",
       "[                  1,                      0, 0, 1/sqrt(1 - epsilon)],\n",
       "[                  0, -epsilon/(1 - epsilon), 0,                   0],\n",
       "[                  0,                      0, 0,                   0],\n",
       "[1/sqrt(1 - epsilon),                      0, 0,     1/(1 - epsilon)]])"
      ]
     },
     "execution_count": 11,
     "metadata": {},
     "output_type": "execute_result"
    }
   ],
   "source": [
    "J_inv = F0_vec * F0_vec.T - F1_vec * F1_vec.T\n",
    "J_inv"
   ]
  },
  {
   "cell_type": "code",
   "execution_count": 12,
   "metadata": {},
   "outputs": [
    {
     "data": {
      "text/latex": [
       "$\\displaystyle \\left[\\begin{matrix}1 & 0 & 0 & \\frac{1}{\\sqrt{1 - \\epsilon}}\\\\0 & 0 & 0 & 0\\\\0 & 0 & 0 & 0\\\\\\frac{1}{\\sqrt{1 - \\epsilon}} & 0 & 0 & \\frac{1}{1 - \\epsilon}\\end{matrix}\\right]$"
      ],
      "text/plain": [
       "Matrix([\n",
       "[                  1, 0, 0, 1/sqrt(1 - epsilon)],\n",
       "[                  0, 0, 0,                   0],\n",
       "[                  0, 0, 0,                   0],\n",
       "[1/sqrt(1 - epsilon), 0, 0,     1/(1 - epsilon)]])"
      ]
     },
     "execution_count": 12,
     "metadata": {},
     "output_type": "execute_result"
    }
   ],
   "source": [
    "F0_vec * F0_vec.T"
   ]
  },
  {
   "cell_type": "code",
   "execution_count": 13,
   "metadata": {},
   "outputs": [
    {
     "data": {
      "text/latex": [
       "$\\displaystyle \\left[\\begin{matrix}0 & 0 & 0 & 0\\\\0 & \\frac{\\epsilon}{1 - \\epsilon} & 0 & 0\\\\0 & 0 & 0 & 0\\\\0 & 0 & 0 & 0\\end{matrix}\\right]$"
      ],
      "text/plain": [
       "Matrix([\n",
       "[0,                     0, 0, 0],\n",
       "[0, epsilon/(1 - epsilon), 0, 0],\n",
       "[0,                     0, 0, 0],\n",
       "[0,                     0, 0, 0]])"
      ]
     },
     "execution_count": 13,
     "metadata": {},
     "output_type": "execute_result"
    }
   ],
   "source": [
    "F1_vec * F1_vec.T"
   ]
  },
  {
   "cell_type": "code",
   "execution_count": 14,
   "metadata": {},
   "outputs": [
    {
     "data": {
      "text/plain": [
       "False"
      ]
     },
     "execution_count": 14,
     "metadata": {},
     "output_type": "execute_result"
    }
   ],
   "source": [
    "J.is_positive_definite"
   ]
  },
  {
   "cell_type": "code",
   "execution_count": 15,
   "metadata": {},
   "outputs": [
    {
     "data": {
      "text/latex": [
       "$\\displaystyle \\left[\\begin{matrix}1 & 0 & 0 & \\sqrt{1 - \\epsilon}\\\\0 & 0 & 0 & 0\\\\0 & 0 & 0 & 0\\\\\\sqrt{1 - \\epsilon} & 0 & 0 & 1\\end{matrix}\\right]$"
      ],
      "text/plain": [
       "Matrix([\n",
       "[                1, 0, 0, sqrt(1 - epsilon)],\n",
       "[                0, 0, 0,                 0],\n",
       "[                0, 0, 0,                 0],\n",
       "[sqrt(1 - epsilon), 0, 0,                 1]])"
      ]
     },
     "execution_count": 15,
     "metadata": {},
     "output_type": "execute_result"
    }
   ],
   "source": [
    "# J_1 = \\left(\\begin{matrix}1 & 0 & 0 & \\sqrt{1 - \\epsilon}\\\\0 & 0 & 0 & 0\\\\0 & 0 & 0 & 0\\\\ \\sqrt{1 - \\epsilon} & 0 & 0 & 1\\end{matrix}\\right),\\, \\eta_1 = \\frac{1}{1-\\epsilon}\n",
    "J1 = Matrix([[1, 0, 0, sqrt(1 - abc.epsilon)], [0, 0, 0, 0], [0, 0, 0, 0], [sqrt(1 - abc.epsilon), 0, 0, 1]])\n",
    "eta1 = 1 / (1 - abc.epsilon)\n",
    "J1"
   ]
  },
  {
   "cell_type": "code",
   "execution_count": 16,
   "metadata": {},
   "outputs": [
    {
     "data": {
      "text/latex": [
       "$\\displaystyle \\left[\\begin{matrix}1 & 0 & 0 & 0\\\\0 & 1 & 0 & 0\\\\0 & 0 & 0 & 0\\\\0 & 0 & 0 & 0\\end{matrix}\\right]$"
      ],
      "text/plain": [
       "Matrix([\n",
       "[1, 0, 0, 0],\n",
       "[0, 1, 0, 0],\n",
       "[0, 0, 0, 0],\n",
       "[0, 0, 0, 0]])"
      ]
     },
     "execution_count": 16,
     "metadata": {},
     "output_type": "execute_result"
    }
   ],
   "source": [
    "# J_2 = \\left(\\begin{matrix} 1 & 0 & 0 & 0\\\\0 & 1 & 0 & 0\\\\0 & 0 & 0 & 0\\\\0 & 0 & 0 & 0\\end{matrix}\\right),\\,\\eta_2 = \\frac{\\epsilon}{1-\\epsilon}\n",
    "J2 = Matrix([[1, 0, 0, 0], [0, 1, 0, 0], [0, 0, 0, 0], [0, 0, 0, 0]])\n",
    "eta2 = abc.epsilon / (1 - abc.epsilon)\n",
    "J2"
   ]
  },
  {
   "cell_type": "markdown",
   "metadata": {},
   "source": [
    "$$J = \\eta_1 J_1 - \\eta_2 J_2$$"
   ]
  },
  {
   "cell_type": "markdown",
   "metadata": {},
   "source": [
    "### Example: Depolarizing channel\n"
   ]
  },
  {
   "cell_type": "code",
   "execution_count": 52,
   "metadata": {},
   "outputs": [],
   "source": [
    "E0 = sqrt(1 - abc.epsilon) * sigma_i\n",
    "E1 = sqrt(abc.epsilon / 3) * sigma_x\n",
    "E2 = sqrt(abc.epsilon / 3) * sigma_y\n",
    "E3 = sqrt(abc.epsilon / 3) * sigma_z\n",
    "E0_conj, E1_conj, E2_conj, E3_conj = E0, E1, sqrt(abc.epsilon / 3) * sigma_y.conjugate(), sqrt(abc.epsilon / 3) * sigma_z.conjugate()\n",
    "E0_vec = flatten_by_row(E0)\n",
    "E1_vec = flatten_by_row(E1)\n",
    "E2_vec = flatten_by_row(E2)\n",
    "E3_vec = flatten_by_row(E3)"
   ]
  },
  {
   "cell_type": "code",
   "execution_count": 53,
   "metadata": {},
   "outputs": [],
   "source": [
    "K = kronecker_product(E0, E0_conj) + kronecker_product(E1, E1_conj) + kronecker_product(E2, E2_conj) + kronecker_product(E3, E3_conj)"
   ]
  },
  {
   "cell_type": "code",
   "execution_count": 56,
   "metadata": {},
   "outputs": [
    {
     "data": {
      "text/latex": [
       "$\\displaystyle \\left[\\begin{matrix}1 - \\frac{2 \\epsilon}{3} & 0 & 0 & \\frac{2 \\epsilon}{3}\\\\0 & 1 - \\frac{4 \\epsilon}{3} & 0 & 0\\\\0 & 0 & 1 - \\frac{4 \\epsilon}{3} & 0\\\\\\frac{2 \\epsilon}{3} & 0 & 0 & 1 - \\frac{2 \\epsilon}{3}\\end{matrix}\\right]$"
      ],
      "text/plain": [
       "Matrix([\n",
       "[1 - 2*epsilon/3,               0,               0,     2*epsilon/3],\n",
       "[              0, 1 - 4*epsilon/3,               0,               0],\n",
       "[              0,               0, 1 - 4*epsilon/3,               0],\n",
       "[    2*epsilon/3,               0,               0, 1 - 2*epsilon/3]])"
      ]
     },
     "execution_count": 56,
     "metadata": {},
     "output_type": "execute_result"
    }
   ],
   "source": [
    "K"
   ]
  },
  {
   "cell_type": "code",
   "execution_count": 58,
   "metadata": {},
   "outputs": [
    {
     "data": {
      "text/latex": [
       "$\\displaystyle \\left[\\begin{matrix}\\frac{2 \\epsilon - 3}{4 \\epsilon - 3} & 0 & 0 & \\frac{2 \\epsilon}{4 \\epsilon - 3}\\\\0 & \\frac{1}{1 - \\frac{4 \\epsilon}{3}} & 0 & 0\\\\0 & 0 & \\frac{1}{1 - \\frac{4 \\epsilon}{3}} & 0\\\\- \\frac{2 \\epsilon}{3 - 4 \\epsilon} & 0 & 0 & \\frac{2 \\epsilon - 3}{4 \\epsilon - 3}\\end{matrix}\\right]$"
      ],
      "text/plain": [
       "Matrix([\n",
       "[(2*epsilon - 3)/(4*epsilon - 3),                   0,                   0,       2*epsilon/(4*epsilon - 3)],\n",
       "[                              0, 1/(1 - 4*epsilon/3),                   0,                               0],\n",
       "[                              0,                   0, 1/(1 - 4*epsilon/3),                               0],\n",
       "[     -2*epsilon/(3 - 4*epsilon),                   0,                   0, (2*epsilon - 3)/(4*epsilon - 3)]])"
      ]
     },
     "execution_count": 58,
     "metadata": {},
     "output_type": "execute_result"
    }
   ],
   "source": [
    "K.inv()"
   ]
  },
  {
   "cell_type": "markdown",
   "metadata": {},
   "source": [
    "How to get the the `K.inv()`?"
   ]
  },
  {
   "cell_type": "code",
   "execution_count": 59,
   "metadata": {},
   "outputs": [
    {
     "data": {
      "text/latex": [
       "$\\displaystyle \\left[\\begin{matrix}1 - \\epsilon & 0 & 0 & 0\\\\0 & 1 - \\epsilon & 0 & 0\\\\0 & 0 & 1 - \\epsilon & 0\\\\0 & 0 & 0 & 1 - \\epsilon\\end{matrix}\\right]$"
      ],
      "text/plain": [
       "Matrix([\n",
       "[1 - epsilon,           0,           0,           0],\n",
       "[          0, 1 - epsilon,           0,           0],\n",
       "[          0,           0, 1 - epsilon,           0],\n",
       "[          0,           0,           0, 1 - epsilon]])"
      ]
     },
     "execution_count": 59,
     "metadata": {},
     "output_type": "execute_result"
    }
   ],
   "source": [
    "kronecker_product(E0, E0_conj)"
   ]
  },
  {
   "cell_type": "code",
   "execution_count": 60,
   "metadata": {},
   "outputs": [
    {
     "data": {
      "text/latex": [
       "$\\displaystyle \\left[\\begin{matrix}0 & 0 & 0 & \\frac{\\epsilon}{3}\\\\0 & 0 & \\frac{\\epsilon}{3} & 0\\\\0 & \\frac{\\epsilon}{3} & 0 & 0\\\\\\frac{\\epsilon}{3} & 0 & 0 & 0\\end{matrix}\\right]$"
      ],
      "text/plain": [
       "Matrix([\n",
       "[        0,         0,         0, epsilon/3],\n",
       "[        0,         0, epsilon/3,         0],\n",
       "[        0, epsilon/3,         0,         0],\n",
       "[epsilon/3,         0,         0,         0]])"
      ]
     },
     "execution_count": 60,
     "metadata": {},
     "output_type": "execute_result"
    }
   ],
   "source": [
    "kronecker_product(E1, E1_conj)"
   ]
  },
  {
   "cell_type": "code",
   "execution_count": 61,
   "metadata": {},
   "outputs": [
    {
     "data": {
      "text/latex": [
       "$\\displaystyle \\left[\\begin{matrix}0 & 0 & 0 & \\frac{\\epsilon}{3}\\\\0 & 0 & - \\frac{\\epsilon}{3} & 0\\\\0 & - \\frac{\\epsilon}{3} & 0 & 0\\\\\\frac{\\epsilon}{3} & 0 & 0 & 0\\end{matrix}\\right]$"
      ],
      "text/plain": [
       "Matrix([\n",
       "[        0,          0,          0, epsilon/3],\n",
       "[        0,          0, -epsilon/3,         0],\n",
       "[        0, -epsilon/3,          0,         0],\n",
       "[epsilon/3,          0,          0,         0]])"
      ]
     },
     "execution_count": 61,
     "metadata": {},
     "output_type": "execute_result"
    }
   ],
   "source": [
    "kronecker_product(E2, E2_conj)"
   ]
  },
  {
   "cell_type": "code",
   "execution_count": 63,
   "metadata": {},
   "outputs": [
    {
     "data": {
      "text/latex": [
       "$\\displaystyle \\left[\\begin{matrix}\\frac{\\epsilon}{3} & 0 & 0 & 0\\\\0 & - \\frac{\\epsilon}{3} & 0 & 0\\\\0 & 0 & - \\frac{\\epsilon}{3} & 0\\\\0 & 0 & 0 & \\frac{\\epsilon}{3}\\end{matrix}\\right]$"
      ],
      "text/plain": [
       "Matrix([\n",
       "[epsilon/3,          0,          0,         0],\n",
       "[        0, -epsilon/3,          0,         0],\n",
       "[        0,          0, -epsilon/3,         0],\n",
       "[        0,          0,          0, epsilon/3]])"
      ]
     },
     "execution_count": 63,
     "metadata": {},
     "output_type": "execute_result"
    }
   ],
   "source": [
    "kronecker_product(E3, E3_conj)"
   ]
  },
  {
   "cell_type": "markdown",
   "metadata": {},
   "source": [
    "By leveraging components of `K.inv()` ..."
   ]
  },
  {
   "cell_type": "code",
   "execution_count": 81,
   "metadata": {},
   "outputs": [
    {
     "data": {
      "text/latex": [
       "$\\displaystyle \\left[\\begin{matrix}\\frac{\\epsilon - 3}{4 \\epsilon - 3} & 0 & 0 & 0\\\\0 & \\frac{\\epsilon - 3}{4 \\epsilon - 3} & 0 & 0\\\\0 & 0 & \\frac{\\epsilon - 3}{4 \\epsilon - 3} & 0\\\\0 & 0 & 0 & \\frac{\\epsilon - 3}{4 \\epsilon - 3}\\end{matrix}\\right]$"
      ],
      "text/plain": [
       "Matrix([\n",
       "[(epsilon - 3)/(4*epsilon - 3),                             0,                             0,                             0],\n",
       "[                            0, (epsilon - 3)/(4*epsilon - 3),                             0,                             0],\n",
       "[                            0,                             0, (epsilon - 3)/(4*epsilon - 3),                             0],\n",
       "[                            0,                             0,                             0, (epsilon - 3)/(4*epsilon - 3)]])"
      ]
     },
     "execution_count": 81,
     "metadata": {},
     "output_type": "execute_result"
    }
   ],
   "source": [
    "component0 = (abc.epsilon - 3) / (1 - abc.epsilon) / (4 * abc.epsilon - 3) * kronecker_product(E0, E0_conj)\n",
    "component0"
   ]
  },
  {
   "cell_type": "code",
   "execution_count": 89,
   "metadata": {},
   "outputs": [
    {
     "data": {
      "text/latex": [
       "$\\displaystyle \\left[\\begin{matrix}1 - \\epsilon & 0 & 0 & 0\\\\0 & 1 - \\epsilon & 0 & 0\\\\0 & 0 & 1 - \\epsilon & 0\\\\0 & 0 & 0 & 1 - \\epsilon\\end{matrix}\\right]$"
      ],
      "text/plain": [
       "Matrix([\n",
       "[1 - epsilon,           0,           0,           0],\n",
       "[          0, 1 - epsilon,           0,           0],\n",
       "[          0,           0, 1 - epsilon,           0],\n",
       "[          0,           0,           0, 1 - epsilon]])"
      ]
     },
     "execution_count": 89,
     "metadata": {},
     "output_type": "execute_result"
    }
   ],
   "source": [
    "kronecker_product(E0, E0_conj)"
   ]
  },
  {
   "cell_type": "code",
   "execution_count": 75,
   "metadata": {},
   "outputs": [
    {
     "data": {
      "text/latex": [
       "$\\displaystyle \\left[\\begin{matrix}\\frac{\\epsilon}{4 \\epsilon - 3} & 0 & 0 & \\frac{2 \\epsilon}{4 \\epsilon - 3}\\\\0 & - \\frac{\\epsilon}{4 \\epsilon - 3} & 0 & 0\\\\0 & 0 & - \\frac{\\epsilon}{4 \\epsilon - 3} & 0\\\\\\frac{2 \\epsilon}{4 \\epsilon - 3} & 0 & 0 & \\frac{\\epsilon}{4 \\epsilon - 3}\\end{matrix}\\right]$"
      ],
      "text/plain": [
       "Matrix([\n",
       "[  epsilon/(4*epsilon - 3),                        0,                        0, 2*epsilon/(4*epsilon - 3)],\n",
       "[                        0, -epsilon/(4*epsilon - 3),                        0,                         0],\n",
       "[                        0,                        0, -epsilon/(4*epsilon - 3),                         0],\n",
       "[2*epsilon/(4*epsilon - 3),                        0,                        0,   epsilon/(4*epsilon - 3)]])"
      ]
     },
     "execution_count": 75,
     "metadata": {},
     "output_type": "execute_result"
    }
   ],
   "source": [
    "component1 = 3 / (4 * abc.epsilon - 3) * (kronecker_product(E1, E1_conj) + kronecker_product(E2, E2_conj) + kronecker_product(E3, E3_conj))\n",
    "component1\n"
   ]
  },
  {
   "cell_type": "code",
   "execution_count": 84,
   "metadata": {},
   "outputs": [
    {
     "data": {
      "text/plain": [
       "True"
      ]
     },
     "execution_count": 84,
     "metadata": {},
     "output_type": "execute_result"
    }
   ],
   "source": [
    "simplify(component0 + component1) == simplify(K.inv())"
   ]
  },
  {
   "cell_type": "markdown",
   "metadata": {},
   "source": [
    "Thus, we can get the inverse of the Choi matrix of the depolarizing channel.\n",
    "\n",
    "$$\n",
    "F_0 = \\sqrt{1 + \\epsilon_\\textrm{inv}}I, \\quad F_1 = \\sqrt{\\frac{\\epsilon_{\\textrm{inv}}}{3}} X, \\quad F_2 = \\sqrt{\\frac{\\epsilon_{\\textrm{inv}}}{3}} Y, \\quad F_3 = \\sqrt{\\frac{\\epsilon_{\\textrm{inv}}}{3}} Z\n",
    "$$\n",
    "\n",
    "$\n",
    "\\sqrt{\\epsilon_{\\textrm{inv}}} = \\sqrt{\\frac{3\\epsilon}{3 - 4\\epsilon}}\n",
    "$, such that $\\epsilon_{\\textrm{inv}} \\geq 0$ usually holds.\n",
    "\n",
    "\n",
    "and $\\mathcal{E}^{-1}(\\cdot) = F_0(\\cdot)F_0^\\dagger - F_1(\\cdot)F_1^\\dagger - F_2(\\cdot)F_2^\\dagger - F_3(\\cdot)F_3^\\dagger$"
   ]
  },
  {
   "cell_type": "code",
   "execution_count": 121,
   "metadata": {},
   "outputs": [],
   "source": [
    "eps_inv = 3 * abc.epsilon / (3 - 4 * abc.epsilon)\n",
    "F0 = sqrt(1 + eps_inv) * sigma_i\n",
    "F1 = sqrt(eps_inv / 3) * sigma_x\n",
    "F2 = sqrt(eps_inv / 3) * sigma_y\n",
    "F3 = sqrt(eps_inv / 3) * sigma_z\n",
    "F0_conj, F1_conj, F2_conj, F3_conj = F0, F1, sqrt(eps_inv / 3) * sigma_y.conjugate(), sqrt(eps_inv / 3) * sigma_z.conjugate()"
   ]
  },
  {
   "cell_type": "code",
   "execution_count": 122,
   "metadata": {},
   "outputs": [
    {
     "data": {
      "text/plain": [
       "True"
      ]
     },
     "execution_count": 122,
     "metadata": {},
     "output_type": "execute_result"
    }
   ],
   "source": [
    "simplify(kronecker_product(F0, F0_conj)) == component0"
   ]
  },
  {
   "cell_type": "code",
   "execution_count": 127,
   "metadata": {},
   "outputs": [
    {
     "data": {
      "text/plain": [
       "True"
      ]
     },
     "execution_count": 127,
     "metadata": {},
     "output_type": "execute_result"
    }
   ],
   "source": [
    "simplify(kronecker_product(F1, F1_conj) + kronecker_product(F2, F2_conj) + kronecker_product(F3, F3_conj)) == - component1"
   ]
  },
  {
   "cell_type": "code",
   "execution_count": 134,
   "metadata": {},
   "outputs": [
    {
     "data": {
      "text/plain": [
       "True"
      ]
     },
     "execution_count": 134,
     "metadata": {},
     "output_type": "execute_result"
    }
   ],
   "source": [
    "K_inv = kronecker_product(F0, F0_conj) - kronecker_product(F1, F1_conj) - kronecker_product(F2, F2_conj) - kronecker_product(F3, F3_conj)\n",
    "K_inv = simplify(K_inv)\n",
    "K_inv == simplify(K.inv())"
   ]
  },
  {
   "cell_type": "code",
   "execution_count": null,
   "metadata": {},
   "outputs": [],
   "source": []
  },
  {
   "cell_type": "markdown",
   "metadata": {},
   "source": [
    "### Example: 2-qubit global depolarizing channel\n"
   ]
  },
  {
   "cell_type": "code",
   "execution_count": 140,
   "metadata": {},
   "outputs": [],
   "source": [
    "paulis = (sigma_i, sigma_x, sigma_y, sigma_z)\n",
    "paulis_2q = (\n",
    "    (kronecker_product(sigma_i, sigma_i), kronecker_product(sigma_i, sigma_x), kronecker_product(sigma_i, sigma_y), kronecker_product(sigma_i, sigma_z)),\n",
    "    (kronecker_product(sigma_x, sigma_i), kronecker_product(sigma_x, sigma_x), kronecker_product(sigma_x, sigma_y), kronecker_product(sigma_x, sigma_z)),\n",
    "    (kronecker_product(sigma_y, sigma_i), kronecker_product(sigma_y, sigma_x), kronecker_product(sigma_y, sigma_y), kronecker_product(sigma_y, sigma_z)),\n",
    "    (kronecker_product(sigma_z, sigma_i), kronecker_product(sigma_z, sigma_x), kronecker_product(sigma_z, sigma_y), kronecker_product(sigma_z, sigma_z))\n",
    ")\n"
   ]
  },
  {
   "cell_type": "code",
   "execution_count": 145,
   "metadata": {},
   "outputs": [],
   "source": [
    "kraus_ops = []\n",
    "for i in range(4):\n",
    "    for j in range(4):\n",
    "        if i == 0 and j == 0:\n",
    "            kraus_ops.append(sqrt(1 - abc.epsilon) * paulis_2q[i][j])\n",
    "        else:\n",
    "            kraus_ops.append(sqrt(abc.epsilon / 15) * paulis_2q[i][j])\n",
    "kraus_ops_conj = []\n",
    "for i in range(4):\n",
    "    for j in range(4):\n",
    "        if i == 0 and j == 0:\n",
    "            kraus_ops_conj.append(sqrt(1 - abc.epsilon) * paulis_2q[i][j].conjugate())\n",
    "        else:\n",
    "            kraus_ops_conj.append(sqrt(abc.epsilon / 15) * paulis_2q[i][j].conjugate())"
   ]
  },
  {
   "cell_type": "code",
   "execution_count": 165,
   "metadata": {},
   "outputs": [],
   "source": [
    "res = zeros(4, 4)\n",
    "for op in kraus_ops:\n",
    "    res = res + op * op\n",
    "assert res == eye(4), \"does not satisfy the completeness relation \\sum_i K_i^\\dagger K_i = I\""
   ]
  },
  {
   "cell_type": "code",
   "execution_count": 166,
   "metadata": {},
   "outputs": [],
   "source": [
    "# super-operator\n",
    "K = zeros(16, 16)\n",
    "for op, op_conj in zip(kraus_ops, kraus_ops_conj):\n",
    "    K = K + kronecker_product(op, op_conj)"
   ]
  },
  {
   "cell_type": "code",
   "execution_count": 168,
   "metadata": {},
   "outputs": [
    {
     "data": {
      "text/latex": [
       "$\\displaystyle \\left[\\begin{array}{cccccccccccccccc}\\frac{4 \\epsilon - 15}{16 \\epsilon - 15} & 0 & 0 & 0 & 0 & \\frac{4 \\epsilon}{16 \\epsilon - 15} & 0 & 0 & 0 & 0 & \\frac{4 \\epsilon}{16 \\epsilon - 15} & 0 & 0 & 0 & 0 & \\frac{4 \\epsilon}{16 \\epsilon - 15}\\\\0 & \\frac{1}{1 - \\frac{16 \\epsilon}{15}} & 0 & 0 & 0 & 0 & 0 & 0 & 0 & 0 & 0 & 0 & 0 & 0 & 0 & 0\\\\0 & 0 & \\frac{1}{1 - \\frac{16 \\epsilon}{15}} & 0 & 0 & 0 & 0 & 0 & 0 & 0 & 0 & 0 & 0 & 0 & 0 & 0\\\\0 & 0 & 0 & \\frac{1}{1 - \\frac{16 \\epsilon}{15}} & 0 & 0 & 0 & 0 & 0 & 0 & 0 & 0 & 0 & 0 & 0 & 0\\\\0 & 0 & 0 & 0 & \\frac{1}{1 - \\frac{16 \\epsilon}{15}} & 0 & 0 & 0 & 0 & 0 & 0 & 0 & 0 & 0 & 0 & 0\\\\\\frac{4 \\epsilon}{16 \\epsilon - 15} & 0 & 0 & 0 & 0 & \\frac{4 \\epsilon - 15}{16 \\epsilon - 15} & 0 & 0 & 0 & 0 & \\frac{4 \\epsilon}{16 \\epsilon - 15} & 0 & 0 & 0 & 0 & \\frac{4 \\epsilon}{16 \\epsilon - 15}\\\\0 & 0 & 0 & 0 & 0 & 0 & \\frac{1}{1 - \\frac{16 \\epsilon}{15}} & 0 & 0 & 0 & 0 & 0 & 0 & 0 & 0 & 0\\\\0 & 0 & 0 & 0 & 0 & 0 & 0 & \\frac{1}{1 - \\frac{16 \\epsilon}{15}} & 0 & 0 & 0 & 0 & 0 & 0 & 0 & 0\\\\0 & 0 & 0 & 0 & 0 & 0 & 0 & 0 & \\frac{1}{1 - \\frac{16 \\epsilon}{15}} & 0 & 0 & 0 & 0 & 0 & 0 & 0\\\\0 & 0 & 0 & 0 & 0 & 0 & 0 & 0 & 0 & \\frac{1}{1 - \\frac{16 \\epsilon}{15}} & 0 & 0 & 0 & 0 & 0 & 0\\\\\\frac{4 \\epsilon}{16 \\epsilon - 15} & 0 & 0 & 0 & 0 & \\frac{4 \\epsilon}{16 \\epsilon - 15} & 0 & 0 & 0 & 0 & \\frac{4 \\epsilon - 15}{16 \\epsilon - 15} & 0 & 0 & 0 & 0 & \\frac{4 \\epsilon}{16 \\epsilon - 15}\\\\0 & 0 & 0 & 0 & 0 & 0 & 0 & 0 & 0 & 0 & 0 & \\frac{1}{1 - \\frac{16 \\epsilon}{15}} & 0 & 0 & 0 & 0\\\\0 & 0 & 0 & 0 & 0 & 0 & 0 & 0 & 0 & 0 & 0 & 0 & \\frac{1}{1 - \\frac{16 \\epsilon}{15}} & 0 & 0 & 0\\\\0 & 0 & 0 & 0 & 0 & 0 & 0 & 0 & 0 & 0 & 0 & 0 & 0 & \\frac{1}{1 - \\frac{16 \\epsilon}{15}} & 0 & 0\\\\0 & 0 & 0 & 0 & 0 & 0 & 0 & 0 & 0 & 0 & 0 & 0 & 0 & 0 & \\frac{1}{1 - \\frac{16 \\epsilon}{15}} & 0\\\\\\frac{4 \\epsilon}{16 \\epsilon - 15} & 0 & 0 & 0 & 0 & \\frac{4 \\epsilon}{16 \\epsilon - 15} & 0 & 0 & 0 & 0 & \\frac{4 \\epsilon}{16 \\epsilon - 15} & 0 & 0 & 0 & 0 & \\frac{4 \\epsilon - 15}{16 \\epsilon - 15}\\end{array}\\right]$"
      ],
      "text/plain": [
       "Matrix([\n",
       "[(4*epsilon - 15)/(16*epsilon - 15),                     0,                     0,                     0,                     0,        4*epsilon/(16*epsilon - 15),                     0,                     0,                     0,                     0,        4*epsilon/(16*epsilon - 15),                     0,                     0,                     0,                     0,        4*epsilon/(16*epsilon - 15)],\n",
       "[                                 0, 1/(1 - 16*epsilon/15),                     0,                     0,                     0,                                  0,                     0,                     0,                     0,                     0,                                  0,                     0,                     0,                     0,                     0,                                  0],\n",
       "[                                 0,                     0, 1/(1 - 16*epsilon/15),                     0,                     0,                                  0,                     0,                     0,                     0,                     0,                                  0,                     0,                     0,                     0,                     0,                                  0],\n",
       "[                                 0,                     0,                     0, 1/(1 - 16*epsilon/15),                     0,                                  0,                     0,                     0,                     0,                     0,                                  0,                     0,                     0,                     0,                     0,                                  0],\n",
       "[                                 0,                     0,                     0,                     0, 1/(1 - 16*epsilon/15),                                  0,                     0,                     0,                     0,                     0,                                  0,                     0,                     0,                     0,                     0,                                  0],\n",
       "[       4*epsilon/(16*epsilon - 15),                     0,                     0,                     0,                     0, (4*epsilon - 15)/(16*epsilon - 15),                     0,                     0,                     0,                     0,        4*epsilon/(16*epsilon - 15),                     0,                     0,                     0,                     0,        4*epsilon/(16*epsilon - 15)],\n",
       "[                                 0,                     0,                     0,                     0,                     0,                                  0, 1/(1 - 16*epsilon/15),                     0,                     0,                     0,                                  0,                     0,                     0,                     0,                     0,                                  0],\n",
       "[                                 0,                     0,                     0,                     0,                     0,                                  0,                     0, 1/(1 - 16*epsilon/15),                     0,                     0,                                  0,                     0,                     0,                     0,                     0,                                  0],\n",
       "[                                 0,                     0,                     0,                     0,                     0,                                  0,                     0,                     0, 1/(1 - 16*epsilon/15),                     0,                                  0,                     0,                     0,                     0,                     0,                                  0],\n",
       "[                                 0,                     0,                     0,                     0,                     0,                                  0,                     0,                     0,                     0, 1/(1 - 16*epsilon/15),                                  0,                     0,                     0,                     0,                     0,                                  0],\n",
       "[       4*epsilon/(16*epsilon - 15),                     0,                     0,                     0,                     0,        4*epsilon/(16*epsilon - 15),                     0,                     0,                     0,                     0, (4*epsilon - 15)/(16*epsilon - 15),                     0,                     0,                     0,                     0,        4*epsilon/(16*epsilon - 15)],\n",
       "[                                 0,                     0,                     0,                     0,                     0,                                  0,                     0,                     0,                     0,                     0,                                  0, 1/(1 - 16*epsilon/15),                     0,                     0,                     0,                                  0],\n",
       "[                                 0,                     0,                     0,                     0,                     0,                                  0,                     0,                     0,                     0,                     0,                                  0,                     0, 1/(1 - 16*epsilon/15),                     0,                     0,                                  0],\n",
       "[                                 0,                     0,                     0,                     0,                     0,                                  0,                     0,                     0,                     0,                     0,                                  0,                     0,                     0, 1/(1 - 16*epsilon/15),                     0,                                  0],\n",
       "[                                 0,                     0,                     0,                     0,                     0,                                  0,                     0,                     0,                     0,                     0,                                  0,                     0,                     0,                     0, 1/(1 - 16*epsilon/15),                                  0],\n",
       "[       4*epsilon/(16*epsilon - 15),                     0,                     0,                     0,                     0,        4*epsilon/(16*epsilon - 15),                     0,                     0,                     0,                     0,        4*epsilon/(16*epsilon - 15),                     0,                     0,                     0,                     0, (4*epsilon - 15)/(16*epsilon - 15)]])"
      ]
     },
     "execution_count": 168,
     "metadata": {},
     "output_type": "execute_result"
    }
   ],
   "source": [
    "K.inv()"
   ]
  },
  {
   "cell_type": "code",
   "execution_count": 169,
   "metadata": {},
   "outputs": [],
   "source": [
    "eps_inv = 15 * abc.epsilon / (15 - 16 * abc.epsilon)\n",
    "kraus_inv_ops = []\n",
    "for i in range(4):\n",
    "    for j in range(4):\n",
    "        if i == 0 and j == 0:\n",
    "            kraus_inv_ops.append(sqrt(1 + eps_inv) * paulis_2q[i][j])\n",
    "        else:\n",
    "            kraus_inv_ops.append(sqrt(eps_inv / 15) * paulis_2q[i][j])\n",
    "kraus_inv_ops_conj = []\n",
    "for i in range(4):\n",
    "    for j in range(4):\n",
    "        if i == 0 and j == 0:\n",
    "            kraus_inv_ops_conj.append(sqrt(1 + eps_inv) * paulis_2q[i][j].conjugate())\n",
    "        else:\n",
    "            kraus_inv_ops_conj.append(sqrt(eps_inv / 15) * paulis_2q[i][j].conjugate())"
   ]
  },
  {
   "cell_type": "code",
   "execution_count": 172,
   "metadata": {},
   "outputs": [],
   "source": [
    "K_inv = zeros(16, 16)\n",
    "for i, (op, op_conj) in enumerate(zip(kraus_inv_ops, kraus_inv_ops_conj)):\n",
    "    if i == 0:\n",
    "        K_inv = K_inv + kronecker_product(op, op_conj)\n",
    "    else:\n",
    "        K_inv = K_inv - kronecker_product(op, op_conj)\n",
    "K_inv = simplify(K_inv)"
   ]
  },
  {
   "cell_type": "code",
   "execution_count": 174,
   "metadata": {},
   "outputs": [
    {
     "data": {
      "text/plain": [
       "True"
      ]
     },
     "execution_count": 174,
     "metadata": {},
     "output_type": "execute_result"
    }
   ],
   "source": [
    "K_inv == simplify(K.inv())"
   ]
  },
  {
   "cell_type": "code",
   "execution_count": null,
   "metadata": {},
   "outputs": [],
   "source": []
  },
  {
   "cell_type": "code",
   "execution_count": null,
   "metadata": {},
   "outputs": [],
   "source": []
  },
  {
   "cell_type": "code",
   "execution_count": null,
   "metadata": {},
   "outputs": [],
   "source": []
  },
  {
   "cell_type": "code",
   "execution_count": null,
   "metadata": {},
   "outputs": [],
   "source": []
  }
 ],
 "metadata": {
  "kernelspec": {
   "display_name": "base",
   "language": "python",
   "name": "python3"
  },
  "language_info": {
   "codemirror_mode": {
    "name": "ipython",
    "version": 3
   },
   "file_extension": ".py",
   "mimetype": "text/x-python",
   "name": "python",
   "nbconvert_exporter": "python",
   "pygments_lexer": "ipython3",
   "version": "3.8.18"
  }
 },
 "nbformat": 4,
 "nbformat_minor": 2
}
