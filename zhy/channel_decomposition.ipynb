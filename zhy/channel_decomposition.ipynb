{
 "cells": [
  {
   "cell_type": "code",
   "execution_count": 40,
   "metadata": {},
   "outputs": [],
   "source": [
    "import numpy as np\n",
    "import matplotlib.pyplot as plt\n",
    "import cirq"
   ]
  },
  {
   "cell_type": "code",
   "execution_count": 52,
   "metadata": {},
   "outputs": [],
   "source": [
    "p = 0.01\n",
    "sigma_x = cirq.unitary(cirq.X)\n",
    "sigma_y = cirq.unitary(cirq.Y)\n",
    "sigma_z = cirq.unitary(cirq.Z)\n",
    "sigma_i = cirq.unitary(cirq.I)\n",
    "hadamard = cirq.unitary(cirq.H)"
   ]
  },
  {
   "cell_type": "code",
   "execution_count": 72,
   "metadata": {},
   "outputs": [],
   "source": [
    "bit_flip_ops = [np.sqrt(1-p) * sigma_i, np.sqrt(p) * sigma_x]\n",
    "depolarizing_ops = [np.sqrt(1-p) * sigma_i, np.sqrt(p/3) * sigma_x, np.sqrt(p/3) * sigma_y, np.sqrt(p/3) * sigma_z]\n",
    "phase_flip_ops = [np.sqrt(1-p) * sigma_i, np.sqrt(p) * sigma_z]\n",
    "correlated_phase_flip_ops = [np.sqrt(1- 3/2*p) * np.kron(sigma_i, sigma_i), np.sqrt(p/2) * np.kron(sigma_z, sigma_i), np.sqrt(p/2) * np.kron(sigma_i, sigma_z), np.sqrt(p/2) * np.kron(sigma_z, sigma_z)]"
   ]
  },
  {
   "cell_type": "code",
   "execution_count": null,
   "metadata": {},
   "outputs": [],
   "source": []
  },
  {
   "cell_type": "code",
   "execution_count": 73,
   "metadata": {},
   "outputs": [],
   "source": [
    "def apply_channel(kraus_ops, opr):\n",
    "    return sum([np.dot(kraus_op, np.dot(opr, np.conj(kraus_op).T)) for kraus_op in kraus_ops])\n",
    "\n",
    "def kraus_to_affine(kraus_ops):\n",
    "    t = [np.trace(sigma @ apply_channel(kraus_ops, sigma_i)).real / 2 for sigma in (sigma_x, sigma_y, sigma_z)]\n",
    "    M = np.zeros((3, 3))\n",
    "    paulis = (sigma_x, sigma_y, sigma_z)\n",
    "    for i in range(3):\n",
    "        for j in range(3):\n",
    "            M[i, j] = np.trace(paulis[i] @ apply_channel(kraus_ops, paulis[j])).real / 2\n",
    "    return M, t\n",
    "\n",
    "def avg_fid_of_channel(kraus_ops):\n",
    "    M, _ = kraus_to_affine(kraus_ops)\n",
    "    return (1 + np.trace(M).real / 3) / 2"
   ]
  },
  {
   "cell_type": "markdown",
   "metadata": {},
   "source": [
    "Average fidelity should be $\\frac{1}{3} ( 1 + 2 \\langle a^* a \\rangle)$"
   ]
  },
  {
   "cell_type": "code",
   "execution_count": 74,
   "metadata": {},
   "outputs": [
    {
     "name": "stdout",
     "output_type": "stream",
     "text": [
      "0.9933333333333334\n"
     ]
    },
    {
     "data": {
      "text/plain": [
       "(array([[1.  , 0.  , 0.  ],\n",
       "        [0.  , 0.98, 0.  ],\n",
       "        [0.  , 0.  , 0.98]]),\n",
       " [0.0, 0.0, 0.0])"
      ]
     },
     "execution_count": 74,
     "metadata": {},
     "output_type": "execute_result"
    }
   ],
   "source": [
    "print(avg_fid_of_channel(bit_flip_ops))\n",
    "kraus_to_affine(bit_flip_ops)\n"
   ]
  },
  {
   "cell_type": "code",
   "execution_count": 75,
   "metadata": {},
   "outputs": [
    {
     "name": "stdout",
     "output_type": "stream",
     "text": [
      "0.9933333333333334\n"
     ]
    },
    {
     "data": {
      "text/plain": [
       "(array([[0.98666667, 0.        , 0.        ],\n",
       "        [0.        , 0.98666667, 0.        ],\n",
       "        [0.        , 0.        , 0.98666667]]),\n",
       " [0.0, 0.0, 0.0])"
      ]
     },
     "execution_count": 75,
     "metadata": {},
     "output_type": "execute_result"
    }
   ],
   "source": [
    "print(avg_fid_of_channel(depolarizing_ops))\n",
    "kraus_to_affine(depolarizing_ops)"
   ]
  },
  {
   "cell_type": "code",
   "execution_count": 77,
   "metadata": {},
   "outputs": [],
   "source": [
    "# print(avg_fid_of_channel(correlated_phase_flip_ops))\n",
    "# kraus_to_affine(correlated_phase_flip_ops)"
   ]
  },
  {
   "cell_type": "code",
   "execution_count": 57,
   "metadata": {},
   "outputs": [
    {
     "data": {
      "text/plain": [
       "0.9933333333333333"
      ]
     },
     "execution_count": 57,
     "metadata": {},
     "output_type": "execute_result"
    }
   ],
   "source": [
    "1- p + p/3"
   ]
  },
  {
   "cell_type": "code",
   "execution_count": 58,
   "metadata": {},
   "outputs": [
    {
     "data": {
      "text/plain": [
       "array([1.  , 0.98, 0.98])"
      ]
     },
     "execution_count": 58,
     "metadata": {},
     "output_type": "execute_result"
    }
   ],
   "source": [
    "np.linalg.eigvals(kraus_to_affine(bit_flip_ops)[0])"
   ]
  },
  {
   "cell_type": "code",
   "execution_count": 59,
   "metadata": {},
   "outputs": [
    {
     "data": {
      "text/plain": [
       "array([0.98666667, 0.98666667, 0.98666667])"
      ]
     },
     "execution_count": 59,
     "metadata": {},
     "output_type": "execute_result"
    }
   ],
   "source": [
    "np.linalg.eigvals(kraus_to_affine(depolarizing_ops)[0])"
   ]
  },
  {
   "cell_type": "code",
   "execution_count": null,
   "metadata": {},
   "outputs": [],
   "source": []
  },
  {
   "cell_type": "code",
   "execution_count": null,
   "metadata": {},
   "outputs": [],
   "source": []
  }
 ],
 "metadata": {
  "kernelspec": {
   "display_name": "base",
   "language": "python",
   "name": "python3"
  },
  "language_info": {
   "codemirror_mode": {
    "name": "ipython",
    "version": 3
   },
   "file_extension": ".py",
   "mimetype": "text/x-python",
   "name": "python",
   "nbconvert_exporter": "python",
   "pygments_lexer": "ipython3",
   "version": "3.8.18"
  }
 },
 "nbformat": 4,
 "nbformat_minor": 2
}
