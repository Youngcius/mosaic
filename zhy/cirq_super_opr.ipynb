{
 "cells": [
  {
   "cell_type": "code",
   "execution_count": 2,
   "metadata": {},
   "outputs": [],
   "source": [
    "import numpy as np\n",
    "import cirq"
   ]
  },
  {
   "cell_type": "markdown",
   "metadata": {},
   "source": [
    "**E.g., bit-flip channel**"
   ]
  },
  {
   "cell_type": "code",
   "execution_count": 9,
   "metadata": {},
   "outputs": [],
   "source": [
    "p = 0.01\n",
    "sigma_x = cirq.unitary(cirq.X)\n",
    "sigma_y = cirq.unitary(cirq.Y)\n",
    "sigma_z = cirq.unitary(cirq.Z)\n",
    "sigma_i = cirq.unitary(cirq.I)\n",
    "hadamard = cirq.unitary(cirq.H)"
   ]
  },
  {
   "cell_type": "code",
   "execution_count": 4,
   "metadata": {},
   "outputs": [
    {
     "data": {
      "text/plain": [
       "array([[0.99+0.j, 0.  +0.j, 0.  +0.j, 0.01+0.j],\n",
       "       [0.  +0.j, 0.99+0.j, 0.01+0.j, 0.  +0.j],\n",
       "       [0.  +0.j, 0.01+0.j, 0.99+0.j, 0.  +0.j],\n",
       "       [0.01+0.j, 0.  +0.j, 0.  +0.j, 0.99+0.j]])"
      ]
     },
     "execution_count": 4,
     "metadata": {},
     "output_type": "execute_result"
    }
   ],
   "source": [
    "super_opr = cirq.kraus_to_superoperator([\n",
    "    np.sqrt((1-p)) * sigma_i,\n",
    "    np.sqrt(p) * sigma_x\n",
    "])\n",
    "super_opr"
   ]
  },
  {
   "cell_type": "code",
   "execution_count": 5,
   "metadata": {},
   "outputs": [
    {
     "data": {
      "text/plain": [
       "array([[0.99+0.j, 0.  +0.j, 0.  +0.j, 0.99+0.j],\n",
       "       [0.  +0.j, 0.01+0.j, 0.01+0.j, 0.  +0.j],\n",
       "       [0.  +0.j, 0.01+0.j, 0.01+0.j, 0.  +0.j],\n",
       "       [0.99+0.j, 0.  +0.j, 0.  +0.j, 0.99+0.j]])"
      ]
     },
     "execution_count": 5,
     "metadata": {},
     "output_type": "execute_result"
    }
   ],
   "source": [
    "choi_mat = cirq.kraus_to_choi([\n",
    "    np.sqrt((1-p)) * sigma_i,\n",
    "    np.sqrt(p) * sigma_x\n",
    "])\n",
    "choi_mat"
   ]
  },
  {
   "cell_type": "code",
   "execution_count": 6,
   "metadata": {},
   "outputs": [
    {
     "data": {
      "text/plain": [
       "[array([[-0.00000000e+00+0.j,  1.31708902e-09+0.j],\n",
       "        [-1.31708902e-09+0.j,  0.00000000e+00+0.j]]),\n",
       " array([[ 0. +0.j, -0.1+0.j],\n",
       "        [-0.1+0.j,  0. +0.j]]),\n",
       " array([[-0.99498744+0.j,  0.        +0.j],\n",
       "        [ 0.        +0.j, -0.99498744+0.j]])]"
      ]
     },
     "execution_count": 6,
     "metadata": {},
     "output_type": "execute_result"
    }
   ],
   "source": [
    "cirq.superoperator_to_kraus(super_opr)"
   ]
  },
  {
   "cell_type": "code",
   "execution_count": 7,
   "metadata": {},
   "outputs": [
    {
     "data": {
      "text/plain": [
       "[array([[-0.00000000e+00+0.j,  1.31708902e-09+0.j],\n",
       "        [-1.31708902e-09+0.j,  0.00000000e+00+0.j]]),\n",
       " array([[ 0. +0.j, -0.1+0.j],\n",
       "        [-0.1+0.j,  0. +0.j]]),\n",
       " array([[-0.99498744+0.j,  0.        +0.j],\n",
       "        [ 0.        +0.j, -0.99498744+0.j]])]"
      ]
     },
     "execution_count": 7,
     "metadata": {},
     "output_type": "execute_result"
    }
   ],
   "source": [
    "cirq.choi_to_kraus(choi_mat)"
   ]
  },
  {
   "cell_type": "code",
   "execution_count": 8,
   "metadata": {},
   "outputs": [
    {
     "data": {
      "text/plain": [
       "array([[0.99+0.j, 0.  +0.j, 0.  +0.j, 0.01+0.j],\n",
       "       [0.  +0.j, 0.99+0.j, 0.01+0.j, 0.  +0.j],\n",
       "       [0.  +0.j, 0.01+0.j, 0.99+0.j, 0.  +0.j],\n",
       "       [0.01+0.j, 0.  +0.j, 0.  +0.j, 0.99+0.j]])"
      ]
     },
     "execution_count": 8,
     "metadata": {},
     "output_type": "execute_result"
    }
   ],
   "source": []
  },
  {
   "cell_type": "code",
   "execution_count": 53,
   "metadata": {},
   "outputs": [],
   "source": [
    "def conj_opr(opr, conj):\n",
    "    return conj @ opr @ conj.conj().T\n",
    "\n",
    "ops = [conj_opr(hadamard, pauli) for pauli in [sigma_i, sigma_x, sigma_y, sigma_z]]\n",
    "bit_flip = cirq.kraus_to_superoperator([\n",
    "    np.sqrt((1-p)) * sigma_i,\n",
    "    np.sqrt(p) * sigma_x\n",
    "])\n",
    "super_ops = [bit_flip @ cirq.kraus_to_superoperator([opr]) for opr in ops]"
   ]
  },
  {
   "cell_type": "code",
   "execution_count": 54,
   "metadata": {},
   "outputs": [],
   "source": [
    "coeffs = [1.0101351149324356, -0.00337837831080956, -0.003378378310809782, -0.003378378310809116]\n",
    "\n",
    "hadamard_synthesized = np.average(super_ops, weights=coeffs, axis=0)"
   ]
  },
  {
   "cell_type": "code",
   "execution_count": 55,
   "metadata": {},
   "outputs": [
    {
     "data": {
      "text/plain": [
       "0.02675675675676281"
      ]
     },
     "execution_count": 55,
     "metadata": {},
     "output_type": "execute_result"
    }
   ],
   "source": [
    "hadamard_super_opr = cirq.kraus_to_superoperator([hadamard])\n",
    "\n",
    "np.linalg.norm(hadamard_synthesized - hadamard_super_opr, 1)"
   ]
  },
  {
   "cell_type": "code",
   "execution_count": 68,
   "metadata": {},
   "outputs": [
    {
     "ename": "ValueError",
     "evalue": "Choi matrix must be positive, got one with eigenvalues [-2.04081633e-02  5.03069808e-17  1.11022302e-16  2.02040816e+00]",
     "output_type": "error",
     "traceback": [
      "\u001b[0;31m---------------------------------------------------------------------------\u001b[0m",
      "\u001b[0;31mValueError\u001b[0m                                Traceback (most recent call last)",
      "Cell \u001b[0;32mIn[68], line 1\u001b[0m\n\u001b[0;32m----> 1\u001b[0m cirq\u001b[38;5;241m.\u001b[39mis_cptp(kraus_ops\u001b[38;5;241m=\u001b[39m\u001b[43mcirq\u001b[49m\u001b[38;5;241;43m.\u001b[39;49m\u001b[43msuperoperator_to_kraus\u001b[49m\u001b[43m(\u001b[49m\u001b[43mnp\u001b[49m\u001b[38;5;241;43m.\u001b[39;49m\u001b[43mlinalg\u001b[49m\u001b[38;5;241;43m.\u001b[39;49m\u001b[43minv\u001b[49m\u001b[43m(\u001b[49m\u001b[43mbit_flip\u001b[49m\u001b[43m)\u001b[49m\u001b[43m)\u001b[49m)\n",
      "File \u001b[0;32m~/opt/miniconda3/lib/python3.8/site-packages/cirq/qis/channels.py:183\u001b[0m, in \u001b[0;36msuperoperator_to_kraus\u001b[0;34m(superoperator, atol)\u001b[0m\n\u001b[1;32m    147\u001b[0m \u001b[38;5;28;01mdef\u001b[39;00m \u001b[38;5;21msuperoperator_to_kraus\u001b[39m(superoperator: np\u001b[38;5;241m.\u001b[39mndarray, atol: \u001b[38;5;28mfloat\u001b[39m \u001b[38;5;241m=\u001b[39m \u001b[38;5;241m1e-10\u001b[39m) \u001b[38;5;241m-\u001b[39m\u001b[38;5;241m>\u001b[39m Sequence[np\u001b[38;5;241m.\u001b[39mndarray]:\n\u001b[1;32m    148\u001b[0m \u001b[38;5;250m    \u001b[39m\u001b[38;5;124mr\u001b[39m\u001b[38;5;124;03m\"\"\"Returns a Kraus representation of a channel specified via the superoperator matrix.\u001b[39;00m\n\u001b[1;32m    149\u001b[0m \n\u001b[1;32m    150\u001b[0m \u001b[38;5;124;03m    Quantum channel E: L(H1) -> L(H2) may be described by a collection of operators A_i, called\u001b[39;00m\n\u001b[0;32m   (...)\u001b[0m\n\u001b[1;32m    181\u001b[0m \u001b[38;5;124;03m        ValueError: If superoperator is not a valid superoperator matrix.\u001b[39;00m\n\u001b[1;32m    182\u001b[0m \u001b[38;5;124;03m    \"\"\"\u001b[39;00m\n\u001b[0;32m--> 183\u001b[0m     \u001b[38;5;28;01mreturn\u001b[39;00m \u001b[43mchoi_to_kraus\u001b[49m\u001b[43m(\u001b[49m\u001b[43msuperoperator_to_choi\u001b[49m\u001b[43m(\u001b[49m\u001b[43msuperoperator\u001b[49m\u001b[43m)\u001b[49m\u001b[43m,\u001b[49m\u001b[43m \u001b[49m\u001b[43matol\u001b[49m\u001b[38;5;241;43m=\u001b[39;49m\u001b[43matol\u001b[49m\u001b[43m)\u001b[49m\n",
      "File \u001b[0;32m~/opt/miniconda3/lib/python3.8/site-packages/cirq/qis/channels.py:102\u001b[0m, in \u001b[0;36mchoi_to_kraus\u001b[0;34m(choi, atol)\u001b[0m\n\u001b[1;32m    100\u001b[0m w, v \u001b[38;5;241m=\u001b[39m np\u001b[38;5;241m.\u001b[39mlinalg\u001b[38;5;241m.\u001b[39meigh(choi)\n\u001b[1;32m    101\u001b[0m \u001b[38;5;28;01mif\u001b[39;00m np\u001b[38;5;241m.\u001b[39many(w \u001b[38;5;241m<\u001b[39m \u001b[38;5;241m-\u001b[39matol):\n\u001b[0;32m--> 102\u001b[0m     \u001b[38;5;28;01mraise\u001b[39;00m \u001b[38;5;167;01mValueError\u001b[39;00m(\u001b[38;5;124mf\u001b[39m\u001b[38;5;124m\"\u001b[39m\u001b[38;5;124mChoi matrix must be positive, got one with eigenvalues \u001b[39m\u001b[38;5;132;01m{\u001b[39;00mw\u001b[38;5;132;01m}\u001b[39;00m\u001b[38;5;124m\"\u001b[39m)\n\u001b[1;32m    104\u001b[0m w \u001b[38;5;241m=\u001b[39m np\u001b[38;5;241m.\u001b[39mmaximum(w, \u001b[38;5;241m0\u001b[39m)\n\u001b[1;32m    105\u001b[0m u \u001b[38;5;241m=\u001b[39m np\u001b[38;5;241m.\u001b[39msqrt(w) \u001b[38;5;241m*\u001b[39m v\n",
      "\u001b[0;31mValueError\u001b[0m: Choi matrix must be positive, got one with eigenvalues [-2.04081633e-02  5.03069808e-17  1.11022302e-16  2.02040816e+00]"
     ]
    }
   ],
   "source": [
    "cirq.is_cptp(kraus_ops=cirq.superoperator_to_kraus(np.linalg.inv(bit_flip)))"
   ]
  },
  {
   "cell_type": "code",
   "execution_count": 71,
   "metadata": {},
   "outputs": [
    {
     "data": {
      "text/plain": [
       "[array([[-0.00000000e+00+0.j,  1.31708902e-09+0.j],\n",
       "        [-1.31708902e-09+0.j,  0.00000000e+00+0.j]]),\n",
       " array([[ 0. +0.j, -0.1+0.j],\n",
       "        [-0.1+0.j,  0. +0.j]]),\n",
       " array([[-0.99498744+0.j,  0.        +0.j],\n",
       "        [ 0.        +0.j, -0.99498744+0.j]])]"
      ]
     },
     "execution_count": 71,
     "metadata": {},
     "output_type": "execute_result"
    }
   ],
   "source": [
    "cirq.superoperator_to_kraus((bit_flip))"
   ]
  },
  {
   "cell_type": "code",
   "execution_count": null,
   "metadata": {},
   "outputs": [],
   "source": []
  },
  {
   "cell_type": "code",
   "execution_count": null,
   "metadata": {},
   "outputs": [],
   "source": []
  },
  {
   "cell_type": "code",
   "execution_count": null,
   "metadata": {},
   "outputs": [],
   "source": []
  }
 ],
 "metadata": {
  "kernelspec": {
   "display_name": "base",
   "language": "python",
   "name": "python3"
  },
  "language_info": {
   "codemirror_mode": {
    "name": "ipython",
    "version": 3
   },
   "file_extension": ".py",
   "mimetype": "text/x-python",
   "name": "python",
   "nbconvert_exporter": "python",
   "pygments_lexer": "ipython3",
   "version": "3.8.18"
  }
 },
 "nbformat": 4,
 "nbformat_minor": 2
}
