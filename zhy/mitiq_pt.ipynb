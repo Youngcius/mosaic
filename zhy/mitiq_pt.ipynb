{
 "cells": [
  {
   "cell_type": "code",
   "execution_count": 14,
   "metadata": {},
   "outputs": [],
   "source": [
    "import numpy as np\n",
    "import cirq\n",
    "import mitiq\n",
    "from mitiq import pt"
   ]
  },
  {
   "cell_type": "markdown",
   "metadata": {},
   "source": [
    "**Pauli Twirling in Mitiq**\n",
    "\n",
    "Pauli Twirling (PT) is an noise tailoring technique in which, in the Mitiq implementation, particularly noisy operations (e.g. CZ and CNOT) are transformed by independent, random, single-qubit gates inserted into the circuit such that the effective logical circuit remains unchanged but the noise is tailored towards stochastic Pauli errors. For more discussion of the theory of PT, see the section [What is the theory behind PT?](https://mitiq.readthedocs.io/en/stable/guide/pt-5-theory.html)."
   ]
  },
  {
   "cell_type": "code",
   "execution_count": 40,
   "metadata": {},
   "outputs": [
    {
     "data": {
      "text/html": [
       "<pre style=\"overflow: auto; white-space: pre;\">0: ───@───────────\n",
       "      │\n",
       "1: ───X───@───────\n",
       "          │\n",
       "2: ───────@───@───\n",
       "              │\n",
       "3: ───────────X───</pre>"
      ],
      "text/plain": [
       "0: ───@───────────\n",
       "      │\n",
       "1: ───X───@───────\n",
       "          │\n",
       "2: ───────@───@───\n",
       "              │\n",
       "3: ───────────X───"
      ]
     },
     "execution_count": 40,
     "metadata": {},
     "output_type": "execute_result"
    }
   ],
   "source": [
    "qubits = cirq.LineQubit.range(4)\n",
    "circ = cirq.Circuit([\n",
    "    cirq.CNOT.on(qubits[0], qubits[1]),\n",
    "    cirq.CZ.on(qubits[1], qubits[2]),\n",
    "    cirq.CNOT.on(qubits[2], qubits[3]),\n",
    "])\n",
    "circ"
   ]
  },
  {
   "cell_type": "code",
   "execution_count": 41,
   "metadata": {},
   "outputs": [],
   "source": [
    "def execute(circ: cirq.Circuit, r=0.1):\n",
    "    sim = cirq.DensityMatrixSimulator()\n",
    "    circ_noisy = circ.with_noise(cirq.amplitude_damp(r))\n",
    "    rho = sim.simulate(circ_noisy).final_density_matrix\n",
    "    return rho[0, 0].real"
   ]
  },
  {
   "cell_type": "code",
   "execution_count": 42,
   "metadata": {},
   "outputs": [
    {
     "name": "stdout",
     "output_type": "stream",
     "text": [
      "ideal: 1.0, noisy: 1.0\n"
     ]
    }
   ],
   "source": [
    "val_ideal = execute(circ, 0)\n",
    "val_noisy = execute(circ, 0.1)\n",
    "print(f'ideal: {val_ideal}, noisy: {val_noisy}')"
   ]
  },
  {
   "cell_type": "code",
   "execution_count": 43,
   "metadata": {},
   "outputs": [
    {
     "data": {
      "text/plain": [
       "10"
      ]
     },
     "execution_count": 43,
     "metadata": {},
     "output_type": "execute_result"
    }
   ],
   "source": [
    "twirled_result = pt.pauli_twirl_circuit(circ)\n",
    "len(twirled_result)"
   ]
  },
  {
   "cell_type": "code",
   "execution_count": 46,
   "metadata": {},
   "outputs": [
    {
     "data": {
      "text/html": [
       "<pre style=\"overflow: auto; white-space: pre;\">0: ───Z───@───I───────────────────────────\n",
       "          │\n",
       "1: ───Y───X───Y───I───@───I───────────────\n",
       "                      │\n",
       "2: ───────────────Z───@───Z───I───@───I───\n",
       "                                  │\n",
       "3: ───────────────────────────I───X───I───</pre>"
      ],
      "text/plain": [
       "0: ───Z───@───I───────────────────────────\n",
       "          │\n",
       "1: ───Y───X───Y───I───@───I───────────────\n",
       "                      │\n",
       "2: ───────────────Z───@───Z───I───@───I───\n",
       "                                  │\n",
       "3: ───────────────────────────I───X───I───"
      ]
     },
     "execution_count": 46,
     "metadata": {},
     "output_type": "execute_result"
    }
   ],
   "source": [
    "twirled_result[-1]"
   ]
  },
  {
   "cell_type": "code",
   "execution_count": 56,
   "metadata": {},
   "outputs": [
    {
     "name": "stdout",
     "output_type": "stream",
     "text": [
      "0.8463766 0.1536234\n",
      "0.9143942 0.0856058\n",
      "0.8748287 0.1251713\n",
      "0.86202633 0.13797367\n",
      "0.86294866 0.13705134\n",
      "0.87156224 0.12843776\n",
      "0.8479244 0.15207559\n",
      "0.7970738 0.20292622\n",
      "0.7970738 0.20292622\n",
      "0.95224816 0.047751844\n"
     ]
    }
   ],
   "source": [
    "for circ in twirled_result:\n",
    "    val_twirled = execute(circ, 0.03)\n",
    "    print(val_twirled, abs(val_twirled - val_ideal))"
   ]
  },
  {
   "cell_type": "code",
   "execution_count": 62,
   "metadata": {},
   "outputs": [
    {
     "data": {
      "text/plain": [
       "[0.8463765978813171,\n",
       " 0.914394199848175,\n",
       " 0.8748286962509155,\n",
       " 0.8620263338088989,\n",
       " 0.8629486560821533,\n",
       " 0.8715622425079346,\n",
       " 0.8479244112968445,\n",
       " 0.7970737814903259,\n",
       " 0.7970737814903259,\n",
       " 0.9522481560707092]"
      ]
     },
     "execution_count": 62,
     "metadata": {},
     "output_type": "execute_result"
    }
   ],
   "source": [
    "from functools import partial\n",
    "executor = mitiq.Executor(partial(execute, r=0.03))\n",
    "vals = executor.evaluate(twirled_result)\n",
    "vals\n"
   ]
  },
  {
   "cell_type": "code",
   "execution_count": 63,
   "metadata": {},
   "outputs": [
    {
     "data": {
      "text/plain": [
       "0.86264568567276"
      ]
     },
     "execution_count": 63,
     "metadata": {},
     "output_type": "execute_result"
    }
   ],
   "source": [
    "np.mean(vals)"
   ]
  },
  {
   "cell_type": "code",
   "execution_count": 70,
   "metadata": {},
   "outputs": [
    {
     "name": "stdout",
     "output_type": "stream",
     "text": [
      "complement\n",
      "\n",
      "\u001b[1m补充\u001b[22m\n",
      "\u001b[1m(Bǔchōng)\u001b[22m\n",
      "\n",
      "Definitions of \u001b[4mcomplement\u001b[24m\n",
      "[ \u001b[4mEnglish\u001b[24m -> \u001b[1m简体中文\u001b[22m ]\n",
      "\n",
      "verb\n",
      "\u001b[1m    补充\u001b[22m\n",
      "        supplement, complement, add, replenish\n",
      "\u001b[1m    辅\u001b[22m\n",
      "        assist, complement, supplement\n",
      "\n",
      "noun\n",
      "\u001b[1m    补语\u001b[22m\n",
      "        complement\n",
      "\u001b[1m    辅\u001b[22m\n",
      "        complement\n",
      "\u001b[1m    补体\u001b[22m\n",
      "        complement\n",
      "\n",
      "\u001b[4mcomplement\u001b[24m\n",
      "    \u001b[1m\u001b[22m, \u001b[1m补语\u001b[22m, \u001b[1m补足\u001b[22m\n"
     ]
    }
   ],
   "source": [
    "!trans :zh complement"
   ]
  },
  {
   "cell_type": "code",
   "execution_count": null,
   "metadata": {},
   "outputs": [],
   "source": []
  },
  {
   "cell_type": "code",
   "execution_count": null,
   "metadata": {},
   "outputs": [],
   "source": []
  }
 ],
 "metadata": {
  "kernelspec": {
   "display_name": "base",
   "language": "python",
   "name": "python3"
  },
  "language_info": {
   "codemirror_mode": {
    "name": "ipython",
    "version": 3
   },
   "file_extension": ".py",
   "mimetype": "text/x-python",
   "name": "python",
   "nbconvert_exporter": "python",
   "pygments_lexer": "ipython3",
   "version": "3.8.18"
  }
 },
 "nbformat": 4,
 "nbformat_minor": 2
}
