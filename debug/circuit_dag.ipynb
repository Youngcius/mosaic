{
 "cells": [
  {
   "cell_type": "code",
   "execution_count": 1,
   "metadata": {},
   "source": [
    "import sys\n",
    "sys.path.append('..')\n",
    "\n",
    "import cirq\n",
    "import matplotlib.pyplot as plt\n",
    "\n",
    "from daqec import graphs, circuits, passes"
   ],
   "outputs": []
  },
  {
   "cell_type": "markdown",
   "metadata": {},
   "source": [
    "**Demo circuit**"
   ]
  },
  {
   "cell_type": "code",
   "execution_count": 2,
   "metadata": {},
   "source": [
    "\n",
    "circ = cirq.Circuit()\n",
    "\n",
    "qubits = cirq.LineQubit.range(3)\n",
    "circ.append(cirq.X.on(qubits[0]))\n",
    "circ.append(cirq.X.on(qubits[2]))\n",
    "circ.append(cirq.CNOT(*qubits[:2]))\n",
    "circ.append(cirq.CNOT(*qubits[1:]))\n",
    "\n",
    "print(circ)"
   ],
   "outputs": []
  },
  {
   "cell_type": "code",
   "execution_count": 3,
   "metadata": {},
   "source": [
    "dag = circuits.circuit_to_dag(circ)"
   ],
   "outputs": []
  },
  {
   "cell_type": "code",
   "execution_count": 4,
   "metadata": {},
   "source": [
    "graphs.draw_circ_dag_mpl(dag, figsize=(5, 3))"
   ],
   "outputs": []
  },
  {
   "cell_type": "code",
   "execution_count": 5,
   "metadata": {},
   "source": [
    "graphs.draw_circ_dag_graphviz(dag)\n"
   ],
   "outputs": []
  },
  {
   "cell_type": "code",
   "execution_count": 6,
   "metadata": {},
   "source": [
    "circuits.dag_to_circuit(dag)"
   ],
   "outputs": []
  },
  {
   "cell_type": "code",
   "execution_count": 7,
   "metadata": {},
   "source": [
    "dag_contracted = passes.contract_1q_gates_on_dag(dag)\n"
   ],
   "outputs": []
  },
  {
   "cell_type": "code",
   "execution_count": 8,
   "metadata": {},
   "source": [
    "graphs.draw_circ_dag_mpl(dag_contracted, figsize=(5, 3))"
   ],
   "outputs": []
  },
  {
   "cell_type": "code",
   "execution_count": 9,
   "metadata": {},
   "source": [
    "graphs.draw_circ_dag_graphviz(dag_contracted)"
   ],
   "outputs": []
  },
  {
   "cell_type": "code",
   "execution_count": 10,
   "metadata": {},
   "source": [
    "dag_contracted.nodes()[1]"
   ],
   "outputs": []
  },
  {
   "cell_type": "markdown",
   "metadata": {},
   "source": [
    "**Practical circuit**"
   ]
  },
  {
   "cell_type": "code",
   "execution_count": 15,
   "metadata": {},
   "source": [
    "from cirq.contrib.qasm_import import circuit_from_qasm\n",
    "\n",
    "qasm_file = '../benchmarks/random/rand_8.qasm'\n",
    "\n",
    "with open(qasm_file, 'r') as f:\n",
    "    circ = circuit_from_qasm(f.read())"
   ],
   "outputs": []
  },
  {
   "cell_type": "code",
   "execution_count": 16,
   "metadata": {},
   "source": [
    "circ = circ[:10]\n",
    "circ"
   ],
   "outputs": []
  },
  {
   "cell_type": "code",
   "execution_count": 17,
   "metadata": {},
   "source": [
    "dag = circuits.circuit_to_dag(circ)\n"
   ],
   "outputs": []
  },
  {
   "cell_type": "code",
   "execution_count": 18,
   "metadata": {},
   "source": [
    "graphs.draw_circ_dag_mpl(dag)\n"
   ],
   "outputs": []
  },
  {
   "cell_type": "code",
   "execution_count": 20,
   "metadata": {},
   "source": [
    "graphs.draw_circ_dag_graphviz(dag)"
   ],
   "outputs": []
  },
  {
   "cell_type": "code",
   "execution_count": null,
   "metadata": {},
   "source": [],
   "outputs": []
  }
 ],
 "metadata": {
  "kernelspec": {
   "display_name": "base",
   "language": "python",
   "name": "python3"
  },
  "language_info": {
   "codemirror_mode": {
    "name": "ipython",
    "version": 3
   },
   "file_extension": ".py",
   "mimetype": "text/x-python",
   "name": "python",
   "nbconvert_exporter": "python",
   "pygments_lexer": "ipython3",
   "version": "3.8.18"
  }
 },
 "nbformat": 4,
 "nbformat_minor": 2
}
